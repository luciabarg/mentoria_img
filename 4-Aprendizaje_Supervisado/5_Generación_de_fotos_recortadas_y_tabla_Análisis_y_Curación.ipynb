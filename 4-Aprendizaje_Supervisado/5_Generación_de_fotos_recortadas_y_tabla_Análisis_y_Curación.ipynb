{
  "nbformat": 4,
  "nbformat_minor": 0,
  "metadata": {
    "kernelspec": {
      "display_name": "Python 3",
      "language": "python",
      "name": "python3"
    },
    "language_info": {
      "codemirror_mode": {
        "name": "ipython",
        "version": 3
      },
      "file_extension": ".py",
      "mimetype": "text/x-python",
      "name": "python",
      "nbconvert_exporter": "python",
      "pygments_lexer": "ipython3",
      "version": "3.7.6"
    },
    "colab": {
      "name": "5-Generación_de_fotos_recortadas_y_tabla-Análisis_y_Curación.ipynb",
      "provenance": [],
      "collapsed_sections": [],
      "include_colab_link": true
    }
  },
  "cells": [
    {
      "cell_type": "markdown",
      "metadata": {
        "id": "view-in-github",
        "colab_type": "text"
      },
      "source": [
        "<a href=\"https://colab.research.google.com/github/luciabarg/mentoria_img/blob/master/4-Aprendizaje_Supervisado/5_Generaci%C3%B3n_de_fotos_recortadas_y_tabla_An%C3%A1lisis_y_Curaci%C3%B3n.ipynb\" target=\"_parent\"><img src=\"https://colab.research.google.com/assets/colab-badge.svg\" alt=\"Open In Colab\"/></a>"
      ]
    },
    {
      "cell_type": "markdown",
      "metadata": {
        "id": "d_u_OLIYQxHd"
      },
      "source": [
        "<center>\n",
        "<h4>Universidad Nacional de Córdoba - Facultad de Matemática, Astronomía, Física y Computación </h4>\n",
        "<h3>Diplomatura en Ciencia de Datos, Aprendizaje Automático y sus Aplicaciones</h3>\n",
        "<h2>Mentoría: Detección de objetos en imágenes</h2>\n",
        "</center>\n"
      ]
    },
    {
      "cell_type": "markdown",
      "metadata": {
        "id": "2IqCQqvVHvO6"
      },
      "source": [
        "En la siguiente notebook, incorporaremos parte de lo realizado en las entregas 1 de los grupos de estudiantes: \n",
        "\n",
        "* [Grupo 1](https://github.com/Ana1890/Deteccion-de-objetos-en-imagenes) : Ana Rusconi, Ignacio Grosso y  Mariano Lucero\n",
        "\n",
        "* [Grupo 2](https://github.com/leorodriguez/mentoria-diplodatos-grupo2):  Diego Gonzalez, Florencia Caballero, Joel Vivas y Leonardo Rodriguez\n"
      ]
    },
    {
      "cell_type": "markdown",
      "metadata": {
        "id": "E6iN3kWoUk5v"
      },
      "source": [
        "#### <a name=\"generacion_tabla\"></a>\n",
        "#### **Generación imágenes recortadas y tabla de features**"
      ]
    },
    {
      "cell_type": "markdown",
      "metadata": {
        "id": "D0QkIhKYKODL"
      },
      "source": [
        "En las entregas anteriores tuvieron la oportunidad de explorar una pequeña muestra de las imágenes para que el análisis sea mas representativo del conjunto de datos total, en esta entrega utilizaremos el dataset completo.\n",
        "\n",
        "Esta notebook es para que vean como se la genera a las imágenes y la tabla que utilizarán en la siguiente notebook '[6-Aprendizaje Supervisado](https://colab.research.google.com/drive/1tVQh9u-HdyqQprkWqGoU1jikswD_Xq5d?usp=sharing)'\n",
        "\n",
        "La carpeta con los datos, es compartida en el [Drive](https://drive.google.com/drive/folders/1-bl3h1g1WROMmz66A2h7t2n3leTjhYxH?usp=sharing) y en el desarrollo de esta entrega con las consignas, se utilizará la misma en el entorno de Colab, pero también estarán en el repositorio de Github de la mentoría, en la [carpeta del práctico](https://github.com/luciabarg/mentoria_img/tree/master/4-Aprendizaje%20Supervisado)."
      ]
    },
    {
      "cell_type": "markdown",
      "metadata": {
        "id": "ddLhX1-R-ZHO"
      },
      "source": [
        "La siguiente notebook usa como entorno Colab:"
      ]
    },
    {
      "cell_type": "code",
      "metadata": {
        "id": "eI5MO4Ek-ctR",
        "outputId": "bbe0787e-4a1c-488c-a9f8-2bec412d88e3",
        "colab": {
          "base_uri": "https://localhost:8080/",
          "height": 34
        }
      },
      "source": [
        "#vinculamos el Drive\n",
        "from google.colab import drive\n",
        "drive.mount('/content/drive')"
      ],
      "execution_count": 2,
      "outputs": [
        {
          "output_type": "stream",
          "text": [
            "Mounted at /content/drive\n"
          ],
          "name": "stdout"
        }
      ]
    },
    {
      "cell_type": "code",
      "metadata": {
        "id": "P78hPxhS-gZS"
      },
      "source": [
        "# librerías necesarias \n",
        "import os\n",
        "from IPython.display import Image as Imge\n",
        "import pandas as pd\n",
        "import numpy as np\n",
        "import glob\n",
        "\n",
        "#seguimos agregando librerías necesarias:\n",
        "#las que no tengan, vayan instalándolas\n",
        "import cv2\n",
        "import numpy as np\n",
        "\n",
        "import matplotlib.pyplot as plt\n",
        "import PIL\n",
        "from PIL import Image\n",
        "from os import path\n",
        "\n",
        "from google.colab.patches import cv2_imshow #en Colab!\n",
        "\n",
        "import seaborn as sns\n",
        "\n",
        "import re\n",
        "\n",
        "import json"
      ],
      "execution_count": 5,
      "outputs": []
    },
    {
      "cell_type": "code",
      "metadata": {
        "id": "dPbmNI7s9lF7",
        "outputId": "3eec351f-d9c4-4a5a-bbd3-fc5a7623b39f",
        "colab": {
          "base_uri": "https://localhost:8080/",
          "height": 68
        }
      },
      "source": [
        "#nos posicionamos en la carpeta donde se encuentra la tabla:\n",
        "os.chdir('/content/drive/My Drive/Mentoria/crop')\n",
        "#listamos solo las carpetas\n",
        "! ls -d */\n",
        "! ls -d */*/"
      ],
      "execution_count": 10,
      "outputs": [
        {
          "output_type": "stream",
          "text": [
            "Amarillos/  Mano-Amarillo/  Manos/  Mano-Verde/  Verdes/\n",
            "Mano-Amarillo/Amarillo/  Mano-Verde/Mano/\n",
            "Mano-Amarillo/Mano/\t Mano-Verde/Verde/\n"
          ],
          "name": "stdout"
        }
      ]
    },
    {
      "cell_type": "markdown",
      "metadata": {
        "id": "ddmFFeQX_07W"
      },
      "source": [
        "Para que se hagan una idea de los datos que vamos a generar, los visualizamos con una tabla:"
      ]
    },
    {
      "cell_type": "code",
      "metadata": {
        "id": "dk0d8VNdudFk",
        "outputId": "a48f4cdc-8e55-420b-e627-bfa452e68bd2",
        "colab": {
          "base_uri": "https://localhost:8080/",
          "height": 270
        }
      },
      "source": [
        "#leemos el archivo de la tabla:\n",
        "csv_wlabels_df = pd.read_csv('csv_wlabels_all_df.csv', index_col=0)\n",
        "print(csv_wlabels_df.shape)\n",
        "csv_wlabels_df.head()"
      ],
      "execution_count": 11,
      "outputs": [
        {
          "output_type": "stream",
          "text": [
            "(15197, 2061)\n"
          ],
          "name": "stdout"
        },
        {
          "output_type": "execute_result",
          "data": {
            "text/html": [
              "<div>\n",
              "<style scoped>\n",
              "    .dataframe tbody tr th:only-of-type {\n",
              "        vertical-align: middle;\n",
              "    }\n",
              "\n",
              "    .dataframe tbody tr th {\n",
              "        vertical-align: top;\n",
              "    }\n",
              "\n",
              "    .dataframe thead th {\n",
              "        text-align: right;\n",
              "    }\n",
              "</style>\n",
              "<table border=\"1\" class=\"dataframe\">\n",
              "  <thead>\n",
              "    <tr style=\"text-align: right;\">\n",
              "      <th></th>\n",
              "      <th>filename</th>\n",
              "      <th>xmin</th>\n",
              "      <th>xmax</th>\n",
              "      <th>ymin</th>\n",
              "      <th>ymax</th>\n",
              "      <th>Time</th>\n",
              "      <th>Size</th>\n",
              "      <th>Type</th>\n",
              "      <th>Hand_Pixel_Width</th>\n",
              "      <th>Hand_Pixel_Height</th>\n",
              "      <th>Area</th>\n",
              "      <th>guantes</th>\n",
              "      <th>color</th>\n",
              "      <th>0</th>\n",
              "      <th>1</th>\n",
              "      <th>2</th>\n",
              "      <th>3</th>\n",
              "      <th>4</th>\n",
              "      <th>5</th>\n",
              "      <th>6</th>\n",
              "      <th>7</th>\n",
              "      <th>8</th>\n",
              "      <th>9</th>\n",
              "      <th>10</th>\n",
              "      <th>11</th>\n",
              "      <th>12</th>\n",
              "      <th>13</th>\n",
              "      <th>14</th>\n",
              "      <th>15</th>\n",
              "      <th>16</th>\n",
              "      <th>17</th>\n",
              "      <th>18</th>\n",
              "      <th>19</th>\n",
              "      <th>20</th>\n",
              "      <th>21</th>\n",
              "      <th>22</th>\n",
              "      <th>23</th>\n",
              "      <th>24</th>\n",
              "      <th>25</th>\n",
              "      <th>26</th>\n",
              "      <th>...</th>\n",
              "      <th>2008</th>\n",
              "      <th>2009</th>\n",
              "      <th>2010</th>\n",
              "      <th>2011</th>\n",
              "      <th>2012</th>\n",
              "      <th>2013</th>\n",
              "      <th>2014</th>\n",
              "      <th>2015</th>\n",
              "      <th>2016</th>\n",
              "      <th>2017</th>\n",
              "      <th>2018</th>\n",
              "      <th>2019</th>\n",
              "      <th>2020</th>\n",
              "      <th>2021</th>\n",
              "      <th>2022</th>\n",
              "      <th>2023</th>\n",
              "      <th>2024</th>\n",
              "      <th>2025</th>\n",
              "      <th>2026</th>\n",
              "      <th>2027</th>\n",
              "      <th>2028</th>\n",
              "      <th>2029</th>\n",
              "      <th>2030</th>\n",
              "      <th>2031</th>\n",
              "      <th>2032</th>\n",
              "      <th>2033</th>\n",
              "      <th>2034</th>\n",
              "      <th>2035</th>\n",
              "      <th>2036</th>\n",
              "      <th>2037</th>\n",
              "      <th>2038</th>\n",
              "      <th>2039</th>\n",
              "      <th>2040</th>\n",
              "      <th>2041</th>\n",
              "      <th>2042</th>\n",
              "      <th>2043</th>\n",
              "      <th>2044</th>\n",
              "      <th>2045</th>\n",
              "      <th>2046</th>\n",
              "      <th>2047</th>\n",
              "    </tr>\n",
              "  </thead>\n",
              "  <tbody>\n",
              "    <tr>\n",
              "      <th>0</th>\n",
              "      <td>M_G_Mostrando_Amarillos_0_double_box1.jpg</td>\n",
              "      <td>218</td>\n",
              "      <td>461</td>\n",
              "      <td>464</td>\n",
              "      <td>715</td>\n",
              "      <td>M</td>\n",
              "      <td>G</td>\n",
              "      <td>train</td>\n",
              "      <td>243</td>\n",
              "      <td>251</td>\n",
              "      <td>60993</td>\n",
              "      <td>si</td>\n",
              "      <td>Amarillo</td>\n",
              "      <td>0.740974</td>\n",
              "      <td>1.066019</td>\n",
              "      <td>0.132695</td>\n",
              "      <td>0.224892</td>\n",
              "      <td>0.140456</td>\n",
              "      <td>0.129134</td>\n",
              "      <td>0.201447</td>\n",
              "      <td>1.076733</td>\n",
              "      <td>0.461108</td>\n",
              "      <td>0.299800</td>\n",
              "      <td>0.457940</td>\n",
              "      <td>0.201904</td>\n",
              "      <td>0.569677</td>\n",
              "      <td>0.737381</td>\n",
              "      <td>0.480929</td>\n",
              "      <td>0.200076</td>\n",
              "      <td>0.018410</td>\n",
              "      <td>0.674050</td>\n",
              "      <td>0.028826</td>\n",
              "      <td>0.005310</td>\n",
              "      <td>0.128693</td>\n",
              "      <td>0.592353</td>\n",
              "      <td>0.138541</td>\n",
              "      <td>0.141684</td>\n",
              "      <td>0.363294</td>\n",
              "      <td>0.264674</td>\n",
              "      <td>0.519292</td>\n",
              "      <td>...</td>\n",
              "      <td>0.463567</td>\n",
              "      <td>0.091676</td>\n",
              "      <td>0.300955</td>\n",
              "      <td>0.696112</td>\n",
              "      <td>2.409413</td>\n",
              "      <td>0.536980</td>\n",
              "      <td>0.102273</td>\n",
              "      <td>0.157441</td>\n",
              "      <td>0.165093</td>\n",
              "      <td>1.067619</td>\n",
              "      <td>0.751934</td>\n",
              "      <td>0.231443</td>\n",
              "      <td>0.487437</td>\n",
              "      <td>0.446320</td>\n",
              "      <td>0.822407</td>\n",
              "      <td>0.527523</td>\n",
              "      <td>0.217110</td>\n",
              "      <td>0.489194</td>\n",
              "      <td>1.535306</td>\n",
              "      <td>0.521390</td>\n",
              "      <td>0.599480</td>\n",
              "      <td>0.201182</td>\n",
              "      <td>0.391337</td>\n",
              "      <td>0.040206</td>\n",
              "      <td>1.347440</td>\n",
              "      <td>0.448389</td>\n",
              "      <td>0.462778</td>\n",
              "      <td>0.590751</td>\n",
              "      <td>0.877142</td>\n",
              "      <td>0.009986</td>\n",
              "      <td>0.939221</td>\n",
              "      <td>0.859877</td>\n",
              "      <td>0.981910</td>\n",
              "      <td>0.356366</td>\n",
              "      <td>1.748501</td>\n",
              "      <td>0.288037</td>\n",
              "      <td>0.079172</td>\n",
              "      <td>0.266234</td>\n",
              "      <td>0.078312</td>\n",
              "      <td>0.421612</td>\n",
              "    </tr>\n",
              "    <tr>\n",
              "      <th>1</th>\n",
              "      <td>M_G_Mostrando_Amarillos_0_double_box2.jpg</td>\n",
              "      <td>617</td>\n",
              "      <td>865</td>\n",
              "      <td>432</td>\n",
              "      <td>598</td>\n",
              "      <td>M</td>\n",
              "      <td>G</td>\n",
              "      <td>train</td>\n",
              "      <td>248</td>\n",
              "      <td>166</td>\n",
              "      <td>41168</td>\n",
              "      <td>si</td>\n",
              "      <td>Amarillo</td>\n",
              "      <td>1.621832</td>\n",
              "      <td>0.208859</td>\n",
              "      <td>0.627041</td>\n",
              "      <td>0.061717</td>\n",
              "      <td>0.052486</td>\n",
              "      <td>0.064176</td>\n",
              "      <td>0.479256</td>\n",
              "      <td>1.068516</td>\n",
              "      <td>0.509059</td>\n",
              "      <td>0.207385</td>\n",
              "      <td>0.218195</td>\n",
              "      <td>0.169190</td>\n",
              "      <td>0.695486</td>\n",
              "      <td>0.237641</td>\n",
              "      <td>0.146711</td>\n",
              "      <td>0.126334</td>\n",
              "      <td>0.029900</td>\n",
              "      <td>0.148363</td>\n",
              "      <td>0.126833</td>\n",
              "      <td>0.181351</td>\n",
              "      <td>0.044585</td>\n",
              "      <td>0.447270</td>\n",
              "      <td>0.134360</td>\n",
              "      <td>0.113650</td>\n",
              "      <td>1.153900</td>\n",
              "      <td>0.653832</td>\n",
              "      <td>0.041024</td>\n",
              "      <td>...</td>\n",
              "      <td>0.816892</td>\n",
              "      <td>0.027489</td>\n",
              "      <td>0.183116</td>\n",
              "      <td>0.626535</td>\n",
              "      <td>1.734605</td>\n",
              "      <td>0.672962</td>\n",
              "      <td>0.030057</td>\n",
              "      <td>0.101685</td>\n",
              "      <td>0.295544</td>\n",
              "      <td>0.392251</td>\n",
              "      <td>0.874054</td>\n",
              "      <td>0.105285</td>\n",
              "      <td>0.110713</td>\n",
              "      <td>0.421417</td>\n",
              "      <td>1.335695</td>\n",
              "      <td>0.500971</td>\n",
              "      <td>1.139208</td>\n",
              "      <td>0.110803</td>\n",
              "      <td>0.850265</td>\n",
              "      <td>0.618181</td>\n",
              "      <td>0.077352</td>\n",
              "      <td>0.376629</td>\n",
              "      <td>0.319234</td>\n",
              "      <td>0.783792</td>\n",
              "      <td>0.427963</td>\n",
              "      <td>0.133063</td>\n",
              "      <td>0.064981</td>\n",
              "      <td>0.017857</td>\n",
              "      <td>0.320706</td>\n",
              "      <td>0.219192</td>\n",
              "      <td>1.199712</td>\n",
              "      <td>0.808466</td>\n",
              "      <td>0.491182</td>\n",
              "      <td>0.356616</td>\n",
              "      <td>0.812572</td>\n",
              "      <td>0.481357</td>\n",
              "      <td>0.071471</td>\n",
              "      <td>0.572322</td>\n",
              "      <td>0.052072</td>\n",
              "      <td>0.213453</td>\n",
              "    </tr>\n",
              "    <tr>\n",
              "      <th>2</th>\n",
              "      <td>M_G_Mostrando_Amarillos_100_double_box1.jpg</td>\n",
              "      <td>831</td>\n",
              "      <td>1138</td>\n",
              "      <td>256</td>\n",
              "      <td>408</td>\n",
              "      <td>M</td>\n",
              "      <td>G</td>\n",
              "      <td>train</td>\n",
              "      <td>307</td>\n",
              "      <td>152</td>\n",
              "      <td>46664</td>\n",
              "      <td>si</td>\n",
              "      <td>Amarillo</td>\n",
              "      <td>1.029100</td>\n",
              "      <td>0.246964</td>\n",
              "      <td>0.825601</td>\n",
              "      <td>0.460009</td>\n",
              "      <td>0.467037</td>\n",
              "      <td>0.339540</td>\n",
              "      <td>0.653041</td>\n",
              "      <td>1.324649</td>\n",
              "      <td>0.890402</td>\n",
              "      <td>0.488183</td>\n",
              "      <td>0.639772</td>\n",
              "      <td>0.085819</td>\n",
              "      <td>0.928661</td>\n",
              "      <td>0.148958</td>\n",
              "      <td>0.066155</td>\n",
              "      <td>0.125391</td>\n",
              "      <td>0.191808</td>\n",
              "      <td>0.506981</td>\n",
              "      <td>0.257565</td>\n",
              "      <td>0.073959</td>\n",
              "      <td>0.115524</td>\n",
              "      <td>0.552251</td>\n",
              "      <td>0.764911</td>\n",
              "      <td>0.047104</td>\n",
              "      <td>0.207601</td>\n",
              "      <td>0.126297</td>\n",
              "      <td>0.286010</td>\n",
              "      <td>...</td>\n",
              "      <td>0.367434</td>\n",
              "      <td>0.436251</td>\n",
              "      <td>0.000000</td>\n",
              "      <td>0.863331</td>\n",
              "      <td>0.112969</td>\n",
              "      <td>0.902164</td>\n",
              "      <td>0.040710</td>\n",
              "      <td>0.467132</td>\n",
              "      <td>0.242757</td>\n",
              "      <td>0.853286</td>\n",
              "      <td>0.677067</td>\n",
              "      <td>0.300664</td>\n",
              "      <td>0.587456</td>\n",
              "      <td>0.112658</td>\n",
              "      <td>1.077973</td>\n",
              "      <td>0.144736</td>\n",
              "      <td>0.294853</td>\n",
              "      <td>0.065939</td>\n",
              "      <td>0.708062</td>\n",
              "      <td>1.192815</td>\n",
              "      <td>0.317312</td>\n",
              "      <td>0.421216</td>\n",
              "      <td>0.425882</td>\n",
              "      <td>1.091190</td>\n",
              "      <td>0.595093</td>\n",
              "      <td>0.138662</td>\n",
              "      <td>0.045023</td>\n",
              "      <td>0.543350</td>\n",
              "      <td>0.155850</td>\n",
              "      <td>0.305535</td>\n",
              "      <td>0.463963</td>\n",
              "      <td>0.355296</td>\n",
              "      <td>0.360880</td>\n",
              "      <td>0.322859</td>\n",
              "      <td>0.917611</td>\n",
              "      <td>0.408334</td>\n",
              "      <td>0.733588</td>\n",
              "      <td>0.416891</td>\n",
              "      <td>0.151471</td>\n",
              "      <td>0.045931</td>\n",
              "    </tr>\n",
              "    <tr>\n",
              "      <th>3</th>\n",
              "      <td>M_G_Mostrando_Amarillos_100_double_box2.jpg</td>\n",
              "      <td>511</td>\n",
              "      <td>812</td>\n",
              "      <td>8</td>\n",
              "      <td>228</td>\n",
              "      <td>M</td>\n",
              "      <td>G</td>\n",
              "      <td>train</td>\n",
              "      <td>301</td>\n",
              "      <td>220</td>\n",
              "      <td>66220</td>\n",
              "      <td>si</td>\n",
              "      <td>Amarillo</td>\n",
              "      <td>0.086092</td>\n",
              "      <td>0.455828</td>\n",
              "      <td>0.418580</td>\n",
              "      <td>0.131673</td>\n",
              "      <td>0.437982</td>\n",
              "      <td>0.424093</td>\n",
              "      <td>0.350489</td>\n",
              "      <td>1.974670</td>\n",
              "      <td>0.183887</td>\n",
              "      <td>0.241193</td>\n",
              "      <td>0.046988</td>\n",
              "      <td>0.312450</td>\n",
              "      <td>0.497026</td>\n",
              "      <td>0.135973</td>\n",
              "      <td>0.195146</td>\n",
              "      <td>0.010869</td>\n",
              "      <td>0.109539</td>\n",
              "      <td>0.234128</td>\n",
              "      <td>0.235778</td>\n",
              "      <td>0.108441</td>\n",
              "      <td>0.054660</td>\n",
              "      <td>0.327069</td>\n",
              "      <td>0.439913</td>\n",
              "      <td>0.050670</td>\n",
              "      <td>0.159292</td>\n",
              "      <td>0.159228</td>\n",
              "      <td>0.311495</td>\n",
              "      <td>...</td>\n",
              "      <td>0.625021</td>\n",
              "      <td>0.219692</td>\n",
              "      <td>0.029219</td>\n",
              "      <td>0.496582</td>\n",
              "      <td>1.540741</td>\n",
              "      <td>2.338270</td>\n",
              "      <td>0.039844</td>\n",
              "      <td>0.174714</td>\n",
              "      <td>0.383931</td>\n",
              "      <td>0.449525</td>\n",
              "      <td>0.104648</td>\n",
              "      <td>0.205243</td>\n",
              "      <td>0.104140</td>\n",
              "      <td>0.109657</td>\n",
              "      <td>1.092486</td>\n",
              "      <td>0.087052</td>\n",
              "      <td>0.451129</td>\n",
              "      <td>0.034648</td>\n",
              "      <td>0.272219</td>\n",
              "      <td>0.209507</td>\n",
              "      <td>0.138235</td>\n",
              "      <td>0.193764</td>\n",
              "      <td>0.081227</td>\n",
              "      <td>1.006930</td>\n",
              "      <td>1.506502</td>\n",
              "      <td>0.044992</td>\n",
              "      <td>1.047619</td>\n",
              "      <td>0.605296</td>\n",
              "      <td>0.391379</td>\n",
              "      <td>0.164156</td>\n",
              "      <td>0.325708</td>\n",
              "      <td>0.028549</td>\n",
              "      <td>0.225465</td>\n",
              "      <td>0.325055</td>\n",
              "      <td>0.460382</td>\n",
              "      <td>0.127341</td>\n",
              "      <td>0.140412</td>\n",
              "      <td>0.157423</td>\n",
              "      <td>0.296102</td>\n",
              "      <td>0.023314</td>\n",
              "    </tr>\n",
              "    <tr>\n",
              "      <th>4</th>\n",
              "      <td>M_G_Mostrando_Amarillos_101_double_box1.jpg</td>\n",
              "      <td>668</td>\n",
              "      <td>988</td>\n",
              "      <td>0</td>\n",
              "      <td>222</td>\n",
              "      <td>M</td>\n",
              "      <td>G</td>\n",
              "      <td>train</td>\n",
              "      <td>320</td>\n",
              "      <td>222</td>\n",
              "      <td>71040</td>\n",
              "      <td>si</td>\n",
              "      <td>Amarillo</td>\n",
              "      <td>0.068881</td>\n",
              "      <td>0.185060</td>\n",
              "      <td>0.427007</td>\n",
              "      <td>0.637546</td>\n",
              "      <td>0.357156</td>\n",
              "      <td>0.125816</td>\n",
              "      <td>0.450526</td>\n",
              "      <td>1.246901</td>\n",
              "      <td>0.236921</td>\n",
              "      <td>0.393104</td>\n",
              "      <td>0.632759</td>\n",
              "      <td>0.413947</td>\n",
              "      <td>0.119917</td>\n",
              "      <td>0.192305</td>\n",
              "      <td>0.372677</td>\n",
              "      <td>0.075668</td>\n",
              "      <td>0.103642</td>\n",
              "      <td>0.165934</td>\n",
              "      <td>0.239047</td>\n",
              "      <td>0.054987</td>\n",
              "      <td>0.129182</td>\n",
              "      <td>0.178563</td>\n",
              "      <td>0.217686</td>\n",
              "      <td>0.130172</td>\n",
              "      <td>0.080214</td>\n",
              "      <td>0.346873</td>\n",
              "      <td>0.392784</td>\n",
              "      <td>...</td>\n",
              "      <td>0.205059</td>\n",
              "      <td>0.225329</td>\n",
              "      <td>0.062677</td>\n",
              "      <td>0.558553</td>\n",
              "      <td>1.780167</td>\n",
              "      <td>1.919532</td>\n",
              "      <td>0.165511</td>\n",
              "      <td>0.649451</td>\n",
              "      <td>0.168220</td>\n",
              "      <td>0.127490</td>\n",
              "      <td>0.310012</td>\n",
              "      <td>0.071468</td>\n",
              "      <td>0.196005</td>\n",
              "      <td>0.042177</td>\n",
              "      <td>1.261848</td>\n",
              "      <td>0.216220</td>\n",
              "      <td>0.501204</td>\n",
              "      <td>0.194764</td>\n",
              "      <td>0.183244</td>\n",
              "      <td>0.426975</td>\n",
              "      <td>0.477355</td>\n",
              "      <td>0.349516</td>\n",
              "      <td>0.131819</td>\n",
              "      <td>0.489718</td>\n",
              "      <td>0.981365</td>\n",
              "      <td>0.049099</td>\n",
              "      <td>0.471963</td>\n",
              "      <td>0.190929</td>\n",
              "      <td>0.413278</td>\n",
              "      <td>0.175050</td>\n",
              "      <td>0.523058</td>\n",
              "      <td>0.028629</td>\n",
              "      <td>0.076427</td>\n",
              "      <td>0.462088</td>\n",
              "      <td>0.694069</td>\n",
              "      <td>0.060703</td>\n",
              "      <td>0.065414</td>\n",
              "      <td>0.296513</td>\n",
              "      <td>0.368063</td>\n",
              "      <td>0.039469</td>\n",
              "    </tr>\n",
              "  </tbody>\n",
              "</table>\n",
              "<p>5 rows × 2061 columns</p>\n",
              "</div>"
            ],
            "text/plain": [
              "                                      filename  xmin  ...      2046      2047\n",
              "0    M_G_Mostrando_Amarillos_0_double_box1.jpg   218  ...  0.078312  0.421612\n",
              "1    M_G_Mostrando_Amarillos_0_double_box2.jpg   617  ...  0.052072  0.213453\n",
              "2  M_G_Mostrando_Amarillos_100_double_box1.jpg   831  ...  0.151471  0.045931\n",
              "3  M_G_Mostrando_Amarillos_100_double_box2.jpg   511  ...  0.296102  0.023314\n",
              "4  M_G_Mostrando_Amarillos_101_double_box1.jpg   668  ...  0.368063  0.039469\n",
              "\n",
              "[5 rows x 2061 columns]"
            ]
          },
          "metadata": {
            "tags": []
          },
          "execution_count": 11
        }
      ]
    },
    {
      "cell_type": "markdown",
      "metadata": {
        "id": "sxZ1wNgRSZqn"
      },
      "source": [
        "Tenemos 3 conjuntos de datos, Mañana, Tarde y Noche:"
      ]
    },
    {
      "cell_type": "code",
      "metadata": {
        "id": "hSGQl79rSgCx",
        "outputId": "864c85d1-b629-4e0e-c093-b6eace3cbeb3",
        "colab": {
          "base_uri": "https://localhost:8080/",
          "height": 34
        }
      },
      "source": [
        "#nos posicionamos en la carpeta donde se encuentran los datos iniciales:\n",
        "os.chdir('/content/drive/My Drive/Mentoria')\n",
        "! ls -d Dataset-*/"
      ],
      "execution_count": 12,
      "outputs": [
        {
          "output_type": "stream",
          "text": [
            "Dataset-M/  Dataset-N/\tDataset-T/\n"
          ],
          "name": "stdout"
        }
      ]
    },
    {
      "cell_type": "code",
      "metadata": {
        "id": "MxC9YRTk-X1d"
      },
      "source": [
        "# Definimos el path de la carperta para usarlo luego:\n",
        "data_sets_path = \"/content/drive/My Drive/Mentoria\"\n",
        "os.chdir('{}'.format(data_sets_path))"
      ],
      "execution_count": null,
      "outputs": []
    },
    {
      "cell_type": "code",
      "metadata": {
        "id": "zU0MlZ5F-sZr",
        "outputId": "8c1e6823-bfb0-4fa7-9044-70fa8eb81a21",
        "colab": {
          "base_uri": "https://localhost:8080/",
          "height": 34
        }
      },
      "source": [
        "#listamos todos las imágenes del dataset:\n",
        "list_dir = [i for i in glob.glob('./Dataset-*/*/*/*.jpg')]\n",
        "len(list_dir)\n",
        "\n",
        "list_jpg_files = []\n",
        "\n",
        "for file_jpg in list_dir:\n",
        "  x = re.search('[A-Z]\\w+_.+jpg', file_jpg)\n",
        "  list_jpg_files.append(x.group())\n",
        "\n",
        "print(len(list_jpg_files))  # len(list_jpg_files) = 8509\n"
      ],
      "execution_count": null,
      "outputs": [
        {
          "output_type": "stream",
          "text": [
            "8509\n"
          ],
          "name": "stdout"
        }
      ]
    },
    {
      "cell_type": "markdown",
      "metadata": {
        "id": "OM-hfIgdf4Kg"
      },
      "source": [
        "En lo siguiente, exploramos las carpetas para extraer los '.csv' y armar una sola tabla con toda la información. Agregamos también nuevas columnas con la información de las carpetas. "
      ]
    },
    {
      "cell_type": "code",
      "metadata": {
        "id": "PxoHW_APSQtm",
        "outputId": "0e605b82-3e6b-40d8-823a-7812518c86d3",
        "colab": {
          "base_uri": "https://localhost:8080/",
          "height": 221
        }
      },
      "source": [
        "# acá exploramos todos los archivos 'csv' por carpetas\n",
        "os.chdir('{}'.format(data_sets_path))\n",
        "\n",
        "def path(day_time, size, typ):\n",
        "    return (\"{path}/Dataset-{time}/{size}\"\n",
        "    \"/{time}-{size}-Labels_{typ}.csv\").format(path=data_sets_path,\n",
        "                                              time=day_time, size=size, typ=typ)\n",
        "def build_df(day_time, size, typ):\n",
        "    ds = pd.read_csv(path(day_time, size, typ))\n",
        "    ds['Time'] = day_time\n",
        "    ds['Size'] = size\n",
        "    ds['Type'] = typ\n",
        "    return ds\n",
        "\n",
        "\n",
        "types = [\"train\", \"test\"]\n",
        "day_time_list = [\"M\", \"T\", \"N\"]\n",
        "size_list = [\"G\", \"P\"]\n",
        "frames = [build_df(t, s, typ) for t in day_time_list for s in size_list for typ in types]\n",
        "total_data = pd.concat(frames, ignore_index=True)\n",
        "total_data[\"Hand_Pixel_Width\"]  = (total_data[\"xmax\"] - total_data[\"xmin\"])\n",
        "total_data[\"Hand_Pixel_Height\"] = (total_data[\"ymax\"] - total_data[\"ymin\"])\n",
        "total_data[\"Area\"] = total_data[\"Hand_Pixel_Width\"] * total_data[\"Hand_Pixel_Height\"]\n",
        "print(total_data.shape)\n",
        "total_data.head()"
      ],
      "execution_count": null,
      "outputs": [
        {
          "output_type": "stream",
          "text": [
            "(15203, 14)\n"
          ],
          "name": "stdout"
        },
        {
          "output_type": "execute_result",
          "data": {
            "text/html": [
              "<div>\n",
              "<style scoped>\n",
              "    .dataframe tbody tr th:only-of-type {\n",
              "        vertical-align: middle;\n",
              "    }\n",
              "\n",
              "    .dataframe tbody tr th {\n",
              "        vertical-align: top;\n",
              "    }\n",
              "\n",
              "    .dataframe thead th {\n",
              "        text-align: right;\n",
              "    }\n",
              "</style>\n",
              "<table border=\"1\" class=\"dataframe\">\n",
              "  <thead>\n",
              "    <tr style=\"text-align: right;\">\n",
              "      <th></th>\n",
              "      <th>filename</th>\n",
              "      <th>width</th>\n",
              "      <th>height</th>\n",
              "      <th>class</th>\n",
              "      <th>xmin</th>\n",
              "      <th>ymin</th>\n",
              "      <th>xmax</th>\n",
              "      <th>ymax</th>\n",
              "      <th>Time</th>\n",
              "      <th>Size</th>\n",
              "      <th>Type</th>\n",
              "      <th>Hand_Pixel_Width</th>\n",
              "      <th>Hand_Pixel_Height</th>\n",
              "      <th>Area</th>\n",
              "    </tr>\n",
              "  </thead>\n",
              "  <tbody>\n",
              "    <tr>\n",
              "      <th>0</th>\n",
              "      <td>M_G_Trabajando_Mano-Verde_7.jpg</td>\n",
              "      <td>1920</td>\n",
              "      <td>1080</td>\n",
              "      <td>hand</td>\n",
              "      <td>877</td>\n",
              "      <td>262</td>\n",
              "      <td>1121</td>\n",
              "      <td>422</td>\n",
              "      <td>M</td>\n",
              "      <td>G</td>\n",
              "      <td>train</td>\n",
              "      <td>244</td>\n",
              "      <td>160</td>\n",
              "      <td>39040</td>\n",
              "    </tr>\n",
              "    <tr>\n",
              "      <th>1</th>\n",
              "      <td>M_G_Trabajando_Mano-Verde_7.jpg</td>\n",
              "      <td>1920</td>\n",
              "      <td>1080</td>\n",
              "      <td>hand</td>\n",
              "      <td>1104</td>\n",
              "      <td>121</td>\n",
              "      <td>1266</td>\n",
              "      <td>278</td>\n",
              "      <td>M</td>\n",
              "      <td>G</td>\n",
              "      <td>train</td>\n",
              "      <td>162</td>\n",
              "      <td>157</td>\n",
              "      <td>25434</td>\n",
              "    </tr>\n",
              "    <tr>\n",
              "      <th>2</th>\n",
              "      <td>M_G_Trabajando_Verdes_170.jpg</td>\n",
              "      <td>1920</td>\n",
              "      <td>1080</td>\n",
              "      <td>hand</td>\n",
              "      <td>1001</td>\n",
              "      <td>332</td>\n",
              "      <td>1329</td>\n",
              "      <td>613</td>\n",
              "      <td>M</td>\n",
              "      <td>G</td>\n",
              "      <td>train</td>\n",
              "      <td>328</td>\n",
              "      <td>281</td>\n",
              "      <td>92168</td>\n",
              "    </tr>\n",
              "    <tr>\n",
              "      <th>3</th>\n",
              "      <td>M_G_Trabajando_Verdes_170.jpg</td>\n",
              "      <td>1920</td>\n",
              "      <td>1080</td>\n",
              "      <td>hand</td>\n",
              "      <td>1233</td>\n",
              "      <td>289</td>\n",
              "      <td>1353</td>\n",
              "      <td>395</td>\n",
              "      <td>M</td>\n",
              "      <td>G</td>\n",
              "      <td>train</td>\n",
              "      <td>120</td>\n",
              "      <td>106</td>\n",
              "      <td>12720</td>\n",
              "    </tr>\n",
              "    <tr>\n",
              "      <th>4</th>\n",
              "      <td>M_G_Trabajando_Manos_28.jpg</td>\n",
              "      <td>1920</td>\n",
              "      <td>1080</td>\n",
              "      <td>hand</td>\n",
              "      <td>812</td>\n",
              "      <td>219</td>\n",
              "      <td>944</td>\n",
              "      <td>320</td>\n",
              "      <td>M</td>\n",
              "      <td>G</td>\n",
              "      <td>train</td>\n",
              "      <td>132</td>\n",
              "      <td>101</td>\n",
              "      <td>13332</td>\n",
              "    </tr>\n",
              "  </tbody>\n",
              "</table>\n",
              "</div>"
            ],
            "text/plain": [
              "                          filename  width  ...  Hand_Pixel_Height   Area\n",
              "0  M_G_Trabajando_Mano-Verde_7.jpg   1920  ...                160  39040\n",
              "1  M_G_Trabajando_Mano-Verde_7.jpg   1920  ...                157  25434\n",
              "2    M_G_Trabajando_Verdes_170.jpg   1920  ...                281  92168\n",
              "3    M_G_Trabajando_Verdes_170.jpg   1920  ...                106  12720\n",
              "4      M_G_Trabajando_Manos_28.jpg   1920  ...                101  13332\n",
              "\n",
              "[5 rows x 14 columns]"
            ]
          },
          "metadata": {
            "tags": []
          },
          "execution_count": 252
        }
      ]
    },
    {
      "cell_type": "markdown",
      "metadata": {
        "id": "DFRw5j8lgSsy"
      },
      "source": [
        "Eliminamos las columnas que no serán relevantes a nuestro análisis, tales como 'width',\t'height',\t'class':"
      ]
    },
    {
      "cell_type": "code",
      "metadata": {
        "id": "h95SIM3DgOBg",
        "outputId": "531f4b92-7efc-40da-d61a-0a3bec457ab9",
        "colab": {
          "base_uri": "https://localhost:8080/",
          "height": 34
        }
      },
      "source": [
        "#eliminamos columnas innecesarias\n",
        "all_df = total_data.drop(['width',\t'height',\t'class'], axis=1)\n",
        "all_df.shape"
      ],
      "execution_count": null,
      "outputs": [
        {
          "output_type": "execute_result",
          "data": {
            "text/plain": [
              "(15203, 11)"
            ]
          },
          "metadata": {
            "tags": []
          },
          "execution_count": 311
        }
      ]
    },
    {
      "cell_type": "code",
      "metadata": {
        "id": "4E5Yb011t5mJ",
        "outputId": "09c0af4f-7fb8-42c3-fb17-b13265080288",
        "colab": {
          "base_uri": "https://localhost:8080/",
          "height": 34
        }
      },
      "source": [
        "#hacemos una lista de las filas únicas del dataset\n",
        "list_filename_csv = all_df.filename.unique().tolist()\n",
        "len(list_filename_csv)  # len(list_filename_csv) = 8509"
      ],
      "execution_count": null,
      "outputs": [
        {
          "output_type": "execute_result",
          "data": {
            "text/plain": [
              "8509"
            ]
          },
          "metadata": {
            "tags": []
          },
          "execution_count": 254
        }
      ]
    },
    {
      "cell_type": "code",
      "metadata": {
        "id": "uw4T5u69jESy"
      },
      "source": [
        "#definimos una función para ver diferencias entre listas\n",
        "def diff(list1, list2):\n",
        "    return list(set(list1).symmetric_difference(set(list2)))"
      ],
      "execution_count": null,
      "outputs": []
    },
    {
      "cell_type": "code",
      "metadata": {
        "id": "FW58GsoejQs9",
        "outputId": "94d10b9e-030f-403c-d443-efb30b8befc0",
        "colab": {
          "base_uri": "https://localhost:8080/",
          "height": 34
        }
      },
      "source": [
        "#verificamos que haya la misma cantidad de filas únicas como fotos en el dataset\n",
        "diff(list_jpg_files, list_filename_csv)"
      ],
      "execution_count": null,
      "outputs": [
        {
          "output_type": "execute_result",
          "data": {
            "text/plain": [
              "[]"
            ]
          },
          "metadata": {
            "tags": []
          },
          "execution_count": 256
        }
      ]
    },
    {
      "cell_type": "code",
      "metadata": {
        "id": "J8AvvLO7fZnB"
      },
      "source": [
        "##guardamos la lista en un archivo para no tener q generarla todas las veces:\n",
        "#with open('list_jpg_all.txt', 'w') as f:\n",
        "#    f.write(json.dumps(list_filename_csv))"
      ],
      "execution_count": null,
      "outputs": []
    },
    {
      "cell_type": "code",
      "metadata": {
        "id": "m_jJqFtmQkB1",
        "outputId": "ead44351-45e0-4a80-cb9d-495ae29210ce",
        "colab": {
          "base_uri": "https://localhost:8080/",
          "height": 102
        }
      },
      "source": [
        "#abrimos el archivo con la lista:\n",
        "with open('list_jpg_all.txt', 'r') as f:\n",
        "    list_filename_csv = json.loads(f.read())\n",
        "  \n",
        "list_filename_csv[0:5]"
      ],
      "execution_count": null,
      "outputs": [
        {
          "output_type": "execute_result",
          "data": {
            "text/plain": [
              "['T_P_Trabajando_Manos_101.jpg',\n",
              " 'T_P_Trabajando_Manos_136.jpg',\n",
              " 'T_P_Trabajando_Verdes_152.jpg',\n",
              " 'T_P_Trabajando_Manos_172.jpg',\n",
              " 'T_P_Trabajando_Verdes_42.jpg']"
            ]
          },
          "metadata": {
            "tags": []
          },
          "execution_count": 257
        }
      ]
    },
    {
      "cell_type": "markdown",
      "metadata": {
        "id": "jVIwrWjCieFe"
      },
      "source": [
        "Agregamos columnas que sirvan para seguir discriminando los datos:"
      ]
    },
    {
      "cell_type": "code",
      "metadata": {
        "id": "-btLMRBTyQLP"
      },
      "source": [
        "# identificamos cuantos valores de cada 'categoría' tenemos, agregamos las columnas\n",
        "# 'guantes' y 'color' acorde a las mismas y las guardamos en un diccionario:\n",
        "tipos = ['Manos', 'Amarillos', 'Verdes', 'Mano-Verde','Mano-Amarillo']\n",
        "# recordemos que las categorías 'Mano-Verde' y 'Mano-Amarillo' luego hay q \n",
        "# determinar cual fila se corresponde a la mano y cuál al guante:\n",
        "\n",
        "dict_jpg = {}\n",
        "for tipo in tipos:\n",
        "    dict_jpg[tipo] = all_df[all_df['filename'].astype(str).str.contains(tipo)].copy()\n",
        "    if tipo == 'Manos':\n",
        "        dict_jpg[tipo]['guantes'] = 'no'\n",
        "        dict_jpg[tipo]['color'] = 'mano'\n",
        "    elif tipo == 'Amarillos':\n",
        "        dict_jpg[tipo]['guantes'] = 'si'\n",
        "        dict_jpg[tipo]['color'] = 'Amarillo'\n",
        "    elif tipo == 'Verdes':\n",
        "        dict_jpg[tipo]['guantes'] = 'si'\n",
        "        dict_jpg[tipo]['color'] = 'Verde'\n",
        "    elif tipo == 'Mano-Verde':\n",
        "        dict_jpg[tipo]['guantes'] = 'si'\n",
        "        dict_jpg[tipo]['color'] = 'Verde'\n",
        "    elif tipo == 'Mano-Amarillo':\n",
        "        dict_jpg[tipo]['guantes'] = 'si'\n",
        "        dict_jpg[tipo]['color'] = 'Amarillo'\n",
        "        "
      ],
      "execution_count": null,
      "outputs": []
    },
    {
      "cell_type": "code",
      "metadata": {
        "id": "e8cBuWiOfEkL",
        "outputId": "b4daa550-8cbf-48e2-f6f0-ce35fabed11d",
        "colab": {
          "base_uri": "https://localhost:8080/",
          "height": 136
        }
      },
      "source": [
        "#contabilizamos la cantidad de filas a cada categoría:\n",
        "tipos = ['Manos', 'Amarillos', 'Verdes', 'Mano-Verde','Mano-Amarillo']\n",
        "\n",
        "data_tot = []\n",
        "for tipo in tipos:\n",
        "  print(tipo+': ', dict_jpg[tipo].shape[0])  \n",
        "  data_tot.append(dict_jpg[tipo].shape[0])\n",
        "\n",
        "\n",
        "#la suma debería coincidir con la cantidad de filas del dataset:\n",
        "print('\\n Total de datos:', sum(data_tot))"
      ],
      "execution_count": null,
      "outputs": [
        {
          "output_type": "stream",
          "text": [
            "Manos:  4525\n",
            "Amarillos:  3960\n",
            "Verdes:  3857\n",
            "Mano-Verde:  1420\n",
            "Mano-Amarillo:  1441\n",
            "\n",
            " Total de datos: 15203\n"
          ],
          "name": "stdout"
        }
      ]
    },
    {
      "cell_type": "code",
      "metadata": {
        "id": "PdyF4E-efJqa",
        "outputId": "b5a09b74-f6cc-40bd-b26c-f2e5a13c20c4",
        "colab": {
          "base_uri": "https://localhost:8080/",
          "height": 34
        }
      },
      "source": [
        "#verificamos que sigamos teniendo la misma cantidad de filas: \n",
        "sum(data_tot) == all_df.shape[0]"
      ],
      "execution_count": null,
      "outputs": [
        {
          "output_type": "execute_result",
          "data": {
            "text/plain": [
              "True"
            ]
          },
          "metadata": {
            "tags": []
          },
          "execution_count": 260
        }
      ]
    },
    {
      "cell_type": "code",
      "metadata": {
        "id": "ZIBKDvnKbp1o"
      },
      "source": [
        "#pasaré el diccionario anterior a un DataFrame. Si se les ocurre una forma mas elegante de hacelo, bienvenido sea!!\n",
        "manos_df = pd.DataFrame.from_dict(dict_jpg['Manos'])\n",
        "amarillos_df = pd.DataFrame.from_dict(dict_jpg['Amarillos'])\n",
        "verdes_df = pd.DataFrame.from_dict(dict_jpg['Verdes'])\n",
        "mano_verde_df = pd.DataFrame.from_dict(dict_jpg['Mano-Verde'])\n",
        "mano_amarillo_df = pd.DataFrame.from_dict(dict_jpg['Mano-Amarillo'])\n",
        "# lista de DataFrame:\n",
        "tipos_df = [manos_df, amarillos_df, verdes_df, mano_verde_df, mano_amarillo_df]"
      ],
      "execution_count": null,
      "outputs": []
    },
    {
      "cell_type": "code",
      "metadata": {
        "id": "OCbULEjjeX9r",
        "outputId": "f21a1cee-cf99-4245-d7b6-68fea71caa0d",
        "colab": {
          "base_uri": "https://localhost:8080/",
          "height": 34
        }
      },
      "source": [
        "# los juntamos en un solo csv y lo guardamos por única vez:\n",
        "all_df_csv = pd.concat(f for f in tipos_df)  #\n",
        "#all_df_csv.to_csv('all_df.csv')\n",
        "all_df_csv.shape"
      ],
      "execution_count": null,
      "outputs": [
        {
          "output_type": "execute_result",
          "data": {
            "text/plain": [
              "(15203, 13)"
            ]
          },
          "metadata": {
            "tags": []
          },
          "execution_count": 262
        }
      ]
    },
    {
      "cell_type": "code",
      "metadata": {
        "id": "AUTuatUge5BE",
        "outputId": "d3558f91-fa09-4bbd-be68-0490818581b6",
        "colab": {
          "base_uri": "https://localhost:8080/",
          "height": 204
        }
      },
      "source": [
        "#volvemos a leer el archivo:\n",
        "all_jpg_df = pd.read_csv('all_df.csv', index_col=0)\n",
        "all_jpg_df.head()"
      ],
      "execution_count": null,
      "outputs": [
        {
          "output_type": "execute_result",
          "data": {
            "text/html": [
              "<div>\n",
              "<style scoped>\n",
              "    .dataframe tbody tr th:only-of-type {\n",
              "        vertical-align: middle;\n",
              "    }\n",
              "\n",
              "    .dataframe tbody tr th {\n",
              "        vertical-align: top;\n",
              "    }\n",
              "\n",
              "    .dataframe thead th {\n",
              "        text-align: right;\n",
              "    }\n",
              "</style>\n",
              "<table border=\"1\" class=\"dataframe\">\n",
              "  <thead>\n",
              "    <tr style=\"text-align: right;\">\n",
              "      <th></th>\n",
              "      <th>filename</th>\n",
              "      <th>xmin</th>\n",
              "      <th>ymin</th>\n",
              "      <th>xmax</th>\n",
              "      <th>ymax</th>\n",
              "      <th>Time</th>\n",
              "      <th>Size</th>\n",
              "      <th>Type</th>\n",
              "      <th>Hand_Pixel_Width</th>\n",
              "      <th>Hand_Pixel_Height</th>\n",
              "      <th>Area</th>\n",
              "      <th>guantes</th>\n",
              "      <th>color</th>\n",
              "    </tr>\n",
              "  </thead>\n",
              "  <tbody>\n",
              "    <tr>\n",
              "      <th>4</th>\n",
              "      <td>M_G_Trabajando_Manos_28.jpg</td>\n",
              "      <td>812</td>\n",
              "      <td>219</td>\n",
              "      <td>944</td>\n",
              "      <td>320</td>\n",
              "      <td>M</td>\n",
              "      <td>G</td>\n",
              "      <td>train</td>\n",
              "      <td>132</td>\n",
              "      <td>101</td>\n",
              "      <td>13332</td>\n",
              "      <td>no</td>\n",
              "      <td>mano</td>\n",
              "    </tr>\n",
              "    <tr>\n",
              "      <th>5</th>\n",
              "      <td>M_G_Trabajando_Manos_28.jpg</td>\n",
              "      <td>987</td>\n",
              "      <td>256</td>\n",
              "      <td>1105</td>\n",
              "      <td>372</td>\n",
              "      <td>M</td>\n",
              "      <td>G</td>\n",
              "      <td>train</td>\n",
              "      <td>118</td>\n",
              "      <td>116</td>\n",
              "      <td>13688</td>\n",
              "      <td>no</td>\n",
              "      <td>mano</td>\n",
              "    </tr>\n",
              "    <tr>\n",
              "      <th>12</th>\n",
              "      <td>M_G_Trabajando_Manos_0.jpg</td>\n",
              "      <td>625</td>\n",
              "      <td>243</td>\n",
              "      <td>751</td>\n",
              "      <td>339</td>\n",
              "      <td>M</td>\n",
              "      <td>G</td>\n",
              "      <td>train</td>\n",
              "      <td>126</td>\n",
              "      <td>96</td>\n",
              "      <td>12096</td>\n",
              "      <td>no</td>\n",
              "      <td>mano</td>\n",
              "    </tr>\n",
              "    <tr>\n",
              "      <th>13</th>\n",
              "      <td>M_G_Trabajando_Manos_142.jpg</td>\n",
              "      <td>872</td>\n",
              "      <td>220</td>\n",
              "      <td>1019</td>\n",
              "      <td>367</td>\n",
              "      <td>M</td>\n",
              "      <td>G</td>\n",
              "      <td>train</td>\n",
              "      <td>147</td>\n",
              "      <td>147</td>\n",
              "      <td>21609</td>\n",
              "      <td>no</td>\n",
              "      <td>mano</td>\n",
              "    </tr>\n",
              "    <tr>\n",
              "      <th>14</th>\n",
              "      <td>M_G_Trabajando_Manos_142.jpg</td>\n",
              "      <td>714</td>\n",
              "      <td>213</td>\n",
              "      <td>839</td>\n",
              "      <td>343</td>\n",
              "      <td>M</td>\n",
              "      <td>G</td>\n",
              "      <td>train</td>\n",
              "      <td>125</td>\n",
              "      <td>130</td>\n",
              "      <td>16250</td>\n",
              "      <td>no</td>\n",
              "      <td>mano</td>\n",
              "    </tr>\n",
              "  </tbody>\n",
              "</table>\n",
              "</div>"
            ],
            "text/plain": [
              "                        filename  xmin  ymin  ...   Area  guantes color\n",
              "4    M_G_Trabajando_Manos_28.jpg   812   219  ...  13332       no  mano\n",
              "5    M_G_Trabajando_Manos_28.jpg   987   256  ...  13688       no  mano\n",
              "12    M_G_Trabajando_Manos_0.jpg   625   243  ...  12096       no  mano\n",
              "13  M_G_Trabajando_Manos_142.jpg   872   220  ...  21609       no  mano\n",
              "14  M_G_Trabajando_Manos_142.jpg   714   213  ...  16250       no  mano\n",
              "\n",
              "[5 rows x 13 columns]"
            ]
          },
          "metadata": {
            "tags": []
          },
          "execution_count": 8
        }
      ]
    },
    {
      "cell_type": "markdown",
      "metadata": {
        "id": "NKVjxmJFo620"
      },
      "source": [
        "Como anteriores prácticos de pre-análisis, creamos una carpeta para guardar las imágenes recortadas de la región de la mano:"
      ]
    },
    {
      "cell_type": "code",
      "metadata": {
        "id": "EznuT-AJo6A6"
      },
      "source": [
        "# las carpetas las creamos una sola vez\n",
        "#! mkdir crop\n",
        "#! mkdir crop/Manos\n",
        "#! mkdir crop/Amarillos\n",
        "#! mkdir crop/Verdes\n",
        "#! mkdir crop/Mano-Verde\n",
        "#! mkdir crop/Mano-Amarillo"
      ],
      "execution_count": null,
      "outputs": []
    },
    {
      "cell_type": "code",
      "metadata": {
        "id": "beTAnaSiqEkm",
        "outputId": "671c7c23-627b-4a7c-a012-25c5879fec15",
        "colab": {
          "base_uri": "https://localhost:8080/",
          "height": 102
        }
      },
      "source": [
        "tipos = ['Manos', 'Amarillos', 'Verdes', 'Mano-Verde','Mano-Amarillo']\n",
        "\n",
        "for tipo in tipos:\n",
        "  path_chosen = 'crop/'+tipo +'/'\n",
        "  print(path_chosen)"
      ],
      "execution_count": null,
      "outputs": [
        {
          "output_type": "stream",
          "text": [
            "crop/Manos/\n",
            "crop/Amarillos/\n",
            "crop/Verdes/\n",
            "crop/Mano-Verde/\n",
            "crop/Mano-Amarillo/\n"
          ],
          "name": "stdout"
        }
      ]
    },
    {
      "cell_type": "code",
      "metadata": {
        "id": "pQy-OKu272mg"
      },
      "source": [
        "# No pude extraer del nombre de archivo el 'tipo'. Entonces, copié el archivo csv en crop, \n",
        "# hice los cortes de las imágenes y las moví luego. Si se les ocurre como automatizar lo siguiente, bienvenido!"
      ],
      "execution_count": null,
      "outputs": []
    },
    {
      "cell_type": "code",
      "metadata": {
        "id": "G6Yc-68M0GxC",
        "outputId": "176d9834-4fd2-4399-c2dd-bdca834493d3",
        "colab": {
          "base_uri": "https://localhost:8080/",
          "height": 68
        }
      },
      "source": [
        "#! cp all_df.csv crop\n",
        "! ls crop"
      ],
      "execution_count": null,
      "outputs": [
        {
          "output_type": "stream",
          "text": [
            "all_amarillos_cropped_df.csv  Amarillos      Mano-Verde\n",
            "all_df.csv\t\t      Mano-Amarillo  Verdes\n",
            "all_manos_cropped_df.csv      Manos\n"
          ],
          "name": "stdout"
        }
      ]
    },
    {
      "cell_type": "code",
      "metadata": {
        "id": "6Qz369NpNNkb"
      },
      "source": [
        "os.chdir('/content/drive/My Drive/Mentoria')"
      ],
      "execution_count": null,
      "outputs": []
    },
    {
      "cell_type": "code",
      "metadata": {
        "id": "DsrLqKnysew-",
        "outputId": "9272b8b9-db43-483e-d195-06eafae4dc0b",
        "colab": {
          "base_uri": "https://localhost:8080/",
          "height": 34
        }
      },
      "source": [
        "#listamos todos las imágenes del dataset:\n",
        "list_dir = [i for i in glob.glob('./Dataset-*/*/*/*.jpg')]\n",
        "len(list_dir)\n",
        "\n",
        "list_jpg_files = []\n",
        "\n",
        "for file_jpg in list_dir:\n",
        "  x = re.search('[A-Z]\\w+_.+jpg', file_jpg)\n",
        "  list_jpg_files.append(x.group())\n",
        "\n",
        "print(len(list_jpg_files))  # len(list_jpg_files) = 8509\n",
        "#test_list = list_dir[0:5]\n",
        "#test_list "
      ],
      "execution_count": null,
      "outputs": [
        {
          "output_type": "stream",
          "text": [
            "8509\n"
          ],
          "name": "stdout"
        }
      ]
    },
    {
      "cell_type": "code",
      "metadata": {
        "id": "bhHOJ1HVdvRn"
      },
      "source": [
        "#bue.. además que no me salió el loop, bah, lo del loop del regex.. quizás fue mejor, así vamos tipo por tipo, va lento\n",
        "#tipos = ['Manos', 'Amarillos', 'Verdes', 'Mano-Verde','Mano-Amarillo']\n",
        "tipo = 'Mano-Verde'\n",
        "path_chosen = 'crop/'+tipo+'/'\n",
        "\n",
        "\n",
        "data_img_df = []\n",
        "\n",
        "for file_name in list_dir:\n",
        "  #print(file_name)\n",
        "  try:\n",
        "     filename = re.search('[A-Z]\\w+_Mano-Verde_.+jpg', file_name).group()\n",
        "     #print(filename)\n",
        "     row_csv = all_jpg_df[all_jpg_df['filename'].str.contains(filename)]\n",
        "     #print(row_csv) \n",
        "\n",
        "     num_mano = 1\n",
        "     if (row_csv.shape[0] == num_mano):\n",
        "       row = row_csv.iloc[0]\n",
        "       img_row_file = row.filename\n",
        "       #print(img_row_file)\n",
        "       #print(row_csv)\n",
        "       img  = cv2.imread(file_name)\n",
        "       #cv2_imshow(img)\n",
        "       xmin = row.xmin.item()\n",
        "       xmax = row.xmax.item()\n",
        "       ymin = row.ymin.item()\n",
        "       ymax = row.ymax.item()\n",
        "      \n",
        "       time = row.Time\n",
        "       size = row.Size\n",
        "       sets = row.Type\n",
        "       witdh  = row.Hand_Pixel_Width.item()\n",
        "       height = row.Hand_Pixel_Height.item()\t\n",
        "       area = row.Area.item()\n",
        "       guantes = row.guantes\n",
        "       color  = row.color\n",
        "\n",
        "       img_crop_name = img_row_file[:-4]+'_single_box.jpg'\n",
        "       path = path_chosen +img_crop_name\n",
        "       #print(img_crop_name)\n",
        "       #print(path)\n",
        "       data_img = [img_crop_name, xmin, xmax, ymin,ymax, time, size,sets,witdh,height,area,guantes,color]\n",
        "       #print(data_img)\n",
        "       data_img_df.append(data_img)\n",
        "       img_crop = img[ymin:ymax, xmin:xmax]\n",
        "       #cv2_imshow(img_crop)\n",
        "       #cv2.imwrite(path,img_crop)\n",
        "\n",
        "     else:\n",
        "      row1 = row_csv.iloc[0]\n",
        "      img_row1_file = row1.filename\n",
        "      #print(img_row1_file)\n",
        "      img_row1=cv2.imread(file_name)\n",
        "      #cv2_imshow(img_row1)\n",
        "      xmin_r1 = row1.xmin.item()\n",
        "      xmax_r1 = row1.xmax.item()\n",
        "      ymin_r1 = row1.ymin.item()\n",
        "      ymax_r1 = row1.ymax.item()\n",
        "\n",
        "      time_r1 = row1.Time\n",
        "      size_r1 = row1.Size\n",
        "      sets_r1 = row1.Type\n",
        "      witdh_r1  = row1.Hand_Pixel_Width.item()\n",
        "      height_r1 = row1.Hand_Pixel_Height.item()\t\n",
        "      area_r1 = row1.Area.item()\n",
        "      guantes_r1 = row1.guantes\n",
        "      color_r1  = row1.color\n",
        "\n",
        "      img_crop_name_row1 = img_row1_file[:-4]+'_double_box1.jpg'\n",
        "      img_crop_row1 = img_row1[ymin_r1:ymax_r1, xmin_r1:xmax_r1] \n",
        "      path1 = path_chosen+img_crop_name_row1\n",
        "      #print(path1)\n",
        "\n",
        "      data_img1 = [img_crop_name_row1, xmin_r1, xmax_r1, ymin_r1, ymax_r1, \n",
        "                  time_r1, size_r1, sets_r1, witdh_r1, height_r1, \n",
        "                  area_r1, guantes_r1, color_r1]\n",
        "      #print(data_img1)\n",
        "#      #cv2_imshow(img_crop_row1)\n",
        "      data_img_df.append(data_img1)\n",
        "      #cv2.imwrite(path1, img_crop_row1)\n",
        "\n",
        "      row2 = row_csv.iloc[1]\n",
        "      img_row2_file = row2.filename\n",
        "      img_row2=cv2.imread(file_name)\n",
        "    \n",
        "      xmin_r2 = row2.xmin.item()\n",
        "      xmax_r2 = row2.xmax.item()\n",
        "      ymin_r2 = row2.ymin.item()\n",
        "      ymax_r2 = row2.ymax.item()\n",
        "\n",
        "      time_r2 = row2.Time\n",
        "      size_r2 = row2.Size\n",
        "      sets_r2 = row2.Type\n",
        "      witdh_r2  = row2.Hand_Pixel_Width.item()\n",
        "      height_r2 = row2.Hand_Pixel_Height.item()\t\n",
        "      area_r2 = row2.Area.item()\n",
        "      guantes_r2 = row2.guantes\n",
        "      color_r2  = row2.color\n",
        "\n",
        "      img_crop_name_row2 = img_row2_file[:-4]+'_double_box2.jpg'\n",
        "      \n",
        "      data_img2 = [img_crop_name_row2, xmin_r2, xmax_r2, ymin_r2,ymax_r2, \n",
        "                  time_r2, size_r2,sets_r2,witdh_r2,height_r2,\n",
        "                  area_r2, guantes_r2, color_r2]\n",
        "      data_img_df.append(data_img2)\n",
        "      #print(data_img2)\n",
        "\n",
        "      img_crop_row2 = img_row2[ymin_r2:ymax_r2, xmin_r2:xmax_r2] \n",
        "      path2 = path_chosen+img_crop_name_row2\n",
        "      #print(path2)\n",
        "      #cv2_imshow(img_crop_row2)\n",
        "      #cv2.imwrite(path2, img_crop_row2)\n",
        "\n",
        "  except:\n",
        "     filename = None\n"
      ],
      "execution_count": null,
      "outputs": []
    },
    {
      "cell_type": "code",
      "metadata": {
        "id": "p3X8xhZ8xJzH",
        "outputId": "d424098b-af8c-4318-d090-9ad7e5d6fb58",
        "colab": {
          "base_uri": "https://localhost:8080/",
          "height": 68
        }
      },
      "source": [
        "cropped_name_df = 'crop/all_mano_verde_cropped_df.csv'\n",
        "print(cropped_name_df)\n",
        "cropped_df = pd.DataFrame(data_img_df,\n",
        "                          columns = ['filename','xmin', 'xmax','ymin','ymax',\n",
        "                                     'Time', 'Size', 'Type', 'Hand_Pixel_Width', 'Hand_Pixel_Height',\n",
        "                                     'Area', 'guantes', 'color' \n",
        "                               ])  \n",
        "cropped_df\n",
        "print(cropped_df.shape[0])\n",
        "#cropped_df.to_csv(cropped_name_df) \n",
        "\n",
        "#hacemos una lista de las filas únicas del dataset\n",
        "list_cropped_df_csv = cropped_df.filename.unique().tolist()\n",
        "len(list_cropped_df_csv) \n",
        "# debería coincidir con la cantidad del tipo que estamos cortando. .no entiendo porque perdemos \n",
        "# fotos en el camino.. si quieren buscarlas..\n",
        "#Manos:  4525 - list_cropped_df_csv:  4524.... \n",
        "#Amarillos:  3960 - list_cropped_df_csv: 3958\n",
        "#Verdes:  3857 - list_cropped_df_csv: 3855\n",
        "#Mano-Verde:  1420 - list_cropped_df_csv: 1419\n",
        "#Mano-Amarillo:  1441 - list_cropped_df_csv: 1441\n"
      ],
      "execution_count": null,
      "outputs": [
        {
          "output_type": "stream",
          "text": [
            "crop/all_mano_verde_cropped_df.csv\n",
            "1419\n"
          ],
          "name": "stdout"
        },
        {
          "output_type": "execute_result",
          "data": {
            "text/plain": [
              "1419"
            ]
          },
          "metadata": {
            "tags": []
          },
          "execution_count": 15
        }
      ]
    },
    {
      "cell_type": "markdown",
      "metadata": {
        "id": "60B_2c0SAUa8"
      },
      "source": [
        "Ya cortamos las imágenes y clasificamos a ojo las categorías 'Mano-Amarillo' y 'Mano-Verde' y generamos los siguientes csv:"
      ]
    },
    {
      "cell_type": "code",
      "metadata": {
        "id": "MP_rv01DHleB",
        "outputId": "74aa1358-4654-485b-ea2f-b8054138509d",
        "colab": {
          "base_uri": "https://localhost:8080/",
          "height": 102
        }
      },
      "source": [
        "#nos posicionamos en la carpeta muestra:\n",
        "os.chdir('/content/drive/My Drive/Mentoria/')\n",
        "! ls -d Dataset-*/\n",
        "os.chdir('/content/drive/My Drive/Mentoria/crop')\n",
        "! ls *csv"
      ],
      "execution_count": null,
      "outputs": [
        {
          "output_type": "stream",
          "text": [
            "Dataset-M/  Dataset-N/\tDataset-T/\n",
            "all_Amarillos_cropped_df.csv\t  all_Mano-Verde_cropped_df.csv\n",
            "all_df.csv\t\t\t  all_Verdes_cropped_df.csv\n",
            "all_Mano-Amarillo_cropped_df.csv  Mano-Amarillo_mano_cropped_df.csv\n",
            "all_Manos_cropped_df.csv\n"
          ],
          "name": "stdout"
        }
      ]
    },
    {
      "cell_type": "code",
      "metadata": {
        "id": "jT-JUqyBKA9Z",
        "outputId": "5be58743-095b-4349-959d-575b4ec208a0",
        "colab": {
          "base_uri": "https://localhost:8080/",
          "height": 357
        }
      },
      "source": [
        "#volvemos a leer los archivos:\n",
        "tipos = ['Manos', 'Amarillos', 'Verdes', 'Mano-Verde','Mano-Amarillo']\n",
        "\n",
        "for tipo in tipos:\n",
        "  print(tipo)\n",
        "\n",
        "  cropped_name_df = 'all_'+tipo +'_cropped_df.csv'\n",
        "  cropped_df = pd.read_csv(cropped_name_df, index_col=0)\n",
        "  list_filename_df = cropped_df.filename.unique().tolist()\n",
        "  print('cantidad de fotos: ', len(list_filename_df)) \n",
        "  print(cropped_name_df,'shape:', cropped_df.shape, '\\n')"
      ],
      "execution_count": null,
      "outputs": [
        {
          "output_type": "stream",
          "text": [
            "Manos\n",
            "cantidad de fotos:  4524\n",
            "all_Manos_cropped_df.csv shape: (4524, 13) \n",
            "\n",
            "Amarillos\n",
            "cantidad de fotos:  3958\n",
            "all_Amarillos_cropped_df.csv shape: (3958, 13) \n",
            "\n",
            "Verdes\n",
            "cantidad de fotos:  3855\n",
            "all_Verdes_cropped_df.csv shape: (3855, 13) \n",
            "\n",
            "Mano-Verde\n",
            "cantidad de fotos:  1419\n",
            "all_Mano-Verde_cropped_df.csv shape: (1419, 13) \n",
            "\n",
            "Mano-Amarillo\n",
            "cantidad de fotos:  1441\n",
            "all_Mano-Amarillo_cropped_df.csv shape: (1441, 13) \n",
            "\n"
          ],
          "name": "stdout"
        }
      ]
    },
    {
      "cell_type": "markdown",
      "metadata": {
        "id": "PKL4IqYCxHyr"
      },
      "source": [
        "Como ya hemos visto, tenemos tres *clases*:\n",
        " 'Mano', 'Amarillo' y 'Verde'"
      ]
    },
    {
      "cell_type": "code",
      "metadata": {
        "id": "JWCdrtajZxkQ",
        "outputId": "c262db2a-b7d4-4b07-fbf6-1a27adb1d69f",
        "colab": {
          "base_uri": "https://localhost:8080/",
          "height": 68
        }
      },
      "source": [
        "# nos movemos a la carpeta crop:\n",
        "os.chdir('/content/drive/My Drive/Mentoria/crop/')\n",
        "! ls -d */\n",
        "! ls -d */*/"
      ],
      "execution_count": null,
      "outputs": [
        {
          "output_type": "stream",
          "text": [
            "Amarillos/  Mano-Amarillo/  Manos/  Mano-Verde/  Verdes/\n",
            "Mano-Amarillo/Amarillo/  Mano-Verde/Mano/\n",
            "Mano-Amarillo/Mano/\t Mano-Verde/Verde/\n"
          ],
          "name": "stdout"
        }
      ]
    },
    {
      "cell_type": "markdown",
      "metadata": {
        "id": "VJxtrYLe5oDT"
      },
      "source": [
        "Verificamos los archivos y la cantidad de fotos en cada carpeta:"
      ]
    },
    {
      "cell_type": "code",
      "metadata": {
        "id": "bB1AfPxl3rhm",
        "outputId": "1f3c249a-c795-49a2-9c02-5ba2a581674b",
        "colab": {
          "base_uri": "https://localhost:8080/",
          "height": 221
        }
      },
      "source": [
        "#volvemos a leer los archivos:\n",
        "tipos = ['Amarillos', 'Manos', 'Verdes']\n",
        "\n",
        "for tipo in tipos:\n",
        "  print(tipo)\n",
        "  cropped_name_df = 'all_'+tipo +'_cropped_df.csv'\n",
        "  cropped_df = pd.read_csv(cropped_name_df, index_col=0)\n",
        "  list_filename_df = cropped_df.filename.unique().tolist()\n",
        "\n",
        "  print('cantidad de fotos: ', len(list_filename_df)) \n",
        "  print(cropped_name_df,'shape:', cropped_df.shape, '\\n')"
      ],
      "execution_count": null,
      "outputs": [
        {
          "output_type": "stream",
          "text": [
            "Amarillos\n",
            "cantidad de fotos:  3958\n",
            "all_Amarillos_cropped_df.csv shape: (3958, 13) \n",
            "\n",
            "Manos\n",
            "cantidad de fotos:  4524\n",
            "all_Manos_cropped_df.csv shape: (4524, 13) \n",
            "\n",
            "Verdes\n",
            "cantidad de fotos:  3855\n",
            "all_Verdes_cropped_df.csv shape: (3855, 13) \n",
            "\n"
          ],
          "name": "stdout"
        }
      ]
    },
    {
      "cell_type": "code",
      "metadata": {
        "id": "SSvh1-g83z8Z",
        "outputId": "de92300c-8dfa-452c-df7b-76c3d98940ef",
        "colab": {
          "base_uri": "https://localhost:8080/",
          "height": 34
        }
      },
      "source": [
        "#Para agrupar los archivos de una carpeta según su nombre, \n",
        "#os.chdir('/content/drive/My Drive/Mentoria/crop/Amarillos')            # 3958 fotos \n",
        "#os.chdir('/content/drive/My Drive/Mentoria/crop/Manos')                # 4524 fotos \n",
        "#os.chdir('/content/drive/My Drive/Mentoria/crop/Verdes')                # 3855 fotos \n",
        "extension = 'jpg'\n",
        "list_cropped_class = [i for i in glob.glob('*.{}'.format(extension))]\n",
        "len(list_cropped_class)"
      ],
      "execution_count": null,
      "outputs": [
        {
          "output_type": "execute_result",
          "data": {
            "text/plain": [
              "3855"
            ]
          },
          "metadata": {
            "tags": []
          },
          "execution_count": 51
        }
      ]
    },
    {
      "cell_type": "code",
      "metadata": {
        "id": "Xw2ReT3fd4AA",
        "outputId": "ed2498e4-16d4-4c6f-ae70-486f7b5bf331",
        "colab": {
          "base_uri": "https://localhost:8080/",
          "height": 34
        }
      },
      "source": [
        "os.chdir('/content/drive/My Drive/Mentoria/crop/Mano-Amarillo/Amarillo')            # 3958 fotos \n",
        "! ls Mano_Verde"
      ],
      "execution_count": null,
      "outputs": [
        {
          "output_type": "stream",
          "text": [
            "ls: cannot access 'Mano_Verde': No such file or directory\n"
          ],
          "name": "stdout"
        }
      ]
    },
    {
      "cell_type": "markdown",
      "metadata": {
        "id": "B9mRoU2z5tnJ"
      },
      "source": [
        "Para las carpetas 'Mano-Verde' y 'Mano-Amarillo':"
      ]
    },
    {
      "cell_type": "code",
      "metadata": {
        "id": "YreR8sS-Z85d"
      },
      "source": [
        "# nos movemos a la carpeta de Mano-Amarillo / Mano-Verde respectivamente:\n",
        "# os.chdir('/content/drive/My Drive/Mentoria/crop/Mano-Amarillo/Mano')        # 707 fotos\n",
        "# os.chdir('/content/drive/My Drive/Mentoria/crop/Mano-Amarillo/Amarillo')     # 736 fotos  \n",
        "\n",
        "# os.chdir('/content/drive/My Drive/Mentoria/crop/Mano-Verde/Mano')           # 714 fotos\n",
        "# os.chdir('/content/drive/My Drive/Mentoria/crop/Mano-Verde/Verde')          # 703 fotos\n",
        "\n"
      ],
      "execution_count": null,
      "outputs": []
    },
    {
      "cell_type": "code",
      "metadata": {
        "id": "RvWx-gxZ9ou3",
        "outputId": "65b71ac3-a742-493f-e6b3-b9800c83182f",
        "colab": {
          "base_uri": "https://localhost:8080/",
          "height": 34
        }
      },
      "source": [
        "#Para agrupar los archivos de una carpeta según su nombre \n",
        "extension = 'jpg'\n",
        "list_cropped_class = [i for i in glob.glob('*.{}'.format(extension))]\n",
        "list_cropped_class.sort()\n",
        "len(list_cropped_class)"
      ],
      "execution_count": null,
      "outputs": [
        {
          "output_type": "execute_result",
          "data": {
            "text/plain": [
              "714"
            ]
          },
          "metadata": {
            "tags": []
          },
          "execution_count": 29
        }
      ]
    },
    {
      "cell_type": "code",
      "metadata": {
        "id": "YOgxKqVvg6p4",
        "outputId": "f27dceba-03b9-42fd-c913-9d18b0b4eea3",
        "colab": {
          "base_uri": "https://localhost:8080/",
          "height": 34
        }
      },
      "source": [
        "#esto vamos cambiando respectivamente por amarillos o verdes\n",
        "#list_mano_amarillo_amarillo = list_cropped_class.copy()\n",
        "#len(list_mano_amarillo_amarillo)\n",
        "list_mano_verde_mano = list_cropped_class.copy()\n",
        "len(list_mano_verde_mano)"
      ],
      "execution_count": null,
      "outputs": [
        {
          "output_type": "execute_result",
          "data": {
            "text/plain": [
              "714"
            ]
          },
          "metadata": {
            "tags": []
          },
          "execution_count": 30
        }
      ]
    },
    {
      "cell_type": "code",
      "metadata": {
        "id": "DMyu718V9QMv",
        "outputId": "d915f4d8-5cb0-4f06-9558-0f95974cdbb2",
        "colab": {
          "base_uri": "https://localhost:8080/",
          "height": 34
        }
      },
      "source": [
        "##guardamos la lista en un archivo para no tener q generarla todas las veces:\n",
        "\n",
        "#volvemos a la carpeta mano-guante\n",
        "os.chdir('/content/drive/My Drive/Mentoria/crop') \n",
        "#list_data_muestra = list_mano_amarillo_amarillo\n",
        "#filename = 'list_mano_amarillo_amarillo.txt'\n",
        "#print(len(list_data_muestra))\n",
        "\n",
        "list_data_muestra = list_mano_verde_mano\n",
        "filename = 'list_mano_verde_mano.txt'\n",
        "print(len(list_data_muestra))\n",
        "\n",
        "#with open(filename, 'w') as f:\n",
        "#    f.write(json.dumps(list_data_muestra))\n"
      ],
      "execution_count": null,
      "outputs": [
        {
          "output_type": "stream",
          "text": [
            "714\n"
          ],
          "name": "stdout"
        }
      ]
    },
    {
      "cell_type": "code",
      "metadata": {
        "id": "-eDagNjRIp2i",
        "outputId": "b4108eda-3a53-43eb-cf0d-b6dd7f3d9f89",
        "colab": {
          "base_uri": "https://localhost:8080/",
          "height": 51
        }
      },
      "source": [
        "os.chdir('/content/drive/My Drive/Mentoria/crop') \n",
        "! ls *.txt"
      ],
      "execution_count": null,
      "outputs": [
        {
          "output_type": "stream",
          "text": [
            "list_mano_amarillo_amarillo.txt  list_mano_verde_mano.txt\n",
            "list_mano_amarillo_mano.txt\t list_mano_verde_verde.txt\n"
          ],
          "name": "stdout"
        }
      ]
    },
    {
      "cell_type": "code",
      "metadata": {
        "id": "HLhhsWETIfac",
        "outputId": "79295b6b-640a-4543-ca27-defde04025ed",
        "colab": {
          "base_uri": "https://localhost:8080/",
          "height": 34
        }
      },
      "source": [
        "filename = 'list_mano_verde_verde.txt'\n",
        "#abrimos el archivo con la lista:\n",
        "with open(filename, 'r') as f:\n",
        "    list_jpg_muestra = json.loads(f.read())\n",
        "\n",
        "print(len(list_jpg_muestra))"
      ],
      "execution_count": null,
      "outputs": [
        {
          "output_type": "stream",
          "text": [
            "703\n"
          ],
          "name": "stdout"
        }
      ]
    },
    {
      "cell_type": "markdown",
      "metadata": {
        "id": "Fm853DOrjmAb"
      },
      "source": [
        "Cuando separamos las que son manos, se supone que las que no están en la lista, son guantes, y viceversa. De todas formas, lo contabilizamos como para verificarlo."
      ]
    },
    {
      "cell_type": "code",
      "metadata": {
        "id": "g4G6bsPLktwI",
        "outputId": "cf2df00a-e92d-41e0-b1aa-2fb5cc031416",
        "colab": {
          "base_uri": "https://localhost:8080/",
          "height": 119
        }
      },
      "source": [
        "# A filename_chosen lo vamos cammbiando, dependiendo del csv. \n",
        "#filename_mano_guante_ch = 'all_Mano-Amarillo_cropped_df.csv' \n",
        "filename_mano_guante_ch = 'all_Mano-Verde_cropped_df.csv' \n",
        "filename_mano_guante_df=pd.read_csv(filename_mano_guante_ch, index_col=0)\n",
        "print(filename_mano_guante_df.head(2))\n",
        "print(filename_mano_guante_df.shape)"
      ],
      "execution_count": null,
      "outputs": [
        {
          "output_type": "stream",
          "text": [
            "                                       filename  xmin  ...  guantes  color\n",
            "0    T_P_Trabajando_Mano-Verde_5_single_box.jpg  1215  ...       no  Verde\n",
            "1  T_P_Trabajando_Mano-Verde_14_double_box1.jpg  1336  ...       no  Verde\n",
            "\n",
            "[2 rows x 13 columns]\n",
            "(1419, 13)\n"
          ],
          "name": "stdout"
        }
      ]
    },
    {
      "cell_type": "code",
      "metadata": {
        "id": "MHtkzF-EwmCV",
        "outputId": "2bdab110-3fcd-4445-a71c-8d94e583f078",
        "colab": {
          "base_uri": "https://localhost:8080/",
          "height": 210
        }
      },
      "source": [
        "#separamos las manos del archivo csv y corregimos el 'color':\n",
        "color = 'mano'\n",
        "#acá separamos las filas de manos de los archivos con guantes verdes/amarillos\n",
        "value_list = list_jpg_muestra #list_mano_amarillo_mano\n",
        "#value_list = list_mano_verde_mano\n",
        "mano_si = filename_mano_guante_df.filename.isin(value_list)\n",
        "mano_color_df = filename_mano_guante_df[mano_si].copy()\n",
        "#generamos nuevas columnas, que utilizaremos mas adelante para identificar los distintos archivos:\n",
        "mano_color_df['color'] = color\n",
        "print(mano_color_df.shape)\n",
        "mano_color_df.head(3)"
      ],
      "execution_count": null,
      "outputs": [
        {
          "output_type": "stream",
          "text": [
            "(714, 13)\n"
          ],
          "name": "stdout"
        },
        {
          "output_type": "execute_result",
          "data": {
            "text/html": [
              "<div>\n",
              "<style scoped>\n",
              "    .dataframe tbody tr th:only-of-type {\n",
              "        vertical-align: middle;\n",
              "    }\n",
              "\n",
              "    .dataframe tbody tr th {\n",
              "        vertical-align: top;\n",
              "    }\n",
              "\n",
              "    .dataframe thead th {\n",
              "        text-align: right;\n",
              "    }\n",
              "</style>\n",
              "<table border=\"1\" class=\"dataframe\">\n",
              "  <thead>\n",
              "    <tr style=\"text-align: right;\">\n",
              "      <th></th>\n",
              "      <th>filename</th>\n",
              "      <th>xmin</th>\n",
              "      <th>xmax</th>\n",
              "      <th>ymin</th>\n",
              "      <th>ymax</th>\n",
              "      <th>Time</th>\n",
              "      <th>Size</th>\n",
              "      <th>Type</th>\n",
              "      <th>Hand_Pixel_Width</th>\n",
              "      <th>Hand_Pixel_Height</th>\n",
              "      <th>Area</th>\n",
              "      <th>guantes</th>\n",
              "      <th>color</th>\n",
              "    </tr>\n",
              "  </thead>\n",
              "  <tbody>\n",
              "    <tr>\n",
              "      <th>1</th>\n",
              "      <td>T_P_Trabajando_Mano-Verde_14_double_box1.jpg</td>\n",
              "      <td>1336</td>\n",
              "      <td>1396</td>\n",
              "      <td>252</td>\n",
              "      <td>292</td>\n",
              "      <td>T</td>\n",
              "      <td>P</td>\n",
              "      <td>train</td>\n",
              "      <td>60</td>\n",
              "      <td>40</td>\n",
              "      <td>2400</td>\n",
              "      <td>no</td>\n",
              "      <td>mano</td>\n",
              "    </tr>\n",
              "    <tr>\n",
              "      <th>5</th>\n",
              "      <td>T_P_Trabajando_Mano-Verde_17_double_box2.jpg</td>\n",
              "      <td>1370</td>\n",
              "      <td>1424</td>\n",
              "      <td>248</td>\n",
              "      <td>303</td>\n",
              "      <td>T</td>\n",
              "      <td>P</td>\n",
              "      <td>train</td>\n",
              "      <td>54</td>\n",
              "      <td>55</td>\n",
              "      <td>2970</td>\n",
              "      <td>no</td>\n",
              "      <td>mano</td>\n",
              "    </tr>\n",
              "    <tr>\n",
              "      <th>7</th>\n",
              "      <td>T_P_Trabajando_Mano-Verde_29_double_box2.jpg</td>\n",
              "      <td>1287</td>\n",
              "      <td>1335</td>\n",
              "      <td>211</td>\n",
              "      <td>255</td>\n",
              "      <td>T</td>\n",
              "      <td>P</td>\n",
              "      <td>train</td>\n",
              "      <td>48</td>\n",
              "      <td>44</td>\n",
              "      <td>2112</td>\n",
              "      <td>no</td>\n",
              "      <td>mano</td>\n",
              "    </tr>\n",
              "  </tbody>\n",
              "</table>\n",
              "</div>"
            ],
            "text/plain": [
              "                                       filename  xmin  xmax  ...  Area  guantes color\n",
              "1  T_P_Trabajando_Mano-Verde_14_double_box1.jpg  1336  1396  ...  2400       no  mano\n",
              "5  T_P_Trabajando_Mano-Verde_17_double_box2.jpg  1370  1424  ...  2970       no  mano\n",
              "7  T_P_Trabajando_Mano-Verde_29_double_box2.jpg  1287  1335  ...  2112       no  mano\n",
              "\n",
              "[3 rows x 13 columns]"
            ]
          },
          "metadata": {
            "tags": []
          },
          "execution_count": 53
        }
      ]
    },
    {
      "cell_type": "code",
      "metadata": {
        "id": "Wnk9nBcEwjpC",
        "outputId": "1f76e189-8123-4fea-84c8-0e289637b696",
        "colab": {
          "base_uri": "https://localhost:8080/",
          "height": 34
        }
      },
      "source": [
        "#guardamos la tabla en archivo csv\n",
        "#name_mano_csv =  'Mano-Amarillo_'+ color +'_cropped_df.csv'\n",
        "name_mano_csv =  'Mano-Verde_'+ color +'_cropped_df.csv'\n",
        "#mano_color_df.to_csv(name_mano_csv) \n",
        "print(mano_color_df.shape)"
      ],
      "execution_count": null,
      "outputs": [
        {
          "output_type": "stream",
          "text": [
            "(714, 13)\n"
          ],
          "name": "stdout"
        }
      ]
    },
    {
      "cell_type": "code",
      "metadata": {
        "id": "9ZK-2S6Lc6aC",
        "outputId": "671a8cd7-2160-4729-c1d6-ba979b6ca5e3",
        "colab": {
          "base_uri": "https://localhost:8080/",
          "height": 102
        }
      },
      "source": [
        "! ls *.csv"
      ],
      "execution_count": null,
      "outputs": [
        {
          "output_type": "stream",
          "text": [
            "all_Amarillos_cropped_df.csv\t  all_Verdes_cropped_df.csv\n",
            "all_df.csv\t\t\t  Mano-Amarillo_amarillo_cropped_df.csv\n",
            "all_Mano-Amarillo_cropped_df.csv  Mano-Amarillo_mano_cropped_df.csv\n",
            "all_Manos_cropped_df.csv\t  Mano-Verde_mano_cropped_df.csv\n",
            "all_Mano-Verde_cropped_df.csv\t  Mano-Verde_verde_cropped_df.csv\n"
          ],
          "name": "stdout"
        }
      ]
    },
    {
      "cell_type": "code",
      "metadata": {
        "id": "70VL5i0NoFgE",
        "outputId": "4c5c7cec-2964-4a54-f9de-341970e5d44c",
        "colab": {
          "base_uri": "https://localhost:8080/",
          "height": 176
        }
      },
      "source": [
        "#separamos las manos del archivo csv y corregimos el 'guantes':\n",
        "guantes = 'si'\n",
        "#acá separamos las filas de manos de los archivos con guantes verdes/amarillos\n",
        "value_list = list_jpg_muestra  #list_mano_amarillo_mano\n",
        "#value_list = list_mano_verde_mano\n",
        "guante_si = ~filename_mano_guante_df.filename.isin(value_list)\n",
        "guante_color_df = filename_mano_guante_df[guante_si].copy()\n",
        "#generamos nuevas columnas, que utilizaremos mas adelante para identificar los distintos archivos:\n",
        "guante_color_df['guantes'] = guantes\n",
        "print(guante_color_df.shape)\n",
        "guante_color_df.head(3)"
      ],
      "execution_count": null,
      "outputs": [
        {
          "output_type": "stream",
          "text": [
            "(705, 13)\n"
          ],
          "name": "stdout"
        },
        {
          "output_type": "execute_result",
          "data": {
            "text/html": [
              "<div>\n",
              "<style scoped>\n",
              "    .dataframe tbody tr th:only-of-type {\n",
              "        vertical-align: middle;\n",
              "    }\n",
              "\n",
              "    .dataframe tbody tr th {\n",
              "        vertical-align: top;\n",
              "    }\n",
              "\n",
              "    .dataframe thead th {\n",
              "        text-align: right;\n",
              "    }\n",
              "</style>\n",
              "<table border=\"1\" class=\"dataframe\">\n",
              "  <thead>\n",
              "    <tr style=\"text-align: right;\">\n",
              "      <th></th>\n",
              "      <th>filename</th>\n",
              "      <th>xmin</th>\n",
              "      <th>xmax</th>\n",
              "      <th>ymin</th>\n",
              "      <th>ymax</th>\n",
              "      <th>Time</th>\n",
              "      <th>Size</th>\n",
              "      <th>Type</th>\n",
              "      <th>Hand_Pixel_Width</th>\n",
              "      <th>Hand_Pixel_Height</th>\n",
              "      <th>Area</th>\n",
              "      <th>guantes</th>\n",
              "      <th>color</th>\n",
              "    </tr>\n",
              "  </thead>\n",
              "  <tbody>\n",
              "    <tr>\n",
              "      <th>0</th>\n",
              "      <td>T_P_Trabajando_Mano-Verde_5_single_box.jpg</td>\n",
              "      <td>1215</td>\n",
              "      <td>1252</td>\n",
              "      <td>212</td>\n",
              "      <td>245</td>\n",
              "      <td>T</td>\n",
              "      <td>P</td>\n",
              "      <td>train</td>\n",
              "      <td>37</td>\n",
              "      <td>33</td>\n",
              "      <td>1221</td>\n",
              "      <td>si</td>\n",
              "      <td>Verde</td>\n",
              "    </tr>\n",
              "    <tr>\n",
              "      <th>2</th>\n",
              "      <td>T_P_Trabajando_Mano-Verde_14_double_box2.jpg</td>\n",
              "      <td>1235</td>\n",
              "      <td>1300</td>\n",
              "      <td>249</td>\n",
              "      <td>295</td>\n",
              "      <td>T</td>\n",
              "      <td>P</td>\n",
              "      <td>train</td>\n",
              "      <td>65</td>\n",
              "      <td>46</td>\n",
              "      <td>2990</td>\n",
              "      <td>si</td>\n",
              "      <td>Verde</td>\n",
              "    </tr>\n",
              "    <tr>\n",
              "      <th>3</th>\n",
              "      <td>T_P_Trabajando_Mano-Verde_7_single_box.jpg</td>\n",
              "      <td>1205</td>\n",
              "      <td>1251</td>\n",
              "      <td>199</td>\n",
              "      <td>259</td>\n",
              "      <td>T</td>\n",
              "      <td>P</td>\n",
              "      <td>train</td>\n",
              "      <td>46</td>\n",
              "      <td>60</td>\n",
              "      <td>2760</td>\n",
              "      <td>si</td>\n",
              "      <td>Verde</td>\n",
              "    </tr>\n",
              "  </tbody>\n",
              "</table>\n",
              "</div>"
            ],
            "text/plain": [
              "                                       filename  xmin  ...  guantes  color\n",
              "0    T_P_Trabajando_Mano-Verde_5_single_box.jpg  1215  ...       si  Verde\n",
              "2  T_P_Trabajando_Mano-Verde_14_double_box2.jpg  1235  ...       si  Verde\n",
              "3    T_P_Trabajando_Mano-Verde_7_single_box.jpg  1205  ...       si  Verde\n",
              "\n",
              "[3 rows x 13 columns]"
            ]
          },
          "metadata": {
            "tags": []
          },
          "execution_count": 56
        }
      ]
    },
    {
      "cell_type": "code",
      "metadata": {
        "id": "Di_baYupoFpo",
        "outputId": "8d906ba8-fa87-4587-a746-b1ef81a93b98",
        "colab": {
          "base_uri": "https://localhost:8080/",
          "height": 34
        }
      },
      "source": [
        "#lo guardamos en archivo csv: \n",
        "#name_guante_csv =  'Mano-Amarillo_amarillo_cropped_df.csv'\n",
        "name_guante_csv =  'Mano-Verde_verde_cropped_df.csv'\n",
        "guante_color_df.to_csv(name_guante_csv) \n",
        "print(guante_color_df.shape)"
      ],
      "execution_count": null,
      "outputs": [
        {
          "output_type": "stream",
          "text": [
            "(705, 13)\n"
          ],
          "name": "stdout"
        }
      ]
    },
    {
      "cell_type": "code",
      "metadata": {
        "id": "rU_d2s_BVV3S",
        "outputId": "8cdea66e-dc77-4445-e467-d7b8de400a24",
        "colab": {
          "base_uri": "https://localhost:8080/",
          "height": 119
        }
      },
      "source": [
        "# A filename_chosen lo vamos cammbiando, dependiendo del csv. \n",
        "filename_mano_guante_ch = 'Mano-Verde_verde_cropped_df.csv' \n",
        "filename_mano_guante_df=pd.read_csv(filename_mano_guante_ch, index_col=0)\n",
        "print(filename_mano_guante_df.shape)\n",
        "print(filename_mano_guante_df.head(2))\n"
      ],
      "execution_count": null,
      "outputs": [
        {
          "output_type": "stream",
          "text": [
            "(705, 13)\n",
            "                                       filename  xmin  ...  guantes  color\n",
            "0    T_P_Trabajando_Mano-Verde_5_single_box.jpg  1215  ...       si  Verde\n",
            "2  T_P_Trabajando_Mano-Verde_14_double_box2.jpg  1235  ...       si  Verde\n",
            "\n",
            "[2 rows x 13 columns]\n"
          ],
          "name": "stdout"
        }
      ]
    },
    {
      "cell_type": "code",
      "metadata": {
        "id": "--NuJ3v9f3C6"
      },
      "source": [
        "row1 = filename_mano_guante_df.loc[filename_mano_guante_df['filename'] == 'N_P_Trabajando_Mano-Verde_69_double_box1.jpg']\n",
        "row2 = filename_mano_guante_df.loc[filename_mano_guante_df['filename'] == 'N_P_Trabajando_Mano-Verde_69_double_box2.jpg']"
      ],
      "execution_count": null,
      "outputs": []
    },
    {
      "cell_type": "code",
      "metadata": {
        "id": "3yRduqOrj2ES",
        "outputId": "a5518c61-44e1-4a6a-8c01-8b6620828f1b",
        "colab": {
          "base_uri": "https://localhost:8080/",
          "height": 34
        }
      },
      "source": [
        "filename_mano_guante_df = filename_mano_guante_df[filename_mano_guante_df['filename'] != 'N_P_Trabajando_Mano-Verde_69_double_box1.jpg']\n",
        "filename_mano_guante_df = filename_mano_guante_df[filename_mano_guante_df['filename'] != 'N_P_Trabajando_Mano-Verde_69_double_box2.jpg']\n",
        "filename_mano_guante_df.shape\n"
      ],
      "execution_count": null,
      "outputs": [
        {
          "output_type": "execute_result",
          "data": {
            "text/plain": [
              "(703, 13)"
            ]
          },
          "metadata": {
            "tags": []
          },
          "execution_count": 91
        }
      ]
    },
    {
      "cell_type": "code",
      "metadata": {
        "id": "cEI89bo8kheZ",
        "outputId": "c8ad53ba-a7e4-4674-ace3-ab18634117b5",
        "colab": {
          "base_uri": "https://localhost:8080/",
          "height": 34
        }
      },
      "source": [
        "#name_guante_csv =  'Mano-Amarillo_amarillo_cropped_df.csv'\n",
        "name_guante_csv =  'Mano-Verde_verde_cropped_df.csv'\n",
        "filename_mano_guante_df.to_csv(name_guante_csv) \n",
        "print(filename_mano_guante_df.shape)"
      ],
      "execution_count": null,
      "outputs": [
        {
          "output_type": "stream",
          "text": [
            "(703, 13)\n"
          ],
          "name": "stdout"
        }
      ]
    },
    {
      "cell_type": "code",
      "metadata": {
        "id": "fgj6jkLRjrh9"
      },
      "source": [
        "row1 = filename_mano_guante_df.loc[filename_mano_guante_df['filename'] == 'N_P_Trabajando_Mano-Verde_69_double_box1.jpg']\n",
        "row2 = filename_mano_guante_df.loc[filename_mano_guante_df['filename'] == 'N_P_Trabajando_Mano-Verde_69_double_box2.jpg']"
      ],
      "execution_count": null,
      "outputs": []
    },
    {
      "cell_type": "code",
      "metadata": {
        "id": "c0IKagr5iEVa",
        "outputId": "89a76010-2636-43e0-9cb6-a1c1ecf7dc41",
        "colab": {
          "base_uri": "https://localhost:8080/",
          "height": 102
        }
      },
      "source": [
        "! ls *.csv"
      ],
      "execution_count": null,
      "outputs": [
        {
          "output_type": "stream",
          "text": [
            "all_Amarillos_cropped_df.csv\t  all_Verdes_cropped_df.csv\n",
            "all_df.csv\t\t\t  Mano-Amarillo_amarillo_cropped_df.csv\n",
            "all_Mano-Amarillo_cropped_df.csv  Mano-Amarillo_mano_cropped_df.csv\n",
            "all_Manos_cropped_df.csv\t  Mano-Verde_mano_cropped_df.csv\n",
            "all_Mano-Verde_cropped_df.csv\t  Mano-Verde_verde_cropped_df.csv\n"
          ],
          "name": "stdout"
        }
      ]
    },
    {
      "cell_type": "code",
      "metadata": {
        "id": "gD19kXQihVju",
        "outputId": "bf7dc25b-771c-4881-a91d-03c2a8bc21d6",
        "colab": {
          "base_uri": "https://localhost:8080/",
          "height": 119
        }
      },
      "source": [
        "# aquí haremos una chanchada... si se les ocurre una mejor forma, agradecida de no hacer enchastre.. esas 2 filas, \n",
        "# son las que necesita el archivo 'Mano-Amarillo_cropped_amarillo_df.csv' así que.... se las sumaremos! :D\n",
        "\n",
        "# A filename_chosen lo vamos cammbiando, dependiendo del csv. \n",
        "filename_yellow = 'Mano-Amarillo_amarillo_cropped_df.csv' \n",
        "filename_yellow_df=pd.read_csv(filename_yellow, index_col=0)\n",
        "filename_yellow_df = filename_yellow_df.append(row1)\n",
        "filename_yellow_df = filename_yellow_df.append(row2)\n",
        "print(filename_yellow_df.shape)\n",
        "print(filename_yellow_df.head(2))\n"
      ],
      "execution_count": null,
      "outputs": [
        {
          "output_type": "stream",
          "text": [
            "(736, 13)\n",
            "                                          filename  xmin  ...  guantes     color\n",
            "1  T_P_Trabajando_Mano-Amarillo_12_double_box2.jpg  1182  ...       si  Amarillo\n",
            "2  T_P_Trabajando_Mano-Amarillo_52_double_box1.jpg  1152  ...       si  Amarillo\n",
            "\n",
            "[2 rows x 13 columns]\n"
          ],
          "name": "stdout"
        }
      ]
    },
    {
      "cell_type": "code",
      "metadata": {
        "id": "g763WFUJiibA",
        "outputId": "bc590620-c267-41c3-c536-7a35ee02fa90",
        "colab": {
          "base_uri": "https://localhost:8080/",
          "height": 289
        }
      },
      "source": [
        "filename_yellow_df.tail()"
      ],
      "execution_count": null,
      "outputs": [
        {
          "output_type": "execute_result",
          "data": {
            "text/html": [
              "<div>\n",
              "<style scoped>\n",
              "    .dataframe tbody tr th:only-of-type {\n",
              "        vertical-align: middle;\n",
              "    }\n",
              "\n",
              "    .dataframe tbody tr th {\n",
              "        vertical-align: top;\n",
              "    }\n",
              "\n",
              "    .dataframe thead th {\n",
              "        text-align: right;\n",
              "    }\n",
              "</style>\n",
              "<table border=\"1\" class=\"dataframe\">\n",
              "  <thead>\n",
              "    <tr style=\"text-align: right;\">\n",
              "      <th></th>\n",
              "      <th>filename</th>\n",
              "      <th>xmin</th>\n",
              "      <th>xmax</th>\n",
              "      <th>ymin</th>\n",
              "      <th>ymax</th>\n",
              "      <th>Time</th>\n",
              "      <th>Size</th>\n",
              "      <th>Type</th>\n",
              "      <th>Hand_Pixel_Width</th>\n",
              "      <th>Hand_Pixel_Height</th>\n",
              "      <th>Area</th>\n",
              "      <th>guantes</th>\n",
              "      <th>color</th>\n",
              "    </tr>\n",
              "  </thead>\n",
              "  <tbody>\n",
              "    <tr>\n",
              "      <th>1436</th>\n",
              "      <td>N_G_Mostrando_Mano-Amarillo_47_double_box2.jpg</td>\n",
              "      <td>1058</td>\n",
              "      <td>1243</td>\n",
              "      <td>371</td>\n",
              "      <td>537</td>\n",
              "      <td>N</td>\n",
              "      <td>G</td>\n",
              "      <td>test</td>\n",
              "      <td>185</td>\n",
              "      <td>166</td>\n",
              "      <td>30710</td>\n",
              "      <td>si</td>\n",
              "      <td>Amarillo</td>\n",
              "    </tr>\n",
              "    <tr>\n",
              "      <th>1437</th>\n",
              "      <td>N_G_Mostrando_Mano-Amarillo_44_double_box1.jpg</td>\n",
              "      <td>1106</td>\n",
              "      <td>1271</td>\n",
              "      <td>338</td>\n",
              "      <td>529</td>\n",
              "      <td>N</td>\n",
              "      <td>G</td>\n",
              "      <td>test</td>\n",
              "      <td>165</td>\n",
              "      <td>191</td>\n",
              "      <td>31515</td>\n",
              "      <td>si</td>\n",
              "      <td>Amarillo</td>\n",
              "    </tr>\n",
              "    <tr>\n",
              "      <th>1439</th>\n",
              "      <td>N_G_Mostrando_Mano-Amarillo_42_double_box1.jpg</td>\n",
              "      <td>1197</td>\n",
              "      <td>1331</td>\n",
              "      <td>334</td>\n",
              "      <td>610</td>\n",
              "      <td>N</td>\n",
              "      <td>G</td>\n",
              "      <td>test</td>\n",
              "      <td>134</td>\n",
              "      <td>276</td>\n",
              "      <td>36984</td>\n",
              "      <td>si</td>\n",
              "      <td>Amarillo</td>\n",
              "    </tr>\n",
              "    <tr>\n",
              "      <th>1203</th>\n",
              "      <td>N_P_Trabajando_Mano-Verde_69_double_box1.jpg</td>\n",
              "      <td>962</td>\n",
              "      <td>1000</td>\n",
              "      <td>221</td>\n",
              "      <td>251</td>\n",
              "      <td>N</td>\n",
              "      <td>P</td>\n",
              "      <td>test</td>\n",
              "      <td>38</td>\n",
              "      <td>30</td>\n",
              "      <td>1140</td>\n",
              "      <td>si</td>\n",
              "      <td>Verde</td>\n",
              "    </tr>\n",
              "    <tr>\n",
              "      <th>1204</th>\n",
              "      <td>N_P_Trabajando_Mano-Verde_69_double_box2.jpg</td>\n",
              "      <td>936</td>\n",
              "      <td>979</td>\n",
              "      <td>243</td>\n",
              "      <td>275</td>\n",
              "      <td>N</td>\n",
              "      <td>P</td>\n",
              "      <td>test</td>\n",
              "      <td>43</td>\n",
              "      <td>32</td>\n",
              "      <td>1376</td>\n",
              "      <td>si</td>\n",
              "      <td>Verde</td>\n",
              "    </tr>\n",
              "  </tbody>\n",
              "</table>\n",
              "</div>"
            ],
            "text/plain": [
              "                                            filename  xmin  ...  guantes     color\n",
              "1436  N_G_Mostrando_Mano-Amarillo_47_double_box2.jpg  1058  ...       si  Amarillo\n",
              "1437  N_G_Mostrando_Mano-Amarillo_44_double_box1.jpg  1106  ...       si  Amarillo\n",
              "1439  N_G_Mostrando_Mano-Amarillo_42_double_box1.jpg  1197  ...       si  Amarillo\n",
              "1203    N_P_Trabajando_Mano-Verde_69_double_box1.jpg   962  ...       si     Verde\n",
              "1204    N_P_Trabajando_Mano-Verde_69_double_box2.jpg   936  ...       si     Verde\n",
              "\n",
              "[5 rows x 13 columns]"
            ]
          },
          "metadata": {
            "tags": []
          },
          "execution_count": 83
        }
      ]
    },
    {
      "cell_type": "code",
      "metadata": {
        "id": "Tv9wJq5Dir-V",
        "outputId": "7ba0ae93-d523-495e-dc42-718a34c7027d",
        "colab": {
          "base_uri": "https://localhost:8080/",
          "height": 34
        }
      },
      "source": [
        "#lo guardamos en archivo csv: \n",
        "#name_guante_csv =  'Mano-Amarillo_amarillo_cropped_df.csv'\n",
        "#filename_yellow_df.to_csv(name_guante_csv) \n",
        "#print(filename_yellow_df.shape)"
      ],
      "execution_count": null,
      "outputs": [
        {
          "output_type": "stream",
          "text": [
            "(736, 13)\n"
          ],
          "name": "stdout"
        }
      ]
    },
    {
      "cell_type": "code",
      "metadata": {
        "id": "y_sFj3zGWOna"
      },
      "source": [
        "list_green_csv = filename_mano_guante_df.filename.unique().tolist()"
      ],
      "execution_count": null,
      "outputs": []
    },
    {
      "cell_type": "code",
      "metadata": {
        "id": "4S44-be9XEec",
        "outputId": "3e6a1029-c8c3-4275-893f-861457227a72",
        "colab": {
          "base_uri": "https://localhost:8080/",
          "height": 51
        }
      },
      "source": [
        "#verificamos que haya la misma cantidad de filas únicas como fotos en el dataset\n",
        "diff(list_jpg_muestra, list_green_csv)"
      ],
      "execution_count": null,
      "outputs": [
        {
          "output_type": "execute_result",
          "data": {
            "text/plain": [
              "['N_P_Trabajando_Mano-Verde_69_double_box1.jpg',\n",
              " 'N_P_Trabajando_Mano-Verde_69_double_box2.jpg']"
            ]
          },
          "metadata": {
            "tags": []
          },
          "execution_count": 62
        }
      ]
    },
    {
      "cell_type": "code",
      "metadata": {
        "id": "9TQ7r1Ng8a66"
      },
      "source": [
        "# 'Mano-Amarillo_cropped_mano_df.csv'      # shape : (707, 13)\n",
        "# 'Mano-Amarillo_cropped_amarillo_df.csv'  # shape : (734, 13)\n",
        "# ['N_P_Trabajando_Mano-Verde_69_double_box1.jpg',  'N_P_Trabajando_Mano-Verde_69_double_box2.jpg'] están en la lista de Verdes pero\n",
        "# son dos guantes amarillos!\n",
        "# 'Mano-Verde_cropped_mano_df.csv'         # shape : (86, 13)\n",
        "# 'Mano-Verde_cropped_verde_df.csv'        # shape : (83, 13)\n",
        "\n",
        "\n",
        "#  guardamos una copia del csv en sus carpetas correspondientes"
      ],
      "execution_count": null,
      "outputs": []
    },
    {
      "cell_type": "markdown",
      "metadata": {
        "id": "Th8kDus9i6bT"
      },
      "source": [
        "Bueeeeno... luego de una magia anterior, tenemos la mismas fotos en las carpetas y en los archivos csv. Ahora podemos terminar de armar el dataset:"
      ]
    },
    {
      "cell_type": "code",
      "metadata": {
        "id": "E9P3uH577IHt",
        "outputId": "07d1bc32-f8fd-47f5-e671-5fa6fa9ee59e",
        "colab": {
          "base_uri": "https://localhost:8080/",
          "height": 289
        }
      },
      "source": [
        "#volvemos a leer los archivos:\n",
        "file_csv_m_g = ['Mano-Amarillo_mano_cropped_df.csv', 'Mano-Amarillo_amarillo_cropped_df.csv',\n",
        "         'Mano-Verde_mano_cropped_df.csv', 'Mano-Verde_verde_cropped_df.csv']\n",
        "\n",
        "for file_csv in file_csv_m_g:\n",
        "  print(file_csv)\n",
        "  \n",
        "  cropped_df = pd.read_csv(file_csv, index_col=0)\n",
        "  list_filename_df = cropped_df.filename.unique().tolist()\n",
        "\n",
        "  print('cantidad de fotos: ', len(list_filename_df)) \n",
        "  print(cropped_name_df,'shape:', cropped_df.shape, '\\n')"
      ],
      "execution_count": null,
      "outputs": [
        {
          "output_type": "stream",
          "text": [
            "Mano-Amarillo_mano_cropped_df.csv\n",
            "cantidad de fotos:  707\n",
            "all_Verdes_cropped_df.csv shape: (707, 13) \n",
            "\n",
            "Mano-Amarillo_amarillo_cropped_df.csv\n",
            "cantidad de fotos:  736\n",
            "all_Verdes_cropped_df.csv shape: (736, 13) \n",
            "\n",
            "Mano-Verde_mano_cropped_df.csv\n",
            "cantidad de fotos:  714\n",
            "all_Verdes_cropped_df.csv shape: (714, 13) \n",
            "\n",
            "Mano-Verde_verde_cropped_df.csv\n",
            "cantidad de fotos:  703\n",
            "all_Verdes_cropped_df.csv shape: (703, 13) \n",
            "\n"
          ],
          "name": "stdout"
        }
      ]
    },
    {
      "cell_type": "code",
      "metadata": {
        "id": "V87eu--JjRnA"
      },
      "source": [
        "# os.chdir('/content/drive/My Drive/Mentoria/crop/Mano-Amarillo/Mano')        # 707 fotos\n",
        "# os.chdir('/content/drive/My Drive/Mentoria/crop/Mano-Amarillo/Amarillo')     # 736 fotos  \n",
        "\n",
        "# os.chdir('/content/drive/My Drive/Mentoria/crop/Mano-Verde/Mano')           # 714 fotos\n",
        "# os.chdir('/content/drive/My Drive/Mentoria/crop/Mano-Verde/Verde')          # 703 fotos"
      ],
      "execution_count": null,
      "outputs": []
    },
    {
      "cell_type": "markdown",
      "metadata": {
        "id": "vD8nQrUW4DC8"
      },
      "source": [
        "Lo siguiente podríamos abordarlo juntando todas las manos y guantes. Pero para mayor control y no enloquecernos, vamos carpeta por carpeta, generando los vectores de features y luego los juntamos.\n",
        "\n",
        "Si se animan y quieren automatizar lo siguiente, genial :)"
      ]
    },
    {
      "cell_type": "code",
      "metadata": {
        "id": "qg1CWR2Mp2rA",
        "outputId": "e7e852e8-4755-4ab0-8a91-4666899594c1",
        "colab": {
          "base_uri": "https://localhost:8080/",
          "height": 68
        }
      },
      "source": [
        "#volvemos a la carpeta classes, vemos de copiar todos los csv correspondientes a esta carpeta\n",
        "os.chdir('/content/drive/My Drive/Mentoria/crop')\n",
        "#listamos solo las carpetas\n",
        "! ls -d */\n",
        "! ls -d */*/"
      ],
      "execution_count": null,
      "outputs": [
        {
          "output_type": "stream",
          "text": [
            "Amarillos/  Mano-Amarillo/  Manos/  Mano-Verde/  Verdes/\n",
            "Mano-Amarillo/Amarillo/  Mano-Verde/Mano/\n",
            "Mano-Amarillo/Mano/\t Mano-Verde/Verde/\n"
          ],
          "name": "stdout"
        }
      ]
    },
    {
      "cell_type": "code",
      "metadata": {
        "id": "UBKaiUeV2zEH",
        "outputId": "eb993cfd-9a93-4802-d40f-540c95a8737e",
        "colab": {
          "base_uri": "https://localhost:8080/",
          "height": 54
        }
      },
      "source": [
        "#listamos los csv\n",
        "extension = 'csv'\n",
        "list_files_csv = [i for i in glob.glob('*_cropped_df.{}'.format(extension))]\n",
        "list_files_csv = sorted(list_files_csv, reverse=False)\n",
        "print(list_files_csv)"
      ],
      "execution_count": null,
      "outputs": [
        {
          "output_type": "stream",
          "text": [
            "['Amarillos_cropped_df.csv', 'Mano-Amarillo_amarillo_cropped_df.csv', 'Mano-Amarillo_mano_cropped_df.csv', 'Mano-Verde_mano_cropped_df.csv', 'Mano-Verde_verde_cropped_df.csv', 'Manos_cropped_df.csv', 'Verdes_cropped_df.csv']\n"
          ],
          "name": "stdout"
        }
      ]
    },
    {
      "cell_type": "code",
      "metadata": {
        "id": "OK0JS6F1mfew",
        "outputId": "828af70f-8b63-4d8d-9c75-5f34b19125e6",
        "colab": {
          "base_uri": "https://localhost:8080/",
          "height": 493
        }
      },
      "source": [
        "#volvemos a leer los archivos:\n",
        "tipos = list_files_csv\n",
        "\n",
        "for tipo in tipos:\n",
        "  print(tipo)\n",
        "  cropped_df = pd.read_csv(tipo, index_col=0)\n",
        "  list_filename_df = cropped_df.filename.unique().tolist()\n",
        "\n",
        "  print('cantidad de fotos: ', len(list_filename_df)) \n",
        "  print(tipo,'shape:', cropped_df.shape, '\\n')"
      ],
      "execution_count": null,
      "outputs": [
        {
          "output_type": "stream",
          "text": [
            "Amarillos_cropped_df.csv\n",
            "cantidad de fotos:  3958\n",
            "Amarillos_cropped_df.csv shape: (3958, 13) \n",
            "\n",
            "Mano-Amarillo_amarillo_cropped_df.csv\n",
            "cantidad de fotos:  736\n",
            "Mano-Amarillo_amarillo_cropped_df.csv shape: (736, 13) \n",
            "\n",
            "Mano-Amarillo_mano_cropped_df.csv\n",
            "cantidad de fotos:  707\n",
            "Mano-Amarillo_mano_cropped_df.csv shape: (707, 13) \n",
            "\n",
            "Mano-Verde_mano_cropped_df.csv\n",
            "cantidad de fotos:  714\n",
            "Mano-Verde_mano_cropped_df.csv shape: (714, 13) \n",
            "\n",
            "Mano-Verde_verde_cropped_df.csv\n",
            "cantidad de fotos:  703\n",
            "Mano-Verde_verde_cropped_df.csv shape: (703, 13) \n",
            "\n",
            "Manos_cropped_df.csv\n",
            "cantidad de fotos:  4524\n",
            "Manos_cropped_df.csv shape: (4524, 13) \n",
            "\n",
            "Verdes_cropped_df.csv\n",
            "cantidad de fotos:  3855\n",
            "Verdes_cropped_df.csv shape: (3855, 13) \n",
            "\n"
          ],
          "name": "stdout"
        }
      ]
    },
    {
      "cell_type": "code",
      "metadata": {
        "id": "-ysdnI2YAMy5"
      },
      "source": [
        "# acá vamos cambiando los nombres de las carpetas.\n",
        "# [Amarillos/  Mano-Amarillo/  Manos/  Mano-Verde/  Verdes/]\n",
        "#! python3 features.py Mano-Verde/Verde/"
      ],
      "execution_count": null,
      "outputs": []
    },
    {
      "cell_type": "code",
      "metadata": {
        "id": "ewU4m89yBN0x"
      },
      "source": [
        "# copiamos el archivo json generado\n",
        "#! mv features.json features_Mano-Verde_verde_cropped.json"
      ],
      "execution_count": null,
      "outputs": []
    },
    {
      "cell_type": "code",
      "metadata": {
        "id": "aVCRkTHSbD73",
        "outputId": "d1836013-1d9d-453c-943b-f8d8b4a894d6",
        "colab": {
          "base_uri": "https://localhost:8080/",
          "height": 136
        }
      },
      "source": [
        "#listamos los json\n",
        "extension = 'json'\n",
        "list_files_json = [i for i in glob.glob('*.{}'.format(extension))]\n",
        "list_files_json = sorted(list_files_json, reverse=False)\n",
        "list_files_json"
      ],
      "execution_count": null,
      "outputs": [
        {
          "output_type": "execute_result",
          "data": {
            "text/plain": [
              "['features_Amarillos_cropped.json',\n",
              " 'features_Mano-Amarillo_amarillo_cropped.json',\n",
              " 'features_Mano-Amarillo_mano_cropped.json',\n",
              " 'features_Mano-Verde_mano_cropped.json',\n",
              " 'features_Mano-Verde_verde_cropped.json',\n",
              " 'features_Manos_cropped.json',\n",
              " 'features_Verdes_cropped.json']"
            ]
          },
          "metadata": {
            "tags": []
          },
          "execution_count": 10
        }
      ]
    },
    {
      "cell_type": "code",
      "metadata": {
        "id": "RziDBRXXbEI0",
        "outputId": "abac16d9-f3f4-47a4-e3da-b1522b4cf145",
        "colab": {
          "base_uri": "https://localhost:8080/",
          "height": 136
        }
      },
      "source": [
        "#Leemos y ordenamos por nombre los archivos csv:\n",
        "for csv_df in list_files_csv:\n",
        "  cropped_df = pd.read_csv(csv_df, index_col=0).sort_values(by=['filename'])\n",
        "  print(csv_df, ':', cropped_df.shape)\n",
        "  "
      ],
      "execution_count": null,
      "outputs": [
        {
          "output_type": "stream",
          "text": [
            "Amarillos_cropped_df.csv : (3958, 13)\n",
            "Mano-Amarillo_amarillo_cropped_df.csv : (736, 13)\n",
            "Mano-Amarillo_mano_cropped_df.csv : (707, 13)\n",
            "Mano-Verde_mano_cropped_df.csv : (714, 13)\n",
            "Mano-Verde_verde_cropped_df.csv : (703, 13)\n",
            "Manos_cropped_df.csv : (4524, 13)\n",
            "Verdes_cropped_df.csv : (3855, 13)\n"
          ],
          "name": "stdout"
        }
      ]
    },
    {
      "cell_type": "code",
      "metadata": {
        "id": "x1ZVfdH2g30n",
        "outputId": "350632c1-6988-4449-9e02-ba0b08fd9d2b",
        "colab": {
          "base_uri": "https://localhost:8080/",
          "height": 255
        }
      },
      "source": [
        "#acá armamos todos los archivos con los features de cada una de las carpetas:\n",
        "for json_file in list_files_json:\n",
        "  json_csv_name = json_file[:-5]+'_json_df.csv'\n",
        "  print(json_csv_name)\n",
        "\n",
        "  df = pd.read_json(json_file)\n",
        "  df_json_transpose = df.T.reset_index().copy()\n",
        "  #print(df_json_transpose.shape)\n",
        "\n",
        "  #para listar solo los nombres de los '.jpg'\n",
        "  list_index_json = df_json_transpose['index']\n",
        "  #print(len(list_index_json))\n",
        "\n",
        "  index_json = []\n",
        "\n",
        "  for file_jpg in list_index_json:\n",
        "    x = re.search('[A-Z]\\w+_.+jpg', file_jpg)\n",
        "    index_json.append(x.group())\n",
        "\n",
        "  #print(len(index_json)) \n",
        "\n",
        "  df_json_transpose['filename'] = index_json\n",
        "  df_json_transpose = df_json_transpose.drop(['index'], axis=1)\n",
        "  df_json_transpose = df_json_transpose.set_index('filename')\n",
        "  df_json_transpose = df_json_transpose.reset_index().sort_values(by=['filename']).copy()\n",
        "  print(df_json_transpose.shape)\n",
        "  df_json_transpose.to_csv(json_csv_name)"
      ],
      "execution_count": null,
      "outputs": [
        {
          "output_type": "stream",
          "text": [
            "features_Amarillos_cropped_json_df.csv\n",
            "(3958, 2049)\n",
            "features_Mano-Amarillo_amarillo_cropped_json_df.csv\n",
            "(736, 2049)\n",
            "features_Mano-Amarillo_mano_cropped_json_df.csv\n",
            "(707, 2049)\n",
            "features_Mano-Verde_mano_cropped_json_df.csv\n",
            "(714, 2049)\n",
            "features_Mano-Verde_verde_cropped_json_df.csv\n",
            "(703, 2049)\n",
            "features_Manos_cropped_json_df.csv\n",
            "(4524, 2049)\n",
            "features_Verdes_cropped_json_df.csv\n",
            "(3855, 2049)\n"
          ],
          "name": "stdout"
        }
      ]
    },
    {
      "cell_type": "code",
      "metadata": {
        "id": "vl4XwqXMiFcO",
        "outputId": "5a4db5e5-43bb-428b-f517-d7fee3404c8f",
        "colab": {
          "base_uri": "https://localhost:8080/",
          "height": 136
        }
      },
      "source": [
        "#listamos los json\n",
        "extension = 'csv'\n",
        "list_files_json_csv = [i for i in glob.glob('*cropped_json_df.{}'.format(extension))]\n",
        "list_files_json_csv = sorted(list_files_json_csv, reverse=False)\n",
        "list_files_json_csv"
      ],
      "execution_count": null,
      "outputs": [
        {
          "output_type": "execute_result",
          "data": {
            "text/plain": [
              "['features_Amarillos_cropped_json_df.csv',\n",
              " 'features_Mano-Amarillo_amarillo_cropped_json_df.csv',\n",
              " 'features_Mano-Amarillo_mano_cropped_json_df.csv',\n",
              " 'features_Mano-Verde_mano_cropped_json_df.csv',\n",
              " 'features_Mano-Verde_verde_cropped_json_df.csv',\n",
              " 'features_Manos_cropped_json_df.csv',\n",
              " 'features_Verdes_cropped_json_df.csv']"
            ]
          },
          "metadata": {
            "tags": []
          },
          "execution_count": 13
        }
      ]
    },
    {
      "cell_type": "code",
      "metadata": {
        "id": "B9BhZHn9idae",
        "outputId": "a07043c3-be89-44ae-ba84-5c3c6b51b59e",
        "colab": {
          "base_uri": "https://localhost:8080/",
          "height": 374
        }
      },
      "source": [
        "#juntamos el csv de features con el generado de los json\n",
        "for csv_df, json_csv_file in zip(list_files_csv, list_files_json_csv):\n",
        "  left  = pd.read_csv(csv_df, index_col=0).sort_values(by=['filename'])\n",
        "  right = pd.read_csv(json_csv_file, index_col=0).sort_values(by=['filename'])\n",
        "  print('left', csv_df, ':', left.shape)\n",
        "  print('right', json_csv_file, ':', right.shape)\n",
        "  result = pd.merge(left, right, on='filename')\n",
        "  result_name_df = result.copy()\n",
        "  print(result_name_df.shape)\n",
        "  result_name = csv_df[:-7] + '_features_labels_df.csv'\n",
        "  result_name_df.to_csv(result_name) \n",
        "  "
      ],
      "execution_count": null,
      "outputs": [
        {
          "output_type": "stream",
          "text": [
            "left Amarillos_cropped_df.csv : (3958, 13)\n",
            "right features_Amarillos_cropped_json_df.csv : (3958, 2049)\n",
            "(3958, 2061)\n",
            "left Mano-Amarillo_amarillo_cropped_df.csv : (736, 13)\n",
            "right features_Mano-Amarillo_amarillo_cropped_json_df.csv : (736, 2049)\n",
            "(736, 2061)\n",
            "left Mano-Amarillo_mano_cropped_df.csv : (707, 13)\n",
            "right features_Mano-Amarillo_mano_cropped_json_df.csv : (707, 2049)\n",
            "(707, 2061)\n",
            "left Mano-Verde_mano_cropped_df.csv : (714, 13)\n",
            "right features_Mano-Verde_mano_cropped_json_df.csv : (714, 2049)\n",
            "(714, 2061)\n",
            "left Mano-Verde_verde_cropped_df.csv : (703, 13)\n",
            "right features_Mano-Verde_verde_cropped_json_df.csv : (703, 2049)\n",
            "(703, 2061)\n",
            "left Manos_cropped_df.csv : (4524, 13)\n",
            "right features_Manos_cropped_json_df.csv : (4524, 2049)\n",
            "(4524, 2061)\n",
            "left Verdes_cropped_df.csv : (3855, 13)\n",
            "right features_Verdes_cropped_json_df.csv : (3855, 2049)\n",
            "(3855, 2061)\n"
          ],
          "name": "stdout"
        }
      ]
    },
    {
      "cell_type": "code",
      "metadata": {
        "id": "IfVtGESIidYS",
        "outputId": "6c7fa9e7-5388-4b18-f727-1d98d3f22c78",
        "colab": {
          "base_uri": "https://localhost:8080/",
          "height": 71
        }
      },
      "source": [
        "#listamos los csv\n",
        "extension = 'csv'\n",
        "list_files_features_csv = [i for i in glob.glob('*features_labels_df.{}'.format(extension))]\n",
        "list_files_features_csv = sorted(list_files_features_csv, reverse=False)\n",
        "print(list_files_features_csv)\n",
        "print(len(list_files_features_csv))"
      ],
      "execution_count": null,
      "outputs": [
        {
          "output_type": "stream",
          "text": [
            "['Amarillos_cropped_features_labels_df.csv', 'Mano-Amarillo_amarillo_cropped_features_labels_df.csv', 'Mano-Amarillo_mano_cropped_features_labels_df.csv', 'Mano-Verde_mano_cropped_features_labels_df.csv', 'Mano-Verde_verde_cropped_features_labels_df.csv', 'Manos_cropped_features_labels_df.csv', 'Verdes_cropped_features_labels_df.csv']\n",
            "7\n"
          ],
          "name": "stdout"
        }
      ]
    },
    {
      "cell_type": "code",
      "metadata": {
        "id": "5nWpPZulfSH6",
        "outputId": "34da4260-1803-42cc-d0e1-9af87f98994b",
        "colab": {
          "base_uri": "https://localhost:8080/",
          "height": 34
        }
      },
      "source": [
        "#juntamos todos los arhivos en una hermosa y gigante tabla final!! \n",
        "csv_wlabels = (pd.read_csv(f, index_col=0) for f in list_files_features_csv)\n",
        "csv_wlabels_all_df = pd.concat(csv_wlabels, ignore_index=True)\n",
        "print(csv_wlabels_all_df.shape)\n",
        "csv_wlabels_all_df.head()\n",
        "#csv_wlabels_all_df.to_csv('csv_wlabels_all_df.csv') "
      ],
      "execution_count": null,
      "outputs": [
        {
          "output_type": "stream",
          "text": [
            "(15197, 2061)\n"
          ],
          "name": "stdout"
        }
      ]
    },
    {
      "cell_type": "code",
      "metadata": {
        "id": "rFW9MpaFwh1m",
        "outputId": "ffe5109c-71cf-4fb9-ce3e-e36ce89dc611",
        "colab": {
          "base_uri": "https://localhost:8080/",
          "height": 270
        }
      },
      "source": [
        "#leemos el archivo de la tabla:\n",
        "csv_wlabels_df = pd.read_csv('csv_wlabels_all_df.csv', index_col=0)\n",
        "print(csv_wlabels_df.shape)\n",
        "csv_wlabels_df.head()"
      ],
      "execution_count": null,
      "outputs": [
        {
          "output_type": "stream",
          "text": [
            "(15197, 2061)\n"
          ],
          "name": "stdout"
        },
        {
          "output_type": "execute_result",
          "data": {
            "text/html": [
              "<div>\n",
              "<style scoped>\n",
              "    .dataframe tbody tr th:only-of-type {\n",
              "        vertical-align: middle;\n",
              "    }\n",
              "\n",
              "    .dataframe tbody tr th {\n",
              "        vertical-align: top;\n",
              "    }\n",
              "\n",
              "    .dataframe thead th {\n",
              "        text-align: right;\n",
              "    }\n",
              "</style>\n",
              "<table border=\"1\" class=\"dataframe\">\n",
              "  <thead>\n",
              "    <tr style=\"text-align: right;\">\n",
              "      <th></th>\n",
              "      <th>filename</th>\n",
              "      <th>xmin</th>\n",
              "      <th>xmax</th>\n",
              "      <th>ymin</th>\n",
              "      <th>ymax</th>\n",
              "      <th>Time</th>\n",
              "      <th>Size</th>\n",
              "      <th>Type</th>\n",
              "      <th>Hand_Pixel_Width</th>\n",
              "      <th>Hand_Pixel_Height</th>\n",
              "      <th>Area</th>\n",
              "      <th>guantes</th>\n",
              "      <th>color</th>\n",
              "      <th>0</th>\n",
              "      <th>1</th>\n",
              "      <th>2</th>\n",
              "      <th>3</th>\n",
              "      <th>4</th>\n",
              "      <th>5</th>\n",
              "      <th>6</th>\n",
              "      <th>7</th>\n",
              "      <th>8</th>\n",
              "      <th>9</th>\n",
              "      <th>10</th>\n",
              "      <th>11</th>\n",
              "      <th>12</th>\n",
              "      <th>13</th>\n",
              "      <th>14</th>\n",
              "      <th>15</th>\n",
              "      <th>16</th>\n",
              "      <th>17</th>\n",
              "      <th>18</th>\n",
              "      <th>19</th>\n",
              "      <th>20</th>\n",
              "      <th>21</th>\n",
              "      <th>22</th>\n",
              "      <th>23</th>\n",
              "      <th>24</th>\n",
              "      <th>25</th>\n",
              "      <th>26</th>\n",
              "      <th>...</th>\n",
              "      <th>2008</th>\n",
              "      <th>2009</th>\n",
              "      <th>2010</th>\n",
              "      <th>2011</th>\n",
              "      <th>2012</th>\n",
              "      <th>2013</th>\n",
              "      <th>2014</th>\n",
              "      <th>2015</th>\n",
              "      <th>2016</th>\n",
              "      <th>2017</th>\n",
              "      <th>2018</th>\n",
              "      <th>2019</th>\n",
              "      <th>2020</th>\n",
              "      <th>2021</th>\n",
              "      <th>2022</th>\n",
              "      <th>2023</th>\n",
              "      <th>2024</th>\n",
              "      <th>2025</th>\n",
              "      <th>2026</th>\n",
              "      <th>2027</th>\n",
              "      <th>2028</th>\n",
              "      <th>2029</th>\n",
              "      <th>2030</th>\n",
              "      <th>2031</th>\n",
              "      <th>2032</th>\n",
              "      <th>2033</th>\n",
              "      <th>2034</th>\n",
              "      <th>2035</th>\n",
              "      <th>2036</th>\n",
              "      <th>2037</th>\n",
              "      <th>2038</th>\n",
              "      <th>2039</th>\n",
              "      <th>2040</th>\n",
              "      <th>2041</th>\n",
              "      <th>2042</th>\n",
              "      <th>2043</th>\n",
              "      <th>2044</th>\n",
              "      <th>2045</th>\n",
              "      <th>2046</th>\n",
              "      <th>2047</th>\n",
              "    </tr>\n",
              "  </thead>\n",
              "  <tbody>\n",
              "    <tr>\n",
              "      <th>0</th>\n",
              "      <td>M_G_Mostrando_Amarillos_0_double_box1.jpg</td>\n",
              "      <td>218</td>\n",
              "      <td>461</td>\n",
              "      <td>464</td>\n",
              "      <td>715</td>\n",
              "      <td>M</td>\n",
              "      <td>G</td>\n",
              "      <td>train</td>\n",
              "      <td>243</td>\n",
              "      <td>251</td>\n",
              "      <td>60993</td>\n",
              "      <td>si</td>\n",
              "      <td>Amarillo</td>\n",
              "      <td>0.740974</td>\n",
              "      <td>1.066019</td>\n",
              "      <td>0.132695</td>\n",
              "      <td>0.224892</td>\n",
              "      <td>0.140456</td>\n",
              "      <td>0.129134</td>\n",
              "      <td>0.201447</td>\n",
              "      <td>1.076733</td>\n",
              "      <td>0.461108</td>\n",
              "      <td>0.299800</td>\n",
              "      <td>0.457940</td>\n",
              "      <td>0.201904</td>\n",
              "      <td>0.569677</td>\n",
              "      <td>0.737381</td>\n",
              "      <td>0.480929</td>\n",
              "      <td>0.200076</td>\n",
              "      <td>0.018410</td>\n",
              "      <td>0.674050</td>\n",
              "      <td>0.028826</td>\n",
              "      <td>0.005310</td>\n",
              "      <td>0.128693</td>\n",
              "      <td>0.592353</td>\n",
              "      <td>0.138541</td>\n",
              "      <td>0.141684</td>\n",
              "      <td>0.363294</td>\n",
              "      <td>0.264674</td>\n",
              "      <td>0.519292</td>\n",
              "      <td>...</td>\n",
              "      <td>0.463567</td>\n",
              "      <td>0.091676</td>\n",
              "      <td>0.300955</td>\n",
              "      <td>0.696112</td>\n",
              "      <td>2.409413</td>\n",
              "      <td>0.536980</td>\n",
              "      <td>0.102273</td>\n",
              "      <td>0.157441</td>\n",
              "      <td>0.165093</td>\n",
              "      <td>1.067619</td>\n",
              "      <td>0.751934</td>\n",
              "      <td>0.231443</td>\n",
              "      <td>0.487437</td>\n",
              "      <td>0.446320</td>\n",
              "      <td>0.822407</td>\n",
              "      <td>0.527523</td>\n",
              "      <td>0.217110</td>\n",
              "      <td>0.489194</td>\n",
              "      <td>1.535306</td>\n",
              "      <td>0.521390</td>\n",
              "      <td>0.599480</td>\n",
              "      <td>0.201182</td>\n",
              "      <td>0.391337</td>\n",
              "      <td>0.040206</td>\n",
              "      <td>1.347440</td>\n",
              "      <td>0.448389</td>\n",
              "      <td>0.462778</td>\n",
              "      <td>0.590751</td>\n",
              "      <td>0.877142</td>\n",
              "      <td>0.009986</td>\n",
              "      <td>0.939221</td>\n",
              "      <td>0.859877</td>\n",
              "      <td>0.981910</td>\n",
              "      <td>0.356366</td>\n",
              "      <td>1.748501</td>\n",
              "      <td>0.288037</td>\n",
              "      <td>0.079172</td>\n",
              "      <td>0.266234</td>\n",
              "      <td>0.078312</td>\n",
              "      <td>0.421612</td>\n",
              "    </tr>\n",
              "    <tr>\n",
              "      <th>1</th>\n",
              "      <td>M_G_Mostrando_Amarillos_0_double_box2.jpg</td>\n",
              "      <td>617</td>\n",
              "      <td>865</td>\n",
              "      <td>432</td>\n",
              "      <td>598</td>\n",
              "      <td>M</td>\n",
              "      <td>G</td>\n",
              "      <td>train</td>\n",
              "      <td>248</td>\n",
              "      <td>166</td>\n",
              "      <td>41168</td>\n",
              "      <td>si</td>\n",
              "      <td>Amarillo</td>\n",
              "      <td>1.621832</td>\n",
              "      <td>0.208859</td>\n",
              "      <td>0.627041</td>\n",
              "      <td>0.061717</td>\n",
              "      <td>0.052486</td>\n",
              "      <td>0.064176</td>\n",
              "      <td>0.479256</td>\n",
              "      <td>1.068516</td>\n",
              "      <td>0.509059</td>\n",
              "      <td>0.207385</td>\n",
              "      <td>0.218195</td>\n",
              "      <td>0.169190</td>\n",
              "      <td>0.695486</td>\n",
              "      <td>0.237641</td>\n",
              "      <td>0.146711</td>\n",
              "      <td>0.126334</td>\n",
              "      <td>0.029900</td>\n",
              "      <td>0.148363</td>\n",
              "      <td>0.126833</td>\n",
              "      <td>0.181351</td>\n",
              "      <td>0.044585</td>\n",
              "      <td>0.447270</td>\n",
              "      <td>0.134360</td>\n",
              "      <td>0.113650</td>\n",
              "      <td>1.153900</td>\n",
              "      <td>0.653832</td>\n",
              "      <td>0.041024</td>\n",
              "      <td>...</td>\n",
              "      <td>0.816892</td>\n",
              "      <td>0.027489</td>\n",
              "      <td>0.183116</td>\n",
              "      <td>0.626535</td>\n",
              "      <td>1.734605</td>\n",
              "      <td>0.672962</td>\n",
              "      <td>0.030057</td>\n",
              "      <td>0.101685</td>\n",
              "      <td>0.295544</td>\n",
              "      <td>0.392251</td>\n",
              "      <td>0.874054</td>\n",
              "      <td>0.105285</td>\n",
              "      <td>0.110713</td>\n",
              "      <td>0.421417</td>\n",
              "      <td>1.335695</td>\n",
              "      <td>0.500971</td>\n",
              "      <td>1.139208</td>\n",
              "      <td>0.110803</td>\n",
              "      <td>0.850265</td>\n",
              "      <td>0.618181</td>\n",
              "      <td>0.077352</td>\n",
              "      <td>0.376629</td>\n",
              "      <td>0.319234</td>\n",
              "      <td>0.783792</td>\n",
              "      <td>0.427963</td>\n",
              "      <td>0.133063</td>\n",
              "      <td>0.064981</td>\n",
              "      <td>0.017857</td>\n",
              "      <td>0.320706</td>\n",
              "      <td>0.219192</td>\n",
              "      <td>1.199712</td>\n",
              "      <td>0.808466</td>\n",
              "      <td>0.491182</td>\n",
              "      <td>0.356616</td>\n",
              "      <td>0.812572</td>\n",
              "      <td>0.481357</td>\n",
              "      <td>0.071471</td>\n",
              "      <td>0.572322</td>\n",
              "      <td>0.052072</td>\n",
              "      <td>0.213453</td>\n",
              "    </tr>\n",
              "    <tr>\n",
              "      <th>2</th>\n",
              "      <td>M_G_Mostrando_Amarillos_100_double_box1.jpg</td>\n",
              "      <td>831</td>\n",
              "      <td>1138</td>\n",
              "      <td>256</td>\n",
              "      <td>408</td>\n",
              "      <td>M</td>\n",
              "      <td>G</td>\n",
              "      <td>train</td>\n",
              "      <td>307</td>\n",
              "      <td>152</td>\n",
              "      <td>46664</td>\n",
              "      <td>si</td>\n",
              "      <td>Amarillo</td>\n",
              "      <td>1.029100</td>\n",
              "      <td>0.246964</td>\n",
              "      <td>0.825601</td>\n",
              "      <td>0.460009</td>\n",
              "      <td>0.467037</td>\n",
              "      <td>0.339540</td>\n",
              "      <td>0.653041</td>\n",
              "      <td>1.324649</td>\n",
              "      <td>0.890402</td>\n",
              "      <td>0.488183</td>\n",
              "      <td>0.639772</td>\n",
              "      <td>0.085819</td>\n",
              "      <td>0.928661</td>\n",
              "      <td>0.148958</td>\n",
              "      <td>0.066155</td>\n",
              "      <td>0.125391</td>\n",
              "      <td>0.191808</td>\n",
              "      <td>0.506981</td>\n",
              "      <td>0.257565</td>\n",
              "      <td>0.073959</td>\n",
              "      <td>0.115524</td>\n",
              "      <td>0.552251</td>\n",
              "      <td>0.764911</td>\n",
              "      <td>0.047104</td>\n",
              "      <td>0.207601</td>\n",
              "      <td>0.126297</td>\n",
              "      <td>0.286010</td>\n",
              "      <td>...</td>\n",
              "      <td>0.367434</td>\n",
              "      <td>0.436251</td>\n",
              "      <td>0.000000</td>\n",
              "      <td>0.863331</td>\n",
              "      <td>0.112969</td>\n",
              "      <td>0.902164</td>\n",
              "      <td>0.040710</td>\n",
              "      <td>0.467132</td>\n",
              "      <td>0.242757</td>\n",
              "      <td>0.853286</td>\n",
              "      <td>0.677067</td>\n",
              "      <td>0.300664</td>\n",
              "      <td>0.587456</td>\n",
              "      <td>0.112658</td>\n",
              "      <td>1.077973</td>\n",
              "      <td>0.144736</td>\n",
              "      <td>0.294853</td>\n",
              "      <td>0.065939</td>\n",
              "      <td>0.708062</td>\n",
              "      <td>1.192815</td>\n",
              "      <td>0.317312</td>\n",
              "      <td>0.421216</td>\n",
              "      <td>0.425882</td>\n",
              "      <td>1.091190</td>\n",
              "      <td>0.595093</td>\n",
              "      <td>0.138662</td>\n",
              "      <td>0.045023</td>\n",
              "      <td>0.543350</td>\n",
              "      <td>0.155850</td>\n",
              "      <td>0.305535</td>\n",
              "      <td>0.463963</td>\n",
              "      <td>0.355296</td>\n",
              "      <td>0.360880</td>\n",
              "      <td>0.322859</td>\n",
              "      <td>0.917611</td>\n",
              "      <td>0.408334</td>\n",
              "      <td>0.733588</td>\n",
              "      <td>0.416891</td>\n",
              "      <td>0.151471</td>\n",
              "      <td>0.045931</td>\n",
              "    </tr>\n",
              "    <tr>\n",
              "      <th>3</th>\n",
              "      <td>M_G_Mostrando_Amarillos_100_double_box2.jpg</td>\n",
              "      <td>511</td>\n",
              "      <td>812</td>\n",
              "      <td>8</td>\n",
              "      <td>228</td>\n",
              "      <td>M</td>\n",
              "      <td>G</td>\n",
              "      <td>train</td>\n",
              "      <td>301</td>\n",
              "      <td>220</td>\n",
              "      <td>66220</td>\n",
              "      <td>si</td>\n",
              "      <td>Amarillo</td>\n",
              "      <td>0.086092</td>\n",
              "      <td>0.455828</td>\n",
              "      <td>0.418580</td>\n",
              "      <td>0.131673</td>\n",
              "      <td>0.437982</td>\n",
              "      <td>0.424093</td>\n",
              "      <td>0.350489</td>\n",
              "      <td>1.974670</td>\n",
              "      <td>0.183887</td>\n",
              "      <td>0.241193</td>\n",
              "      <td>0.046988</td>\n",
              "      <td>0.312450</td>\n",
              "      <td>0.497026</td>\n",
              "      <td>0.135973</td>\n",
              "      <td>0.195146</td>\n",
              "      <td>0.010869</td>\n",
              "      <td>0.109539</td>\n",
              "      <td>0.234128</td>\n",
              "      <td>0.235778</td>\n",
              "      <td>0.108441</td>\n",
              "      <td>0.054660</td>\n",
              "      <td>0.327069</td>\n",
              "      <td>0.439913</td>\n",
              "      <td>0.050670</td>\n",
              "      <td>0.159292</td>\n",
              "      <td>0.159228</td>\n",
              "      <td>0.311495</td>\n",
              "      <td>...</td>\n",
              "      <td>0.625021</td>\n",
              "      <td>0.219692</td>\n",
              "      <td>0.029219</td>\n",
              "      <td>0.496582</td>\n",
              "      <td>1.540741</td>\n",
              "      <td>2.338270</td>\n",
              "      <td>0.039844</td>\n",
              "      <td>0.174714</td>\n",
              "      <td>0.383931</td>\n",
              "      <td>0.449525</td>\n",
              "      <td>0.104648</td>\n",
              "      <td>0.205243</td>\n",
              "      <td>0.104140</td>\n",
              "      <td>0.109657</td>\n",
              "      <td>1.092486</td>\n",
              "      <td>0.087052</td>\n",
              "      <td>0.451129</td>\n",
              "      <td>0.034648</td>\n",
              "      <td>0.272219</td>\n",
              "      <td>0.209507</td>\n",
              "      <td>0.138235</td>\n",
              "      <td>0.193764</td>\n",
              "      <td>0.081227</td>\n",
              "      <td>1.006930</td>\n",
              "      <td>1.506502</td>\n",
              "      <td>0.044992</td>\n",
              "      <td>1.047619</td>\n",
              "      <td>0.605296</td>\n",
              "      <td>0.391379</td>\n",
              "      <td>0.164156</td>\n",
              "      <td>0.325708</td>\n",
              "      <td>0.028549</td>\n",
              "      <td>0.225465</td>\n",
              "      <td>0.325055</td>\n",
              "      <td>0.460382</td>\n",
              "      <td>0.127341</td>\n",
              "      <td>0.140412</td>\n",
              "      <td>0.157423</td>\n",
              "      <td>0.296102</td>\n",
              "      <td>0.023314</td>\n",
              "    </tr>\n",
              "    <tr>\n",
              "      <th>4</th>\n",
              "      <td>M_G_Mostrando_Amarillos_101_double_box1.jpg</td>\n",
              "      <td>668</td>\n",
              "      <td>988</td>\n",
              "      <td>0</td>\n",
              "      <td>222</td>\n",
              "      <td>M</td>\n",
              "      <td>G</td>\n",
              "      <td>train</td>\n",
              "      <td>320</td>\n",
              "      <td>222</td>\n",
              "      <td>71040</td>\n",
              "      <td>si</td>\n",
              "      <td>Amarillo</td>\n",
              "      <td>0.068881</td>\n",
              "      <td>0.185060</td>\n",
              "      <td>0.427007</td>\n",
              "      <td>0.637546</td>\n",
              "      <td>0.357156</td>\n",
              "      <td>0.125816</td>\n",
              "      <td>0.450526</td>\n",
              "      <td>1.246901</td>\n",
              "      <td>0.236921</td>\n",
              "      <td>0.393104</td>\n",
              "      <td>0.632759</td>\n",
              "      <td>0.413947</td>\n",
              "      <td>0.119917</td>\n",
              "      <td>0.192305</td>\n",
              "      <td>0.372677</td>\n",
              "      <td>0.075668</td>\n",
              "      <td>0.103642</td>\n",
              "      <td>0.165934</td>\n",
              "      <td>0.239047</td>\n",
              "      <td>0.054987</td>\n",
              "      <td>0.129182</td>\n",
              "      <td>0.178563</td>\n",
              "      <td>0.217686</td>\n",
              "      <td>0.130172</td>\n",
              "      <td>0.080214</td>\n",
              "      <td>0.346873</td>\n",
              "      <td>0.392784</td>\n",
              "      <td>...</td>\n",
              "      <td>0.205059</td>\n",
              "      <td>0.225329</td>\n",
              "      <td>0.062677</td>\n",
              "      <td>0.558553</td>\n",
              "      <td>1.780167</td>\n",
              "      <td>1.919532</td>\n",
              "      <td>0.165511</td>\n",
              "      <td>0.649451</td>\n",
              "      <td>0.168220</td>\n",
              "      <td>0.127490</td>\n",
              "      <td>0.310012</td>\n",
              "      <td>0.071468</td>\n",
              "      <td>0.196005</td>\n",
              "      <td>0.042177</td>\n",
              "      <td>1.261848</td>\n",
              "      <td>0.216220</td>\n",
              "      <td>0.501204</td>\n",
              "      <td>0.194764</td>\n",
              "      <td>0.183244</td>\n",
              "      <td>0.426975</td>\n",
              "      <td>0.477355</td>\n",
              "      <td>0.349516</td>\n",
              "      <td>0.131819</td>\n",
              "      <td>0.489718</td>\n",
              "      <td>0.981365</td>\n",
              "      <td>0.049099</td>\n",
              "      <td>0.471963</td>\n",
              "      <td>0.190929</td>\n",
              "      <td>0.413278</td>\n",
              "      <td>0.175050</td>\n",
              "      <td>0.523058</td>\n",
              "      <td>0.028629</td>\n",
              "      <td>0.076427</td>\n",
              "      <td>0.462088</td>\n",
              "      <td>0.694069</td>\n",
              "      <td>0.060703</td>\n",
              "      <td>0.065414</td>\n",
              "      <td>0.296513</td>\n",
              "      <td>0.368063</td>\n",
              "      <td>0.039469</td>\n",
              "    </tr>\n",
              "  </tbody>\n",
              "</table>\n",
              "<p>5 rows × 2061 columns</p>\n",
              "</div>"
            ],
            "text/plain": [
              "                                      filename  xmin  ...      2046      2047\n",
              "0    M_G_Mostrando_Amarillos_0_double_box1.jpg   218  ...  0.078312  0.421612\n",
              "1    M_G_Mostrando_Amarillos_0_double_box2.jpg   617  ...  0.052072  0.213453\n",
              "2  M_G_Mostrando_Amarillos_100_double_box1.jpg   831  ...  0.151471  0.045931\n",
              "3  M_G_Mostrando_Amarillos_100_double_box2.jpg   511  ...  0.296102  0.023314\n",
              "4  M_G_Mostrando_Amarillos_101_double_box1.jpg   668  ...  0.368063  0.039469\n",
              "\n",
              "[5 rows x 2061 columns]"
            ]
          },
          "metadata": {
            "tags": []
          },
          "execution_count": 17
        }
      ]
    }
  ]
}