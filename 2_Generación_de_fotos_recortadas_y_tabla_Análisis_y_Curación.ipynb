{
  "nbformat": 4,
  "nbformat_minor": 0,
  "metadata": {
    "kernelspec": {
      "display_name": "Python 3",
      "language": "python",
      "name": "python3"
    },
    "language_info": {
      "codemirror_mode": {
        "name": "ipython",
        "version": 3
      },
      "file_extension": ".py",
      "mimetype": "text/x-python",
      "name": "python",
      "nbconvert_exporter": "python",
      "pygments_lexer": "ipython3",
      "version": "3.7.6"
    },
    "colab": {
      "name": "2-Generación_de_fotos_recortadas_y_tabla-Análisis_y_Curación.ipynb",
      "provenance": [],
      "collapsed_sections": [],
      "include_colab_link": true
    }
  },
  "cells": [
    {
      "cell_type": "markdown",
      "metadata": {
        "id": "view-in-github",
        "colab_type": "text"
      },
      "source": [
        "<a href=\"https://colab.research.google.com/github/luciabarg/mentoria_img/blob/master/2_Generaci%C3%B3n_de_fotos_recortadas_y_tabla_An%C3%A1lisis_y_Curaci%C3%B3n.ipynb\" target=\"_parent\"><img src=\"https://colab.research.google.com/assets/colab-badge.svg\" alt=\"Open In Colab\"/></a>"
      ]
    },
    {
      "cell_type": "markdown",
      "metadata": {
        "id": "d_u_OLIYQxHd",
        "colab_type": "text"
      },
      "source": [
        "<center>\n",
        "<h4>Universidad Nacional de Córdoba - Facultad de Matemática, Astronomía, Física y Computación </h4>\n",
        "<h3>Diplomatura en Ciencia de Datos, Aprendizaje Automático y sus Aplicaciones</h3>\n",
        "<h2>Mentoría: Detección de objetos en imágenes</h2>\n",
        "</center>\n"
      ]
    },
    {
      "cell_type": "markdown",
      "metadata": {
        "id": "2IqCQqvVHvO6",
        "colab_type": "text"
      },
      "source": [
        "En la siguiente notebook, incorporaremos parte de lo realizado en las entregas 1 de los grupos de estudiantes: \n",
        "\n",
        "* [Grupo 1](https://github.com/) : Ana Rusconi, Ignacio Grosso y  Mariano Lucero\n",
        "\n",
        "* [Grupo 2](https://github.com/leorodriguez/mentoria-diplodatos-grupo2):  Diego Gonzalez, Florencia Caballero, Joel Vivas y Leonardo Rodriguez\n"
      ]
    },
    {
      "cell_type": "markdown",
      "metadata": {
        "id": "ddLhX1-R-ZHO",
        "colab_type": "text"
      },
      "source": [
        "La siguiente notebook usa como entorno Colab:"
      ]
    },
    {
      "cell_type": "code",
      "metadata": {
        "id": "eI5MO4Ek-ctR",
        "colab_type": "code",
        "colab": {
          "base_uri": "https://localhost:8080/",
          "height": 34
        },
        "outputId": "eddf1ae2-7a98-43ce-be09-9c7785f06a3c"
      },
      "source": [
        "#vinculamos el Drive\n",
        "from google.colab import drive\n",
        "drive.mount('/content/drive')"
      ],
      "execution_count": null,
      "outputs": [
        {
          "output_type": "stream",
          "text": [
            "Drive already mounted at /content/drive; to attempt to forcibly remount, call drive.mount(\"/content/drive\", force_remount=True).\n"
          ],
          "name": "stdout"
        }
      ]
    },
    {
      "cell_type": "code",
      "metadata": {
        "id": "P78hPxhS-gZS",
        "colab_type": "code",
        "colab": {}
      },
      "source": [
        "# librerías necesarias \n",
        "import os\n",
        "from IPython.display import Image as Imge\n",
        "import pandas as pd\n",
        "import numpy as np\n",
        "import glob\n",
        "\n",
        "#seguimos agregando librerías necesarias:\n",
        "#las que no tengan, vayan instalándolas\n",
        "import cv2\n",
        "import numpy as np\n",
        "\n",
        "import matplotlib.pyplot as plt\n",
        "import PIL\n",
        "from PIL import Image\n",
        "from os import path\n",
        "\n",
        "from google.colab.patches import cv2_imshow #en Colab!\n",
        "\n",
        "import seaborn as sns\n",
        "\n",
        "import re\n",
        "\n",
        "import json"
      ],
      "execution_count": null,
      "outputs": []
    },
    {
      "cell_type": "markdown",
      "metadata": {
        "id": "Oi839kMF0Mt8",
        "colab_type": "text"
      },
      "source": [
        "<a name=\"exploratoracion_y_curacion\"></a>\n",
        "#### **2 - Exploración y Curación**"
      ]
    },
    {
      "cell_type": "markdown",
      "metadata": {
        "id": "E6iN3kWoUk5v",
        "colab_type": "text"
      },
      "source": [
        "#### <a name=\"generacion_tabla\"></a>\n",
        "#### **2.1 - Generación imágenes recortadas y tabla de features**"
      ]
    },
    {
      "cell_type": "markdown",
      "metadata": {
        "id": "D0QkIhKYKODL",
        "colab_type": "text"
      },
      "source": [
        "Como en la entrega anterior tuvieron la oportunidad de explorar una sola carpeta del dataset, en esta entrega vamos a utilizar una pequeña muestra de las imágenes para que el análisis sea mas representativo del conjunto de datos total. \n",
        "\n",
        "Esta notebook es para que vean como se la genera a las imágenes y la tabla que utilizarán en la siguiente notebook '[3-Análisis_y_Curación-Detección_de_Objetos](https://colab.research.google.com/drive/1E6ZUVrYo_n-YS5Hfc5MdIvB9j03ayJXi?usp=sharing)'\n",
        "\n",
        "La carpeta con los datos, es compartida en el [Drive](https://drive.google.com/drive/folders/1_2oDQPL7n8QI_YEUOecAHyabwA9Gmud0?usp=sharing) y en el desarrollo de esta entrega con las consignas, se utilizará la misma en el entorno de Colab, pero también pueden descargarla desde el repositorio de Github de la mentoría en la carpeta ['muestra'](https://github.com/luciabarg/mentoria_img) "
      ]
    },
    {
      "cell_type": "code",
      "metadata": {
        "id": "dPbmNI7s9lF7",
        "colab_type": "code",
        "colab": {
          "base_uri": "https://localhost:8080/",
          "height": 34
        },
        "outputId": "d77c7e0b-8120-458c-c794-47615fb6183a"
      },
      "source": [
        "#nos posicionamos en la carpeta muestra:\n",
        "os.chdir('/content/drive/My Drive/Mentoria/muestra')\n",
        "! ls -d Dataset-*/"
      ],
      "execution_count": null,
      "outputs": [
        {
          "output_type": "stream",
          "text": [
            "Dataset-M/  Dataset-N/\tDataset-T/\n"
          ],
          "name": "stdout"
        }
      ]
    },
    {
      "cell_type": "code",
      "metadata": {
        "id": "dk0d8VNdudFk",
        "colab_type": "code",
        "colab": {
          "base_uri": "https://localhost:8080/",
          "height": 270
        },
        "outputId": "e4bec5b3-bb7b-4515-ca81-68247d804c78"
      },
      "source": [
        "#leemos el archivo de la tabla:\n",
        "csv_wlabels_df = pd.read_csv('csv_wlabels_muestra_df.csv', index_col=0)\n",
        "print(csv_wlabels_df.shape)\n",
        "csv_wlabels_df.head()\n"
      ],
      "execution_count": null,
      "outputs": [
        {
          "output_type": "stream",
          "text": [
            "(1668, 2061)\n"
          ],
          "name": "stdout"
        },
        {
          "output_type": "execute_result",
          "data": {
            "text/html": [
              "<div>\n",
              "<style scoped>\n",
              "    .dataframe tbody tr th:only-of-type {\n",
              "        vertical-align: middle;\n",
              "    }\n",
              "\n",
              "    .dataframe tbody tr th {\n",
              "        vertical-align: top;\n",
              "    }\n",
              "\n",
              "    .dataframe thead th {\n",
              "        text-align: right;\n",
              "    }\n",
              "</style>\n",
              "<table border=\"1\" class=\"dataframe\">\n",
              "  <thead>\n",
              "    <tr style=\"text-align: right;\">\n",
              "      <th></th>\n",
              "      <th>filename</th>\n",
              "      <th>xmin</th>\n",
              "      <th>xmax</th>\n",
              "      <th>ymin</th>\n",
              "      <th>ymax</th>\n",
              "      <th>Time</th>\n",
              "      <th>Size</th>\n",
              "      <th>Type</th>\n",
              "      <th>Hand_Pixel_Width</th>\n",
              "      <th>Hand_Pixel_Height</th>\n",
              "      <th>Area</th>\n",
              "      <th>guantes</th>\n",
              "      <th>color</th>\n",
              "      <th>0</th>\n",
              "      <th>1</th>\n",
              "      <th>2</th>\n",
              "      <th>3</th>\n",
              "      <th>4</th>\n",
              "      <th>5</th>\n",
              "      <th>6</th>\n",
              "      <th>7</th>\n",
              "      <th>8</th>\n",
              "      <th>9</th>\n",
              "      <th>10</th>\n",
              "      <th>11</th>\n",
              "      <th>12</th>\n",
              "      <th>13</th>\n",
              "      <th>14</th>\n",
              "      <th>15</th>\n",
              "      <th>16</th>\n",
              "      <th>17</th>\n",
              "      <th>18</th>\n",
              "      <th>19</th>\n",
              "      <th>20</th>\n",
              "      <th>21</th>\n",
              "      <th>22</th>\n",
              "      <th>23</th>\n",
              "      <th>24</th>\n",
              "      <th>25</th>\n",
              "      <th>26</th>\n",
              "      <th>...</th>\n",
              "      <th>2008</th>\n",
              "      <th>2009</th>\n",
              "      <th>2010</th>\n",
              "      <th>2011</th>\n",
              "      <th>2012</th>\n",
              "      <th>2013</th>\n",
              "      <th>2014</th>\n",
              "      <th>2015</th>\n",
              "      <th>2016</th>\n",
              "      <th>2017</th>\n",
              "      <th>2018</th>\n",
              "      <th>2019</th>\n",
              "      <th>2020</th>\n",
              "      <th>2021</th>\n",
              "      <th>2022</th>\n",
              "      <th>2023</th>\n",
              "      <th>2024</th>\n",
              "      <th>2025</th>\n",
              "      <th>2026</th>\n",
              "      <th>2027</th>\n",
              "      <th>2028</th>\n",
              "      <th>2029</th>\n",
              "      <th>2030</th>\n",
              "      <th>2031</th>\n",
              "      <th>2032</th>\n",
              "      <th>2033</th>\n",
              "      <th>2034</th>\n",
              "      <th>2035</th>\n",
              "      <th>2036</th>\n",
              "      <th>2037</th>\n",
              "      <th>2038</th>\n",
              "      <th>2039</th>\n",
              "      <th>2040</th>\n",
              "      <th>2041</th>\n",
              "      <th>2042</th>\n",
              "      <th>2043</th>\n",
              "      <th>2044</th>\n",
              "      <th>2045</th>\n",
              "      <th>2046</th>\n",
              "      <th>2047</th>\n",
              "    </tr>\n",
              "  </thead>\n",
              "  <tbody>\n",
              "    <tr>\n",
              "      <th>0</th>\n",
              "      <td>M_G_Mostrando_Amarillos_0_double_box1.jpg</td>\n",
              "      <td>218</td>\n",
              "      <td>461</td>\n",
              "      <td>464</td>\n",
              "      <td>715</td>\n",
              "      <td>M</td>\n",
              "      <td>G</td>\n",
              "      <td>train</td>\n",
              "      <td>243</td>\n",
              "      <td>251</td>\n",
              "      <td>60993</td>\n",
              "      <td>si</td>\n",
              "      <td>Amarillo</td>\n",
              "      <td>0.740974</td>\n",
              "      <td>1.066019</td>\n",
              "      <td>0.132695</td>\n",
              "      <td>0.224892</td>\n",
              "      <td>0.140456</td>\n",
              "      <td>0.129134</td>\n",
              "      <td>0.201447</td>\n",
              "      <td>1.076733</td>\n",
              "      <td>0.461108</td>\n",
              "      <td>0.299800</td>\n",
              "      <td>0.457940</td>\n",
              "      <td>0.201904</td>\n",
              "      <td>0.569677</td>\n",
              "      <td>0.737381</td>\n",
              "      <td>0.480929</td>\n",
              "      <td>0.200076</td>\n",
              "      <td>0.018410</td>\n",
              "      <td>0.674050</td>\n",
              "      <td>0.028826</td>\n",
              "      <td>0.005310</td>\n",
              "      <td>0.128693</td>\n",
              "      <td>0.592353</td>\n",
              "      <td>0.138541</td>\n",
              "      <td>0.141684</td>\n",
              "      <td>0.363294</td>\n",
              "      <td>0.264674</td>\n",
              "      <td>0.519292</td>\n",
              "      <td>...</td>\n",
              "      <td>0.463567</td>\n",
              "      <td>0.091676</td>\n",
              "      <td>0.300955</td>\n",
              "      <td>0.696112</td>\n",
              "      <td>2.409413</td>\n",
              "      <td>0.536980</td>\n",
              "      <td>0.102273</td>\n",
              "      <td>0.157441</td>\n",
              "      <td>0.165093</td>\n",
              "      <td>1.067619</td>\n",
              "      <td>0.751934</td>\n",
              "      <td>0.231443</td>\n",
              "      <td>0.487437</td>\n",
              "      <td>0.446320</td>\n",
              "      <td>0.822407</td>\n",
              "      <td>0.527523</td>\n",
              "      <td>0.217110</td>\n",
              "      <td>0.489194</td>\n",
              "      <td>1.535306</td>\n",
              "      <td>0.521390</td>\n",
              "      <td>0.599480</td>\n",
              "      <td>0.201182</td>\n",
              "      <td>0.391337</td>\n",
              "      <td>0.040206</td>\n",
              "      <td>1.347440</td>\n",
              "      <td>0.448389</td>\n",
              "      <td>0.462778</td>\n",
              "      <td>0.590751</td>\n",
              "      <td>0.877142</td>\n",
              "      <td>0.009986</td>\n",
              "      <td>0.939221</td>\n",
              "      <td>0.859877</td>\n",
              "      <td>0.981910</td>\n",
              "      <td>0.356366</td>\n",
              "      <td>1.748501</td>\n",
              "      <td>0.288037</td>\n",
              "      <td>0.079172</td>\n",
              "      <td>0.266234</td>\n",
              "      <td>0.078312</td>\n",
              "      <td>0.421612</td>\n",
              "    </tr>\n",
              "    <tr>\n",
              "      <th>1</th>\n",
              "      <td>M_G_Mostrando_Amarillos_0_double_box2.jpg</td>\n",
              "      <td>617</td>\n",
              "      <td>865</td>\n",
              "      <td>432</td>\n",
              "      <td>598</td>\n",
              "      <td>M</td>\n",
              "      <td>G</td>\n",
              "      <td>train</td>\n",
              "      <td>248</td>\n",
              "      <td>166</td>\n",
              "      <td>41168</td>\n",
              "      <td>si</td>\n",
              "      <td>Amarillo</td>\n",
              "      <td>1.621832</td>\n",
              "      <td>0.208859</td>\n",
              "      <td>0.627041</td>\n",
              "      <td>0.061717</td>\n",
              "      <td>0.052486</td>\n",
              "      <td>0.064176</td>\n",
              "      <td>0.479256</td>\n",
              "      <td>1.068516</td>\n",
              "      <td>0.509059</td>\n",
              "      <td>0.207385</td>\n",
              "      <td>0.218195</td>\n",
              "      <td>0.169190</td>\n",
              "      <td>0.695486</td>\n",
              "      <td>0.237641</td>\n",
              "      <td>0.146711</td>\n",
              "      <td>0.126334</td>\n",
              "      <td>0.029900</td>\n",
              "      <td>0.148363</td>\n",
              "      <td>0.126833</td>\n",
              "      <td>0.181351</td>\n",
              "      <td>0.044585</td>\n",
              "      <td>0.447270</td>\n",
              "      <td>0.134360</td>\n",
              "      <td>0.113650</td>\n",
              "      <td>1.153900</td>\n",
              "      <td>0.653832</td>\n",
              "      <td>0.041024</td>\n",
              "      <td>...</td>\n",
              "      <td>0.816892</td>\n",
              "      <td>0.027489</td>\n",
              "      <td>0.183116</td>\n",
              "      <td>0.626535</td>\n",
              "      <td>1.734605</td>\n",
              "      <td>0.672962</td>\n",
              "      <td>0.030057</td>\n",
              "      <td>0.101685</td>\n",
              "      <td>0.295544</td>\n",
              "      <td>0.392251</td>\n",
              "      <td>0.874054</td>\n",
              "      <td>0.105285</td>\n",
              "      <td>0.110713</td>\n",
              "      <td>0.421417</td>\n",
              "      <td>1.335695</td>\n",
              "      <td>0.500971</td>\n",
              "      <td>1.139208</td>\n",
              "      <td>0.110803</td>\n",
              "      <td>0.850265</td>\n",
              "      <td>0.618181</td>\n",
              "      <td>0.077352</td>\n",
              "      <td>0.376629</td>\n",
              "      <td>0.319234</td>\n",
              "      <td>0.783792</td>\n",
              "      <td>0.427963</td>\n",
              "      <td>0.133063</td>\n",
              "      <td>0.064981</td>\n",
              "      <td>0.017857</td>\n",
              "      <td>0.320706</td>\n",
              "      <td>0.219192</td>\n",
              "      <td>1.199712</td>\n",
              "      <td>0.808466</td>\n",
              "      <td>0.491182</td>\n",
              "      <td>0.356616</td>\n",
              "      <td>0.812572</td>\n",
              "      <td>0.481357</td>\n",
              "      <td>0.071471</td>\n",
              "      <td>0.572322</td>\n",
              "      <td>0.052072</td>\n",
              "      <td>0.213453</td>\n",
              "    </tr>\n",
              "    <tr>\n",
              "      <th>2</th>\n",
              "      <td>M_G_Mostrando_Amarillos_105_double_box1.jpg</td>\n",
              "      <td>875</td>\n",
              "      <td>1169</td>\n",
              "      <td>321</td>\n",
              "      <td>450</td>\n",
              "      <td>M</td>\n",
              "      <td>G</td>\n",
              "      <td>train</td>\n",
              "      <td>294</td>\n",
              "      <td>129</td>\n",
              "      <td>37926</td>\n",
              "      <td>si</td>\n",
              "      <td>Amarillo</td>\n",
              "      <td>0.777015</td>\n",
              "      <td>0.350298</td>\n",
              "      <td>0.523675</td>\n",
              "      <td>0.141681</td>\n",
              "      <td>0.008227</td>\n",
              "      <td>0.364888</td>\n",
              "      <td>0.559975</td>\n",
              "      <td>1.060057</td>\n",
              "      <td>0.648008</td>\n",
              "      <td>0.075809</td>\n",
              "      <td>0.419526</td>\n",
              "      <td>0.200864</td>\n",
              "      <td>0.553840</td>\n",
              "      <td>0.182195</td>\n",
              "      <td>0.244877</td>\n",
              "      <td>0.038389</td>\n",
              "      <td>0.046786</td>\n",
              "      <td>0.020999</td>\n",
              "      <td>0.281995</td>\n",
              "      <td>0.016088</td>\n",
              "      <td>0.135179</td>\n",
              "      <td>0.635030</td>\n",
              "      <td>0.276898</td>\n",
              "      <td>0.014077</td>\n",
              "      <td>0.613297</td>\n",
              "      <td>0.622520</td>\n",
              "      <td>0.117482</td>\n",
              "      <td>...</td>\n",
              "      <td>0.250315</td>\n",
              "      <td>0.025067</td>\n",
              "      <td>0.150927</td>\n",
              "      <td>0.604435</td>\n",
              "      <td>1.067641</td>\n",
              "      <td>0.847809</td>\n",
              "      <td>0.220889</td>\n",
              "      <td>0.298962</td>\n",
              "      <td>0.535717</td>\n",
              "      <td>0.566534</td>\n",
              "      <td>0.531686</td>\n",
              "      <td>0.208911</td>\n",
              "      <td>0.254966</td>\n",
              "      <td>0.229268</td>\n",
              "      <td>1.809620</td>\n",
              "      <td>0.362365</td>\n",
              "      <td>0.468568</td>\n",
              "      <td>0.055350</td>\n",
              "      <td>1.388036</td>\n",
              "      <td>0.884211</td>\n",
              "      <td>0.340101</td>\n",
              "      <td>0.305252</td>\n",
              "      <td>0.343156</td>\n",
              "      <td>1.061346</td>\n",
              "      <td>1.043128</td>\n",
              "      <td>0.004126</td>\n",
              "      <td>0.033861</td>\n",
              "      <td>0.020319</td>\n",
              "      <td>0.621639</td>\n",
              "      <td>0.040598</td>\n",
              "      <td>0.916142</td>\n",
              "      <td>0.246840</td>\n",
              "      <td>0.688755</td>\n",
              "      <td>0.101427</td>\n",
              "      <td>0.917090</td>\n",
              "      <td>0.407893</td>\n",
              "      <td>0.343683</td>\n",
              "      <td>0.428996</td>\n",
              "      <td>0.080831</td>\n",
              "      <td>0.005678</td>\n",
              "    </tr>\n",
              "    <tr>\n",
              "      <th>3</th>\n",
              "      <td>M_G_Mostrando_Amarillos_105_double_box2.jpg</td>\n",
              "      <td>502</td>\n",
              "      <td>758</td>\n",
              "      <td>145</td>\n",
              "      <td>307</td>\n",
              "      <td>M</td>\n",
              "      <td>G</td>\n",
              "      <td>train</td>\n",
              "      <td>256</td>\n",
              "      <td>162</td>\n",
              "      <td>41472</td>\n",
              "      <td>si</td>\n",
              "      <td>Amarillo</td>\n",
              "      <td>0.206803</td>\n",
              "      <td>0.032262</td>\n",
              "      <td>0.783582</td>\n",
              "      <td>0.104788</td>\n",
              "      <td>0.198923</td>\n",
              "      <td>0.229943</td>\n",
              "      <td>0.102975</td>\n",
              "      <td>1.872409</td>\n",
              "      <td>0.646370</td>\n",
              "      <td>0.369061</td>\n",
              "      <td>0.323460</td>\n",
              "      <td>0.136720</td>\n",
              "      <td>0.515654</td>\n",
              "      <td>0.139382</td>\n",
              "      <td>0.084579</td>\n",
              "      <td>0.205710</td>\n",
              "      <td>0.007865</td>\n",
              "      <td>0.329643</td>\n",
              "      <td>0.279838</td>\n",
              "      <td>0.096330</td>\n",
              "      <td>0.003207</td>\n",
              "      <td>0.161915</td>\n",
              "      <td>0.546153</td>\n",
              "      <td>0.034820</td>\n",
              "      <td>0.178539</td>\n",
              "      <td>0.245108</td>\n",
              "      <td>0.190008</td>\n",
              "      <td>...</td>\n",
              "      <td>0.146642</td>\n",
              "      <td>0.114052</td>\n",
              "      <td>0.005513</td>\n",
              "      <td>0.370992</td>\n",
              "      <td>0.665213</td>\n",
              "      <td>1.402337</td>\n",
              "      <td>0.162487</td>\n",
              "      <td>0.155748</td>\n",
              "      <td>0.241372</td>\n",
              "      <td>0.702011</td>\n",
              "      <td>0.993891</td>\n",
              "      <td>0.174953</td>\n",
              "      <td>0.551115</td>\n",
              "      <td>0.294757</td>\n",
              "      <td>0.660277</td>\n",
              "      <td>0.545881</td>\n",
              "      <td>0.343379</td>\n",
              "      <td>0.348534</td>\n",
              "      <td>0.342936</td>\n",
              "      <td>0.632171</td>\n",
              "      <td>0.079185</td>\n",
              "      <td>0.238604</td>\n",
              "      <td>0.062875</td>\n",
              "      <td>0.798502</td>\n",
              "      <td>1.009929</td>\n",
              "      <td>0.130553</td>\n",
              "      <td>0.003187</td>\n",
              "      <td>0.115578</td>\n",
              "      <td>0.427998</td>\n",
              "      <td>0.110039</td>\n",
              "      <td>0.992854</td>\n",
              "      <td>0.904692</td>\n",
              "      <td>0.112806</td>\n",
              "      <td>0.488674</td>\n",
              "      <td>1.150740</td>\n",
              "      <td>0.275088</td>\n",
              "      <td>0.254404</td>\n",
              "      <td>0.455159</td>\n",
              "      <td>0.012721</td>\n",
              "      <td>0.091329</td>\n",
              "    </tr>\n",
              "    <tr>\n",
              "      <th>4</th>\n",
              "      <td>M_G_Mostrando_Amarillos_114_double_box1.jpg</td>\n",
              "      <td>916</td>\n",
              "      <td>1151</td>\n",
              "      <td>285</td>\n",
              "      <td>463</td>\n",
              "      <td>M</td>\n",
              "      <td>G</td>\n",
              "      <td>train</td>\n",
              "      <td>235</td>\n",
              "      <td>178</td>\n",
              "      <td>41830</td>\n",
              "      <td>si</td>\n",
              "      <td>Amarillo</td>\n",
              "      <td>0.683246</td>\n",
              "      <td>0.319097</td>\n",
              "      <td>0.322898</td>\n",
              "      <td>0.489538</td>\n",
              "      <td>0.152056</td>\n",
              "      <td>0.593756</td>\n",
              "      <td>0.177822</td>\n",
              "      <td>1.093265</td>\n",
              "      <td>0.949665</td>\n",
              "      <td>0.154196</td>\n",
              "      <td>0.645907</td>\n",
              "      <td>0.270926</td>\n",
              "      <td>0.383814</td>\n",
              "      <td>0.204949</td>\n",
              "      <td>0.398145</td>\n",
              "      <td>0.102344</td>\n",
              "      <td>0.060811</td>\n",
              "      <td>0.121956</td>\n",
              "      <td>0.028302</td>\n",
              "      <td>0.120451</td>\n",
              "      <td>0.244606</td>\n",
              "      <td>0.387735</td>\n",
              "      <td>0.251303</td>\n",
              "      <td>0.236359</td>\n",
              "      <td>0.880333</td>\n",
              "      <td>0.466272</td>\n",
              "      <td>0.185311</td>\n",
              "      <td>...</td>\n",
              "      <td>0.652505</td>\n",
              "      <td>0.140662</td>\n",
              "      <td>0.354066</td>\n",
              "      <td>0.571745</td>\n",
              "      <td>2.067905</td>\n",
              "      <td>1.038591</td>\n",
              "      <td>0.099552</td>\n",
              "      <td>0.280820</td>\n",
              "      <td>0.516782</td>\n",
              "      <td>0.820352</td>\n",
              "      <td>0.601326</td>\n",
              "      <td>0.042655</td>\n",
              "      <td>0.119472</td>\n",
              "      <td>0.094523</td>\n",
              "      <td>2.042640</td>\n",
              "      <td>0.790532</td>\n",
              "      <td>0.266744</td>\n",
              "      <td>0.056142</td>\n",
              "      <td>0.620942</td>\n",
              "      <td>0.859705</td>\n",
              "      <td>0.439731</td>\n",
              "      <td>0.290626</td>\n",
              "      <td>0.310608</td>\n",
              "      <td>0.721135</td>\n",
              "      <td>0.988298</td>\n",
              "      <td>0.026431</td>\n",
              "      <td>0.317181</td>\n",
              "      <td>0.199194</td>\n",
              "      <td>0.524838</td>\n",
              "      <td>0.139992</td>\n",
              "      <td>1.304742</td>\n",
              "      <td>0.415517</td>\n",
              "      <td>0.652986</td>\n",
              "      <td>0.141079</td>\n",
              "      <td>1.024287</td>\n",
              "      <td>0.117491</td>\n",
              "      <td>0.007151</td>\n",
              "      <td>0.294575</td>\n",
              "      <td>0.217550</td>\n",
              "      <td>0.240535</td>\n",
              "    </tr>\n",
              "  </tbody>\n",
              "</table>\n",
              "<p>5 rows × 2061 columns</p>\n",
              "</div>"
            ],
            "text/plain": [
              "                                      filename  xmin  ...      2046      2047\n",
              "0    M_G_Mostrando_Amarillos_0_double_box1.jpg   218  ...  0.078312  0.421612\n",
              "1    M_G_Mostrando_Amarillos_0_double_box2.jpg   617  ...  0.052072  0.213453\n",
              "2  M_G_Mostrando_Amarillos_105_double_box1.jpg   875  ...  0.080831  0.005678\n",
              "3  M_G_Mostrando_Amarillos_105_double_box2.jpg   502  ...  0.012721  0.091329\n",
              "4  M_G_Mostrando_Amarillos_114_double_box1.jpg   916  ...  0.217550  0.240535\n",
              "\n",
              "[5 rows x 2061 columns]"
            ]
          },
          "metadata": {
            "tags": []
          },
          "execution_count": 59
        }
      ]
    },
    {
      "cell_type": "markdown",
      "metadata": {
        "id": "hzaSIE2n4JFD",
        "colab_type": "text"
      },
      "source": [
        "Para que se hagan una idea de la cantidad de datos que deberíamos analizar, los exploramos y visualizamos con una tabla:"
      ]
    },
    {
      "cell_type": "code",
      "metadata": {
        "id": "6WVqbsPy4w8L",
        "colab_type": "code",
        "colab": {}
      },
      "source": [
        "#Nos ubicamos en la carpeta general\n",
        "os.chdir('/content/drive/My Drive/Mentoria')"
      ],
      "execution_count": null,
      "outputs": []
    },
    {
      "cell_type": "markdown",
      "metadata": {
        "id": "sxZ1wNgRSZqn",
        "colab_type": "text"
      },
      "source": [
        "Tenemos 3 conjuntos de datos, Mañana, Tarde y Noche:"
      ]
    },
    {
      "cell_type": "code",
      "metadata": {
        "id": "hSGQl79rSgCx",
        "colab_type": "code",
        "colab": {
          "base_uri": "https://localhost:8080/",
          "height": 34
        },
        "outputId": "6e130ea9-9405-47e8-e2e1-ccdd4afb948d"
      },
      "source": [
        "! ls"
      ],
      "execution_count": null,
      "outputs": [
        {
          "output_type": "stream",
          "text": [
            "Dataset-M  Dataset-N  Dataset-T  muestra\n"
          ],
          "name": "stdout"
        }
      ]
    },
    {
      "cell_type": "code",
      "metadata": {
        "id": "MxC9YRTk-X1d",
        "colab_type": "code",
        "colab": {}
      },
      "source": [
        "data_sets_path = \"/content/drive/My Drive/Mentoria\"\n",
        "os.chdir('{}'.format(data_sets_path))"
      ],
      "execution_count": null,
      "outputs": []
    },
    {
      "cell_type": "code",
      "metadata": {
        "id": "zU0MlZ5F-sZr",
        "colab_type": "code",
        "colab": {
          "base_uri": "https://localhost:8080/",
          "height": 34
        },
        "outputId": "48762bd2-b446-4b1c-c415-baa5a79e6576"
      },
      "source": [
        "#listamos todos las imágenes del dataset:\n",
        "list_dir = [i for i in glob.glob('./Dataset-*/*/*/*.jpg')]\n",
        "len(list_dir)\n",
        "\n",
        "list_jpg_files = []\n",
        "\n",
        "for file_jpg in list_dir:\n",
        "  x = re.search('[A-Z]\\w+_.+jpg', file_jpg)\n",
        "  list_jpg_files.append(x.group())\n",
        "\n",
        "print(len(list_jpg_files))  # len(list_jpg_files) = 8509"
      ],
      "execution_count": null,
      "outputs": [
        {
          "output_type": "stream",
          "text": [
            "8509\n"
          ],
          "name": "stdout"
        }
      ]
    },
    {
      "cell_type": "code",
      "metadata": {
        "id": "PxoHW_APSQtm",
        "colab_type": "code",
        "colab": {
          "base_uri": "https://localhost:8080/",
          "height": 204
        },
        "outputId": "9c202443-79d2-4dba-9fbf-db724d442755"
      },
      "source": [
        "# acá exploramos todos los archivos 'csv'. \n",
        "os.chdir('{}'.format(data_sets_path))\n",
        "\n",
        "def path(day_time, size, typ):\n",
        "    return (\"{path}/Dataset-{time}/{size}\"\n",
        "    \"/{time}-{size}-Labels_{typ}.csv\").format(path=data_sets_path,\n",
        "                                              time=day_time, size=size, typ=typ)\n",
        "def build_df(day_time, size, typ):\n",
        "    ds = pd.read_csv(path(day_time, size, typ))\n",
        "    ds['Time'] = day_time\n",
        "    ds['Size'] = size\n",
        "    ds['Type'] = typ\n",
        "    return ds\n",
        "\n",
        "\n",
        "types = [\"train\", \"test\"]\n",
        "day_time_list = [\"M\", \"T\", \"N\"]\n",
        "size_list = [\"G\", \"P\"]\n",
        "frames = [build_df(t, s, typ) for t in day_time_list for s in size_list for typ in types]\n",
        "total_data = pd.concat(frames, ignore_index=True)\n",
        "total_data[\"Hand_Pixel_Width\"]  = (total_data[\"xmax\"] - total_data[\"xmin\"])\n",
        "total_data[\"Hand_Pixel_Height\"] = (total_data[\"ymax\"] - total_data[\"ymin\"])\n",
        "total_data[\"Area\"] = total_data[\"Hand_Pixel_Width\"] * total_data[\"Hand_Pixel_Height\"]\n",
        "total_data.head()"
      ],
      "execution_count": null,
      "outputs": [
        {
          "output_type": "execute_result",
          "data": {
            "text/html": [
              "<div>\n",
              "<style scoped>\n",
              "    .dataframe tbody tr th:only-of-type {\n",
              "        vertical-align: middle;\n",
              "    }\n",
              "\n",
              "    .dataframe tbody tr th {\n",
              "        vertical-align: top;\n",
              "    }\n",
              "\n",
              "    .dataframe thead th {\n",
              "        text-align: right;\n",
              "    }\n",
              "</style>\n",
              "<table border=\"1\" class=\"dataframe\">\n",
              "  <thead>\n",
              "    <tr style=\"text-align: right;\">\n",
              "      <th></th>\n",
              "      <th>filename</th>\n",
              "      <th>width</th>\n",
              "      <th>height</th>\n",
              "      <th>class</th>\n",
              "      <th>xmin</th>\n",
              "      <th>ymin</th>\n",
              "      <th>xmax</th>\n",
              "      <th>ymax</th>\n",
              "      <th>Time</th>\n",
              "      <th>Size</th>\n",
              "      <th>Type</th>\n",
              "      <th>Hand_Pixel_Width</th>\n",
              "      <th>Hand_Pixel_Height</th>\n",
              "      <th>Area</th>\n",
              "    </tr>\n",
              "  </thead>\n",
              "  <tbody>\n",
              "    <tr>\n",
              "      <th>0</th>\n",
              "      <td>M_G_Trabajando_Mano-Verde_7.jpg</td>\n",
              "      <td>1920</td>\n",
              "      <td>1080</td>\n",
              "      <td>hand</td>\n",
              "      <td>877</td>\n",
              "      <td>262</td>\n",
              "      <td>1121</td>\n",
              "      <td>422</td>\n",
              "      <td>M</td>\n",
              "      <td>G</td>\n",
              "      <td>train</td>\n",
              "      <td>244</td>\n",
              "      <td>160</td>\n",
              "      <td>39040</td>\n",
              "    </tr>\n",
              "    <tr>\n",
              "      <th>1</th>\n",
              "      <td>M_G_Trabajando_Mano-Verde_7.jpg</td>\n",
              "      <td>1920</td>\n",
              "      <td>1080</td>\n",
              "      <td>hand</td>\n",
              "      <td>1104</td>\n",
              "      <td>121</td>\n",
              "      <td>1266</td>\n",
              "      <td>278</td>\n",
              "      <td>M</td>\n",
              "      <td>G</td>\n",
              "      <td>train</td>\n",
              "      <td>162</td>\n",
              "      <td>157</td>\n",
              "      <td>25434</td>\n",
              "    </tr>\n",
              "    <tr>\n",
              "      <th>2</th>\n",
              "      <td>M_G_Trabajando_Verdes_170.jpg</td>\n",
              "      <td>1920</td>\n",
              "      <td>1080</td>\n",
              "      <td>hand</td>\n",
              "      <td>1001</td>\n",
              "      <td>332</td>\n",
              "      <td>1329</td>\n",
              "      <td>613</td>\n",
              "      <td>M</td>\n",
              "      <td>G</td>\n",
              "      <td>train</td>\n",
              "      <td>328</td>\n",
              "      <td>281</td>\n",
              "      <td>92168</td>\n",
              "    </tr>\n",
              "    <tr>\n",
              "      <th>3</th>\n",
              "      <td>M_G_Trabajando_Verdes_170.jpg</td>\n",
              "      <td>1920</td>\n",
              "      <td>1080</td>\n",
              "      <td>hand</td>\n",
              "      <td>1233</td>\n",
              "      <td>289</td>\n",
              "      <td>1353</td>\n",
              "      <td>395</td>\n",
              "      <td>M</td>\n",
              "      <td>G</td>\n",
              "      <td>train</td>\n",
              "      <td>120</td>\n",
              "      <td>106</td>\n",
              "      <td>12720</td>\n",
              "    </tr>\n",
              "    <tr>\n",
              "      <th>4</th>\n",
              "      <td>M_G_Trabajando_Manos_28.jpg</td>\n",
              "      <td>1920</td>\n",
              "      <td>1080</td>\n",
              "      <td>hand</td>\n",
              "      <td>812</td>\n",
              "      <td>219</td>\n",
              "      <td>944</td>\n",
              "      <td>320</td>\n",
              "      <td>M</td>\n",
              "      <td>G</td>\n",
              "      <td>train</td>\n",
              "      <td>132</td>\n",
              "      <td>101</td>\n",
              "      <td>13332</td>\n",
              "    </tr>\n",
              "  </tbody>\n",
              "</table>\n",
              "</div>"
            ],
            "text/plain": [
              "                          filename  width  ...  Hand_Pixel_Height   Area\n",
              "0  M_G_Trabajando_Mano-Verde_7.jpg   1920  ...                160  39040\n",
              "1  M_G_Trabajando_Mano-Verde_7.jpg   1920  ...                157  25434\n",
              "2    M_G_Trabajando_Verdes_170.jpg   1920  ...                281  92168\n",
              "3    M_G_Trabajando_Verdes_170.jpg   1920  ...                106  12720\n",
              "4      M_G_Trabajando_Manos_28.jpg   1920  ...                101  13332\n",
              "\n",
              "[5 rows x 14 columns]"
            ]
          },
          "metadata": {
            "tags": []
          },
          "execution_count": 8
        }
      ]
    },
    {
      "cell_type": "code",
      "metadata": {
        "id": "4E5Yb011t5mJ",
        "colab_type": "code",
        "colab": {
          "base_uri": "https://localhost:8080/",
          "height": 34
        },
        "outputId": "a4c75852-9f6f-49c8-f2ac-e7b87a35007c"
      },
      "source": [
        "list_filename_csv = total_data.filename.unique().tolist()\n",
        "len(list_filename_csv)  # len(list_filename_csv) = 8509"
      ],
      "execution_count": null,
      "outputs": [
        {
          "output_type": "execute_result",
          "data": {
            "text/plain": [
              "8509"
            ]
          },
          "metadata": {
            "tags": []
          },
          "execution_count": 9
        }
      ]
    },
    {
      "cell_type": "markdown",
      "metadata": {
        "id": "EiyFh7n_S03S",
        "colab_type": "text"
      },
      "source": [
        "El asunto es que tienen los valores de todas las imágenes y en nuestro caso, tenemos solo una porción de los mismos, por lo que nos debemos quedar aquellas filas que se correspondan a los imágenes que tenemos:\n"
      ]
    },
    {
      "cell_type": "code",
      "metadata": {
        "id": "HlkjfP5h5ECk",
        "colab_type": "code",
        "colab": {
          "base_uri": "https://localhost:8080/",
          "height": 51
        },
        "outputId": "5f0b0096-e7a8-4268-dbcc-f097b8e7c647"
      },
      "source": [
        "#nos posicionamos en la carpeta muestra:\n",
        "os.chdir('/content/drive/My Drive/Mentoria/muestra')\n",
        "! ls"
      ],
      "execution_count": null,
      "outputs": [
        {
          "output_type": "stream",
          "text": [
            "all_jpg_muestra  Dataset-N  list_jpg_muestra.txt\n",
            "Dataset-M\t Dataset-T  muestra_df.csv\n"
          ],
          "name": "stdout"
        }
      ]
    },
    {
      "cell_type": "markdown",
      "metadata": {
        "id": "f3biXMOS5WkB",
        "colab_type": "text"
      },
      "source": [
        "Si bien podríamos ir carpeta por carpeta, o generar la tabla anterior con las carpetas dentro de muestra, podemos tomar la información de la tabla anterior, y elegir solo las filas que nos hace falta juntando todas las imágenes en una misma carpeta:"
      ]
    },
    {
      "cell_type": "code",
      "metadata": {
        "id": "wZE4-KnDU2I0",
        "colab_type": "code",
        "colab": {
          "base_uri": "https://localhost:8080/",
          "height": 34
        },
        "outputId": "58318ebc-3b52-4a79-bbcd-3df5058ae991"
      },
      "source": [
        "# acá juntamos todas las fotos de muestra seleccionadas:\n",
        "os.chdir('/content/drive/My Drive/Mentoria/muestra/all_jpg_muestra')\n",
        "! ls -d */"
      ],
      "execution_count": null,
      "outputs": [
        {
          "output_type": "stream",
          "text": [
            "classes/  crop/\n"
          ],
          "name": "stdout"
        }
      ]
    },
    {
      "cell_type": "code",
      "metadata": {
        "id": "loGHnQpF6ldq",
        "colab_type": "code",
        "colab": {
          "base_uri": "https://localhost:8080/",
          "height": 119
        },
        "outputId": "8d936bb5-2689-4a7d-ff8a-09ce842f6f7f"
      },
      "source": [
        "list_jpg_muestra = [i for i in glob.glob('*.jpg')]\n",
        "print(len(list_jpg_muestra))\n",
        "list_jpg_muestra[0:5]"
      ],
      "execution_count": null,
      "outputs": [
        {
          "output_type": "stream",
          "text": [
            "951\n"
          ],
          "name": "stdout"
        },
        {
          "output_type": "execute_result",
          "data": {
            "text/plain": [
              "['M_G_Mostrando_Verdes_193.jpg',\n",
              " 'M_G_Mostrando_Manos_0.jpg',\n",
              " 'M_G_Mostrando_Manos_186.jpg',\n",
              " 'M_G_Mostrando_Manos_103.jpg',\n",
              " 'M_G_Mostrando_Amarillos_144.jpg']"
            ]
          },
          "metadata": {
            "tags": []
          },
          "execution_count": 194
        }
      ]
    },
    {
      "cell_type": "code",
      "metadata": {
        "id": "RmOpbgj42Xkg",
        "colab_type": "code",
        "colab": {
          "base_uri": "https://localhost:8080/",
          "height": 119
        },
        "outputId": "a7084c94-4c07-43a1-933f-bb0bf732be5c"
      },
      "source": [
        "#otra forma de listar, usando las carpetas\n",
        "list_dir = [i for i in glob.glob('./Dataset-*/*/*/*.jpg')]\n",
        "print(len(list_dir))\n",
        "\n",
        "list_jpg_muestra = []\n",
        "\n",
        "for file_jpg in list_dir:\n",
        "  x = re.search('[A-Z]\\w+_.+jpg', file_jpg)\n",
        "  list_jpg_files.append(x.group())\n",
        "\n",
        "list_jpg_files[0:5]"
      ],
      "execution_count": null,
      "outputs": [
        {
          "output_type": "stream",
          "text": [
            "951\n"
          ],
          "name": "stdout"
        },
        {
          "output_type": "execute_result",
          "data": {
            "text/plain": [
              "['T_P_Mostrando_Amarillos_100.jpg',\n",
              " 'T_P_Mostrando_Mano-Amarillo_15.jpg',\n",
              " 'T_P_Trabajando_Amarillos_101.jpg',\n",
              " 'T_P_Mostrando_Amarillos_90.jpg',\n",
              " 'T_P_Mostrando_Manos_159.jpg']"
            ]
          },
          "metadata": {
            "tags": []
          },
          "execution_count": 187
        }
      ]
    },
    {
      "cell_type": "code",
      "metadata": {
        "id": "m_jJqFtmQkB1",
        "colab_type": "code",
        "colab": {}
      },
      "source": [
        "##guardamos la lista en un archivo para no tener q generarla todas las veces:\n",
        "#with open('list_jpg_muestra.txt', 'w') as f:\n",
        "#    f.write(json.dumps(list_data_muestra))\n",
        "\n",
        "#abrimos el archivo con la lista:\n",
        "with open('list_jpg_muestra.txt', 'r') as f:\n",
        "    list_jpg_muestra = json.loads(f.read())"
      ],
      "execution_count": null,
      "outputs": []
    },
    {
      "cell_type": "code",
      "metadata": {
        "id": "toZ71Uu0wGz6",
        "colab_type": "code",
        "colab": {
          "base_uri": "https://localhost:8080/",
          "height": 34
        },
        "outputId": "0f6896a7-4f25-495f-c852-48e72db9e438"
      },
      "source": [
        "#acá separamos las filas de los archivos de la lista:\n",
        "value_list = list_jpg_muestra\n",
        "muestra_files = total_data.filename.isin(value_list)\n",
        "muestra_df = total_data[muestra_files].copy()\n",
        "#eliminamos columnas innecesarias\n",
        "muestra_df = muestra_df.drop(['width',\t'height',\t'class'], axis=1)\n",
        "muestra_df.shape"
      ],
      "execution_count": null,
      "outputs": [
        {
          "output_type": "execute_result",
          "data": {
            "text/plain": [
              "(1668, 11)"
            ]
          },
          "metadata": {
            "tags": []
          },
          "execution_count": 248
        }
      ]
    },
    {
      "cell_type": "code",
      "metadata": {
        "id": "_XQnBqArTVb6",
        "colab_type": "code",
        "colab": {}
      },
      "source": [
        "#lo guardamos en un archivo por única vez, luego de generarlo:\n",
        "#muestra_df.to_csv('muestra_df.csv') "
      ],
      "execution_count": null,
      "outputs": []
    },
    {
      "cell_type": "code",
      "metadata": {
        "id": "wXZHXTYoT4Ii",
        "colab_type": "code",
        "colab": {
          "base_uri": "https://localhost:8080/",
          "height": 204
        },
        "outputId": "97dc3cc9-6eaf-4f91-b547-4459e64f41e8"
      },
      "source": [
        "#volvemos a leer el archivo:\n",
        "muestra_jpg_df = pd.read_csv('muestra_df.csv', index_col=0)\n",
        "muestra_jpg_df.head()"
      ],
      "execution_count": null,
      "outputs": [
        {
          "output_type": "execute_result",
          "data": {
            "text/html": [
              "<div>\n",
              "<style scoped>\n",
              "    .dataframe tbody tr th:only-of-type {\n",
              "        vertical-align: middle;\n",
              "    }\n",
              "\n",
              "    .dataframe tbody tr th {\n",
              "        vertical-align: top;\n",
              "    }\n",
              "\n",
              "    .dataframe thead th {\n",
              "        text-align: right;\n",
              "    }\n",
              "</style>\n",
              "<table border=\"1\" class=\"dataframe\">\n",
              "  <thead>\n",
              "    <tr style=\"text-align: right;\">\n",
              "      <th></th>\n",
              "      <th>filename</th>\n",
              "      <th>xmin</th>\n",
              "      <th>ymin</th>\n",
              "      <th>xmax</th>\n",
              "      <th>ymax</th>\n",
              "      <th>Time</th>\n",
              "      <th>Size</th>\n",
              "      <th>Type</th>\n",
              "      <th>Hand_Pixel_Width</th>\n",
              "      <th>Hand_Pixel_Height</th>\n",
              "      <th>Area</th>\n",
              "    </tr>\n",
              "  </thead>\n",
              "  <tbody>\n",
              "    <tr>\n",
              "      <th>6</th>\n",
              "      <td>M_G_Mostrando_Mano-Amarillo_11.jpg</td>\n",
              "      <td>1063</td>\n",
              "      <td>206</td>\n",
              "      <td>1293</td>\n",
              "      <td>391</td>\n",
              "      <td>M</td>\n",
              "      <td>G</td>\n",
              "      <td>train</td>\n",
              "      <td>230</td>\n",
              "      <td>185</td>\n",
              "      <td>42550</td>\n",
              "    </tr>\n",
              "    <tr>\n",
              "      <th>7</th>\n",
              "      <td>M_G_Mostrando_Mano-Amarillo_11.jpg</td>\n",
              "      <td>304</td>\n",
              "      <td>162</td>\n",
              "      <td>503</td>\n",
              "      <td>351</td>\n",
              "      <td>M</td>\n",
              "      <td>G</td>\n",
              "      <td>train</td>\n",
              "      <td>199</td>\n",
              "      <td>189</td>\n",
              "      <td>37611</td>\n",
              "    </tr>\n",
              "    <tr>\n",
              "      <th>10</th>\n",
              "      <td>M_G_Trabajando_Amarillos_45.jpg</td>\n",
              "      <td>909</td>\n",
              "      <td>163</td>\n",
              "      <td>1209</td>\n",
              "      <td>313</td>\n",
              "      <td>M</td>\n",
              "      <td>G</td>\n",
              "      <td>train</td>\n",
              "      <td>300</td>\n",
              "      <td>150</td>\n",
              "      <td>45000</td>\n",
              "    </tr>\n",
              "    <tr>\n",
              "      <th>11</th>\n",
              "      <td>M_G_Trabajando_Amarillos_45.jpg</td>\n",
              "      <td>1267</td>\n",
              "      <td>196</td>\n",
              "      <td>1419</td>\n",
              "      <td>314</td>\n",
              "      <td>M</td>\n",
              "      <td>G</td>\n",
              "      <td>train</td>\n",
              "      <td>152</td>\n",
              "      <td>118</td>\n",
              "      <td>17936</td>\n",
              "    </tr>\n",
              "    <tr>\n",
              "      <th>12</th>\n",
              "      <td>M_G_Trabajando_Manos_0.jpg</td>\n",
              "      <td>625</td>\n",
              "      <td>243</td>\n",
              "      <td>751</td>\n",
              "      <td>339</td>\n",
              "      <td>M</td>\n",
              "      <td>G</td>\n",
              "      <td>train</td>\n",
              "      <td>126</td>\n",
              "      <td>96</td>\n",
              "      <td>12096</td>\n",
              "    </tr>\n",
              "  </tbody>\n",
              "</table>\n",
              "</div>"
            ],
            "text/plain": [
              "                              filename  xmin  ...  Hand_Pixel_Height   Area\n",
              "6   M_G_Mostrando_Mano-Amarillo_11.jpg  1063  ...                185  42550\n",
              "7   M_G_Mostrando_Mano-Amarillo_11.jpg   304  ...                189  37611\n",
              "10     M_G_Trabajando_Amarillos_45.jpg   909  ...                150  45000\n",
              "11     M_G_Trabajando_Amarillos_45.jpg  1267  ...                118  17936\n",
              "12          M_G_Trabajando_Manos_0.jpg   625  ...                 96  12096\n",
              "\n",
              "[5 rows x 11 columns]"
            ]
          },
          "metadata": {
            "tags": []
          },
          "execution_count": 268
        }
      ]
    },
    {
      "cell_type": "code",
      "metadata": {
        "id": "-btLMRBTyQLP",
        "colab_type": "code",
        "colab": {}
      },
      "source": [
        "# identificamos cuantos valores de cada 'categoría' tenemos, agregamos las columnas\n",
        "# 'guantes' y 'color' acorde a las mismas y las guardamos en un diccionario:\n",
        "tipos = ['Manos', 'Amarillos', 'Verdes', 'Mano-Verde','Mano-Amarillo']\n",
        "# recordemos que las categorías 'Mano-Verde' y 'Mano-Amarillo' luego hay q \n",
        "# determinar cual fila se corresponde a la mano y cuál al guante:\n",
        "\n",
        "dict_jpg = {}\n",
        "for tipo in tipos:\n",
        "    dict_jpg[tipo] = muestra_jpg_df[muestra_jpg_df['filename'].astype(str).str.contains(tipo)].copy()\n",
        "    if tipo == 'Manos':\n",
        "        dict_jpg[tipo]['guantes'] = 'no'\n",
        "        dict_jpg[tipo]['color'] = 'mano'\n",
        "    elif tipo == 'Amarillos':\n",
        "        dict_jpg[tipo]['guantes'] = 'si'\n",
        "        dict_jpg[tipo]['color'] = 'Amarillo'\n",
        "    elif tipo == 'Verdes':\n",
        "        dict_jpg[tipo]['guantes'] = 'si'\n",
        "        dict_jpg[tipo]['color'] = 'Verde'\n",
        "    elif tipo == 'Mano-Verde':\n",
        "        dict_jpg[tipo]['guantes'] = 'no'\n",
        "        dict_jpg[tipo]['color'] = 'Verde'\n",
        "    elif tipo == 'Mano-Amarillo':\n",
        "        dict_jpg[tipo]['guantes'] = 'no'\n",
        "        dict_jpg[tipo]['color'] = 'Amarillo'\n",
        "        "
      ],
      "execution_count": null,
      "outputs": []
    },
    {
      "cell_type": "code",
      "metadata": {
        "id": "DKM-xDIVOj90",
        "colab_type": "code",
        "colab": {
          "base_uri": "https://localhost:8080/",
          "height": 136
        },
        "outputId": "33e4e977-7f9b-4e10-834e-42712c2e7b32"
      },
      "source": [
        "#contabilizamos la cantidad de filas a cada categoría:\n",
        "tipos = ['Manos', 'Amarillos', 'Verdes', 'Mano-Verde','Mano-Amarillo']\n",
        "\n",
        "data_tot = []\n",
        "for tipo in tipos:\n",
        "  print(tipo+': ', dict_jpg[tipo].shape[0])  \n",
        "  data_tot.append(dict_jpg[tipo].shape[0])\n",
        "\n",
        "\n",
        "#la suma debería coincidir con la cantidad de filas del dataset:\n",
        "print('\\n Total de datos:', sum(data_tot))\n"
      ],
      "execution_count": null,
      "outputs": [
        {
          "output_type": "stream",
          "text": [
            "Manos:  489\n",
            "Amarillos:  428\n",
            "Verdes:  409\n",
            "Mano-Verde:  169\n",
            "Mano-Amarillo:  173\n",
            "\n",
            " Total de datos: 1668\n"
          ],
          "name": "stdout"
        }
      ]
    },
    {
      "cell_type": "markdown",
      "metadata": {
        "id": "NKVjxmJFo620",
        "colab_type": "text"
      },
      "source": [
        "Como en el práctico de pre-análisis, creamos una carpeta para guardar las imágenes recortadas de la región de la mano:"
      ]
    },
    {
      "cell_type": "code",
      "metadata": {
        "id": "EznuT-AJo6A6",
        "colab_type": "code",
        "colab": {}
      },
      "source": [
        "# las carpetas las creamos una sola vez\n",
        "#! mkdir crop\n",
        "#! mkdir crop/Manos\n",
        "#! mkdir crop/Amarillos\n",
        "#! mkdir crop/Verdes\n",
        "#! mkdir crop/Mano-Verde\n",
        "#! mkdir crop/Mano-Amarillo"
      ],
      "execution_count": null,
      "outputs": []
    },
    {
      "cell_type": "code",
      "metadata": {
        "id": "beTAnaSiqEkm",
        "colab_type": "code",
        "colab": {
          "base_uri": "https://localhost:8080/",
          "height": 102
        },
        "outputId": "f81982ad-b11b-4f5d-a0d8-dc04be611d16"
      },
      "source": [
        "tipos = ['Manos', 'Amarillos', 'Verdes', 'Mano-Verde','Mano-Amarillo']\n",
        "\n",
        "for tipo in tipos:\n",
        "  path_chosen = 'crop/'+tipo +'/'\n",
        "  print(path_chosen)"
      ],
      "execution_count": null,
      "outputs": [
        {
          "output_type": "stream",
          "text": [
            "crop/Manos/\n",
            "crop/Amarillos/\n",
            "crop/Verdes/\n",
            "crop/Mano-Verde/\n",
            "crop/Mano-Amarillo/\n"
          ],
          "name": "stdout"
        }
      ]
    },
    {
      "cell_type": "markdown",
      "metadata": {
        "id": "IrcHy745WaoO",
        "colab_type": "text"
      },
      "source": [
        "Generamos las imágenes recortadas y guardamos su *csv* correspondiente:"
      ]
    },
    {
      "cell_type": "code",
      "metadata": {
        "id": "w6W2YuVPWibu",
        "colab_type": "code",
        "colab": {
          "base_uri": "https://localhost:8080/",
          "height": 272
        },
        "outputId": "2498ada3-bcd1-4591-bdcd-08fea47d85af"
      },
      "source": [
        "tipos = ['Manos', 'Amarillos', 'Verdes', 'Mano-Verde','Mano-Amarillo']\n",
        "\n",
        "for tipo in tipos:\n",
        "  data_img_df = []\n",
        "  path_chosen = 'crop/'+tipo +'/'\n",
        "  print(path_chosen)\n",
        "\n",
        "  for frame, data in dict_jpg[tipo].groupby('filename'):\n",
        "    num_mano = 1\n",
        "    if (data.shape[0] == num_mano):\n",
        "        row = data.iloc[0]\n",
        "        img_row_file = row.filename\n",
        "        #print(img_row_file)\n",
        "        img  = cv2.imread(img_row_file)\n",
        "        xmin = row.xmin.item()\n",
        "        xmax = row.xmax.item()\n",
        "        ymin = row.ymin.item()\n",
        "        ymax = row.ymax.item()\n",
        "        \n",
        "        time = row.Time\n",
        "        size = row.Size\n",
        "        sets = row.Type\n",
        "        witdh  = row.Hand_Pixel_Width.item()\n",
        "        height = row.Hand_Pixel_Height.item()\t\n",
        "        area = row.Area.item()\n",
        "        guantes = row.guantes\n",
        "        color  = row.color\n",
        "\n",
        "\n",
        "        img_crop_name = img_row_file[:-4]+'_single_box.jpg'\n",
        "        path = path_chosen +'/'+img_crop_name\n",
        "        #print(path)\n",
        "        #print(img_crop_name)\n",
        "        data_img = [img_crop_name, xmin, xmax, ymin,ymax, time, size,sets,witdh,height,area,guantes,color]\n",
        "        #print(data_img)\n",
        "        data_img_df.append(data_img)\n",
        "        img_crop = img[ymin:ymax, xmin:xmax] \n",
        "        #cv2_imshow(img_crop)\n",
        "        #cv2.imwrite(path,img_crop)\n",
        "    else:\n",
        "        row1 = data.iloc[0]\n",
        "        img_row1_file = row1.filename\n",
        "        #print(img_row1_file)\n",
        "        img_row1=cv2.imread(img_row1_file)\n",
        "        #cv2_imshow(img_row1)\n",
        "        xmin_r1 = row1.xmin.item()\n",
        "        xmax_r1 = row1.xmax.item()\n",
        "        ymin_r1 = row1.ymin.item()\n",
        "        ymax_r1 = row1.ymax.item()\n",
        "\n",
        "        time_r1 = row1.Time\n",
        "        size_r1 = row1.Size\n",
        "        sets_r1 = row1.Type\n",
        "        witdh_r1  = row1.Hand_Pixel_Width.item()\n",
        "        height_r1 = row1.Hand_Pixel_Height.item()\t\n",
        "        area_r1 = row1.Area.item()\n",
        "        guantes_r1 = row1.guantes\n",
        "        color_r1  = row1.color\n",
        "\n",
        "        img_crop_name_row1 = img_row1_file[:-4]+'_double_box1.jpg'\n",
        "        img_crop_row1 = img_row1[ymin_r1:ymax_r1, xmin_r1:xmax_r1] \n",
        "        path1 = path_chosen+'/'+img_crop_name_row1\n",
        "        #print(path1)\n",
        "        data_img1 = [img_crop_name_row1, xmin_r1, xmax_r1, ymin_r1, ymax_r1, \n",
        "                    time_r1, size_r1, sets_r1, witdh_r1, height_r1, \n",
        "                    area_r1, guantes_r1, color_r1]\n",
        "        #print(data_img1)\n",
        "        data_img_df.append(data_img1)\n",
        "        #cv2.imwrite(path1, img_crop_row1)\n",
        "\n",
        "        row2 = data.iloc[1]\n",
        "        img_row2_file = row2.filename\n",
        "        img_row2=cv2.imread(img_row2_file)\n",
        "        xmin_r2 = row2.xmin.item()\n",
        "        xmax_r2 = row2.xmax.item()\n",
        "        ymin_r2 = row2.ymin.item()\n",
        "        ymax_r2 = row2.ymax.item()\n",
        "\n",
        "        time_r2 = row2.Time\n",
        "        size_r2 = row2.Size\n",
        "        sets_r2 = row2.Type\n",
        "        witdh_r2  = row2.Hand_Pixel_Width.item()\n",
        "        height_r2 = row2.Hand_Pixel_Height.item()\t\n",
        "        area_r2 = row2.Area.item()\n",
        "        guantes_r2 = row2.guantes\n",
        "        color_r2  = row2.color\n",
        "\n",
        "\n",
        "        img_crop_name_row2 = img_row2_file[:-4]+'_double_box2.jpg'\n",
        "        data_img2 = [img_crop_name_row2, xmin_r2, xmax_r2, ymin_r2,ymax_r2, \n",
        "                    time_r2, size_r2,sets_r2,witdh_r2,height_r2,\n",
        "                    area_r2, guantes_r2, color_r2]\n",
        "        data_img_df.append(data_img2)\n",
        "\n",
        "        img_crop_row2 = img_row2[ymin_r2:ymax_r2, xmin_r2:xmax_r2] \n",
        "        path2 = path_chosen +'/'+img_crop_name_row2\n",
        "        #cv2_imshow(img_crop)\n",
        "        #cv2.imwrite(path2, img_crop_row2)\n",
        "\n",
        "  cropped_name_df = 'crop/'+tipo +'/'+tipo + '_cropped_df.csv'\n",
        "  print(cropped_name_df)\n",
        "  cropped_df = pd.DataFrame(data_img_df,\n",
        "                     columns = ['filename','xmin', 'xmax','ymin','ymax',\n",
        "                                'Time', 'Size', 'Type', 'Hand_Pixel_Width', 'Hand_Pixel_Height',\n",
        "                                'Area', 'guantes', 'color' \n",
        "                               ])  \n",
        "  print(cropped_df.shape[0])\n",
        "  cropped_df.to_csv(cropped_name_df) \n"
      ],
      "execution_count": null,
      "outputs": [
        {
          "output_type": "stream",
          "text": [
            "crop/Manos/\n",
            "crop/Manos/Manos_cropped_df.csv\n",
            "489\n",
            "crop/Amarillos/\n",
            "crop/Amarillos/Amarillos_cropped_df.csv\n",
            "428\n",
            "crop/Verdes/\n",
            "crop/Verdes/Verdes_cropped_df.csv\n",
            "409\n",
            "crop/Mano-Verde/\n",
            "crop/Mano-Verde/Mano-Verde_cropped_df.csv\n",
            "169\n",
            "crop/Mano-Amarillo/\n",
            "crop/Mano-Amarillo/Mano-Amarillo_cropped_df.csv\n",
            "173\n"
          ],
          "name": "stdout"
        }
      ]
    },
    {
      "cell_type": "code",
      "metadata": {
        "id": "jT-JUqyBKA9Z",
        "colab_type": "code",
        "colab": {
          "base_uri": "https://localhost:8080/",
          "height": 442
        },
        "outputId": "ce6d684a-aa8c-4cf5-8646-1a10edc4ab78"
      },
      "source": [
        "#volvemos a leer los archivos:\n",
        "tipos = ['Manos', 'Amarillos', 'Verdes', 'Mano-Verde','Mano-Amarillo']\n",
        "\n",
        "for tipo in tipos:\n",
        "  print(tipo)\n",
        "  path_chosen = 'crop/'+tipo +'/'\n",
        "  print(path_chosen)\n",
        "\n",
        "  cropped_name_df = 'crop/'+tipo +'/'+tipo + '_cropped_df.csv'\n",
        "  cropped_df = pd.read_csv(cropped_name_df, index_col=0)\n",
        "  list_filename_df = cropped_df.filename.unique().tolist()\n",
        "  print('cantidad de fotos: ', len(list_filename_df)) \n",
        "  print(cropped_name_df,'shape:', cropped_df.shape, '\\n')"
      ],
      "execution_count": null,
      "outputs": [
        {
          "output_type": "stream",
          "text": [
            "Manos\n",
            "crop/Manos/\n",
            "cantidad de fotos:  489\n",
            "crop/Manos/Manos_cropped_df.csv shape: (489, 13) \n",
            "\n",
            "Amarillos\n",
            "crop/Amarillos/\n",
            "cantidad de fotos:  428\n",
            "crop/Amarillos/Amarillos_cropped_df.csv shape: (428, 13) \n",
            "\n",
            "Verdes\n",
            "crop/Verdes/\n",
            "cantidad de fotos:  409\n",
            "crop/Verdes/Verdes_cropped_df.csv shape: (409, 13) \n",
            "\n",
            "Mano-Verde\n",
            "crop/Mano-Verde/\n",
            "cantidad de fotos:  169\n",
            "crop/Mano-Verde/Mano-Verde_cropped_df.csv shape: (169, 13) \n",
            "\n",
            "Mano-Amarillo\n",
            "crop/Mano-Amarillo/\n",
            "cantidad de fotos:  173\n",
            "crop/Mano-Amarillo/Mano-Amarillo_cropped_df.csv shape: (173, 13) \n",
            "\n"
          ],
          "name": "stdout"
        }
      ]
    },
    {
      "cell_type": "markdown",
      "metadata": {
        "id": "1R438Prj8cGV",
        "colab_type": "text"
      },
      "source": [
        "##### **Clases**"
      ]
    },
    {
      "cell_type": "markdown",
      "metadata": {
        "id": "PKL4IqYCxHyr",
        "colab_type": "text"
      },
      "source": [
        "Si bien las categorías nos sirven para ser mas ordenada la exploración de imágenes, como ya hemos visto, en realidad tenemos tres *clases*:\n",
        " 'Mano', 'Amarillo' y 'Verde'"
      ]
    },
    {
      "cell_type": "code",
      "metadata": {
        "id": "5Q8YhayM-D6d",
        "colab_type": "code",
        "colab": {}
      },
      "source": [
        "#! mkdir classes\n",
        "# para copiar toda una carpeta\n",
        "#! rsync -r crop/ classes/\n",
        "#"
      ],
      "execution_count": null,
      "outputs": []
    },
    {
      "cell_type": "code",
      "metadata": {
        "id": "KT-eMeLk-Crk",
        "colab_type": "code",
        "colab": {
          "base_uri": "https://localhost:8080/",
          "height": 34
        },
        "outputId": "6908a0ca-8021-4c62-b573-bea1c700c770"
      },
      "source": [
        "# nos movemos a la carpeta de clases:\n",
        "os.chdir('/content/drive/My Drive/Mentoria/muestra/all_jpg_muestra/classes/')\n",
        "!ls -d */"
      ],
      "execution_count": null,
      "outputs": [
        {
          "output_type": "stream",
          "text": [
            "Amarillo/  Mano/  Mano-Amarillo/  Mano-Verde/  Verde/\n"
          ],
          "name": "stdout"
        }
      ]
    },
    {
      "cell_type": "code",
      "metadata": {
        "id": "IhQQG4xP-Loy",
        "colab_type": "code",
        "colab": {}
      },
      "source": [
        "#acá fui creando y copiando las nuevas carpetas, lo podría haber hecho a mano desde el Drive: \n",
        "#! mkdir Mano\n",
        "#! rsync -r Manos/ Mano/\n",
        "#! rm -rf Amarillos/\n",
        "#! rm -rf Verdes/\n",
        "#! rm -rf Manos/"
      ],
      "execution_count": null,
      "outputs": []
    },
    {
      "cell_type": "code",
      "metadata": {
        "id": "JWCdrtajZxkQ",
        "colab_type": "code",
        "colab": {
          "base_uri": "https://localhost:8080/",
          "height": 68
        },
        "outputId": "80636965-6969-4640-df0b-6ee6aab25ec9"
      },
      "source": [
        "# nos movemos a la carpeta de clases:\n",
        "os.chdir('/content/drive/My Drive/Mentoria/muestra/all_jpg_muestra/classes/')\n",
        "! ls -d */\n",
        "! ls -d */*/\n"
      ],
      "execution_count": null,
      "outputs": [
        {
          "output_type": "stream",
          "text": [
            "Amarillo/  Mano/  Mano-Amarillo/  Mano-Verde/  Verde/\n",
            "Mano-Amarillo/Amarillo/  Mano-Verde/Mano/\n",
            "Mano-Amarillo/Mano/\t Mano-Verde/Verde/\n"
          ],
          "name": "stdout"
        }
      ]
    },
    {
      "cell_type": "markdown",
      "metadata": {
        "id": "VJxtrYLe5oDT",
        "colab_type": "text"
      },
      "source": [
        "Verificamos los archivos y la cantidad de fotos en cada carpeta:"
      ]
    },
    {
      "cell_type": "code",
      "metadata": {
        "id": "bB1AfPxl3rhm",
        "colab_type": "code",
        "colab": {
          "base_uri": "https://localhost:8080/",
          "height": 221
        },
        "outputId": "313e72b4-5c90-4b80-95cf-d89954fef8f8"
      },
      "source": [
        "#volvemos a leer los archivos:\n",
        "tipos = ['Amarillos', 'Manos', 'Verdes']\n",
        "\n",
        "for tipo in tipos:\n",
        "  print(tipo)\n",
        "  cropped_name_df = tipo + '_cropped_df.csv'\n",
        "  cropped_df = pd.read_csv(cropped_name_df, index_col=0)\n",
        "  list_filename_df = cropped_df.filename.unique().tolist()\n",
        "\n",
        "  print('cantidad de fotos: ', len(list_filename_df)) \n",
        "  print(cropped_name_df,'shape:', cropped_df.shape, '\\n')"
      ],
      "execution_count": null,
      "outputs": [
        {
          "output_type": "stream",
          "text": [
            "Amarillos\n",
            "cantidad de fotos:  428\n",
            "Amarillos_cropped_df.csv shape: (428, 13) \n",
            "\n",
            "Manos\n",
            "cantidad de fotos:  489\n",
            "Manos_cropped_df.csv shape: (489, 13) \n",
            "\n",
            "Verdes\n",
            "cantidad de fotos:  409\n",
            "Verdes_cropped_df.csv shape: (409, 13) \n",
            "\n"
          ],
          "name": "stdout"
        }
      ]
    },
    {
      "cell_type": "code",
      "metadata": {
        "id": "SSvh1-g83z8Z",
        "colab_type": "code",
        "colab": {}
      },
      "source": [
        "#Para agrupar los archivos de una carpeta según su nombre, \n",
        "#os.chdir('/content/drive/My Drive/Mentoria/muestra/all_jpg_muestra/classes/Amarillo')            # 428 fotos \n",
        "#os.chdir('/content/drive/My Drive/Mentoria/muestra/all_jpg_muestra/classes/Mano')                # 489 fotos \n",
        "#os.chdir('/content/drive/My Drive/Mentoria/muestra/all_jpg_muestra/classes/Verde')                # 409 fotos \n",
        "#extension = 'jpg'\n",
        "#list_cropped_class = [i for i in glob.glob('*.{}'.format(extension))]\n",
        "#len(list_cropped_class)"
      ],
      "execution_count": null,
      "outputs": []
    },
    {
      "cell_type": "markdown",
      "metadata": {
        "id": "B9mRoU2z5tnJ",
        "colab_type": "text"
      },
      "source": [
        "Para las carpetas 'Mano-Verde' y 'Mano-Amarillo':"
      ]
    },
    {
      "cell_type": "code",
      "metadata": {
        "id": "LVThqpyf5kqx",
        "colab_type": "code",
        "colab": {}
      },
      "source": [
        "# Que lindx que te ves cortando las imágenes en la sección anterior, pero te falta separar de las categorías 'Mano-Verde' y 'Mano-Amarillo'...\n",
        "# Esto es a ojímetro, si se les ocurre otra forma, bienvenido sea, fíjense todo lo que avanzamos con su aporte :)"
      ],
      "execution_count": null,
      "outputs": []
    },
    {
      "cell_type": "code",
      "metadata": {
        "id": "YreR8sS-Z85d",
        "colab_type": "code",
        "colab": {}
      },
      "source": [
        "# nos movemos a la carpeta de Mano-Amarillo / Mano-Verde respectivamente:\n",
        "# os.chdir('/content/drive/My Drive/Mentoria/muestra/all_jpg_muestra/crop/Mano-Amarillo/')            # 173 fotos \n",
        "# os.chdir('/content/drive/My Drive/Mentoria/muestra/all_jpg_muestra/classes/Mano-Amarillo/Mano')     # 87 fotos\n",
        "# os.chdir('/content/drive/My Drive/Mentoria/muestra/all_jpg_muestra/classes/Mano-Amarillo/Amarillo') # 86 fotos\n",
        "\n",
        "# os.chdir('/content/drive/My Drive/Mentoria/muestra/all_jpg_muestra/crop/Mano-Verde/')               # 169 fotos\n",
        "# os.chdir('/content/drive/My Drive/Mentoria/muestra/all_jpg_muestra/classes/Mano-Verde/Mano')        # 86 fotos\n",
        "# os.chdir('/content/drive/My Drive/Mentoria/muestra/all_jpg_muestra/classes/Mano-Verde/Verde')       # 86 fotos\n"
      ],
      "execution_count": null,
      "outputs": []
    },
    {
      "cell_type": "code",
      "metadata": {
        "id": "RvWx-gxZ9ou3",
        "colab_type": "code",
        "colab": {}
      },
      "source": [
        "#Para agrupar los archivos de una carpeta según su nombre \n",
        "extension = 'jpg'\n",
        "list_cropped_class = [i for i in glob.glob('*.{}'.format(extension))]\n",
        "list_cropped_class.sort()\n",
        "len(list_cropped_class)"
      ],
      "execution_count": null,
      "outputs": []
    },
    {
      "cell_type": "code",
      "metadata": {
        "id": "YOgxKqVvg6p4",
        "colab_type": "code",
        "colab": {
          "base_uri": "https://localhost:8080/",
          "height": 34
        },
        "outputId": "c22c251d-409b-41b7-91b0-b1bbd0715128"
      },
      "source": [
        "#esto vamos cambiando respectivamente por amarillos o verdes\n",
        "#list_mano_amarillo_mano = list_cropped_class.copy()\n",
        "#len(list_mano_amarillo_mano)\n",
        "list_mano_verde_mano = list_cropped_class.copy()\n",
        "len(list_mano_verde_mano)"
      ],
      "execution_count": null,
      "outputs": [
        {
          "output_type": "execute_result",
          "data": {
            "text/plain": [
              "86"
            ]
          },
          "metadata": {
            "tags": []
          },
          "execution_count": 406
        }
      ]
    },
    {
      "cell_type": "code",
      "metadata": {
        "id": "DMyu718V9QMv",
        "colab_type": "code",
        "colab": {}
      },
      "source": [
        "##guardamos la lista en un archivo para no tener q generarla todas las veces:\n",
        "\n",
        "#volvemos a la carpeta mano-guante\n",
        "#os.chdir('/content/drive/My Drive/Mentoria/muestra/all_jpg_muestra/classes/Mano-Amarillo')  # Mano-Amarillo_cropped_df.csv\n",
        "#list_data_muestra = list_mano_amarillo_mano\n",
        "#filename = 'list_mano_amarillo_mano.txt'\n",
        "#print(len(list_data_muestra))\n",
        "\n",
        "#os.chdir('/content/drive/My Drive/Mentoria/muestra/all_jpg_muestra/classes/Mano-Verde')     # Mano-Verde_cropped_df.csv\n",
        "#list_data_muestra = list_mano_verde_mano\n",
        "#filename = 'list_mano_verde_mano.txt'\n",
        "\n",
        "#with open(filename, 'w') as f:\n",
        "#    f.write(json.dumps(list_data_muestra))\n",
        "\n",
        "#abrimos el archivo con la lista:\n",
        "#with open(filename, 'r') as f:\n",
        "#    list_jpg_muestra = json.loads(f.read())"
      ],
      "execution_count": null,
      "outputs": []
    },
    {
      "cell_type": "markdown",
      "metadata": {
        "id": "Fm853DOrjmAb",
        "colab_type": "text"
      },
      "source": [
        "Cuando separamos las que son guantes de las manos, se supone que las que no están en la lista, son manos. De todas formas, lo contabilizamos como para verificarlo."
      ]
    },
    {
      "cell_type": "code",
      "metadata": {
        "id": "g4G6bsPLktwI",
        "colab_type": "code",
        "colab": {
          "base_uri": "https://localhost:8080/",
          "height": 111
        },
        "outputId": "2983459d-8e48-4e78-c857-0e41c0ae5f23"
      },
      "source": [
        "# A filename_chosen lo vamos cammbiando, dependiendo del csv. \n",
        "#filename_mano_guante_ch = 'Mano-Amarillo_cropped_df.csv' \n",
        "filename_mano_guante_ch = 'Mano-Verde_cropped_df.csv' \n",
        "filename_mano_guante_df=pd.read_csv(filename_mano_guante_ch, index_col=0)\n",
        "filename_mano_guante_df.head(2)"
      ],
      "execution_count": null,
      "outputs": [
        {
          "output_type": "execute_result",
          "data": {
            "text/html": [
              "<div>\n",
              "<style scoped>\n",
              "    .dataframe tbody tr th:only-of-type {\n",
              "        vertical-align: middle;\n",
              "    }\n",
              "\n",
              "    .dataframe tbody tr th {\n",
              "        vertical-align: top;\n",
              "    }\n",
              "\n",
              "    .dataframe thead th {\n",
              "        text-align: right;\n",
              "    }\n",
              "</style>\n",
              "<table border=\"1\" class=\"dataframe\">\n",
              "  <thead>\n",
              "    <tr style=\"text-align: right;\">\n",
              "      <th></th>\n",
              "      <th>filename</th>\n",
              "      <th>xmin</th>\n",
              "      <th>xmax</th>\n",
              "      <th>ymin</th>\n",
              "      <th>ymax</th>\n",
              "      <th>Time</th>\n",
              "      <th>Size</th>\n",
              "      <th>Type</th>\n",
              "      <th>Hand_Pixel_Width</th>\n",
              "      <th>Hand_Pixel_Height</th>\n",
              "      <th>Area</th>\n",
              "      <th>guantes</th>\n",
              "      <th>color</th>\n",
              "    </tr>\n",
              "  </thead>\n",
              "  <tbody>\n",
              "    <tr>\n",
              "      <th>0</th>\n",
              "      <td>M_G_Mostrando_Mano-Verde_0_double_box1.jpg</td>\n",
              "      <td>753</td>\n",
              "      <td>909</td>\n",
              "      <td>169</td>\n",
              "      <td>294</td>\n",
              "      <td>M</td>\n",
              "      <td>G</td>\n",
              "      <td>train</td>\n",
              "      <td>156</td>\n",
              "      <td>125</td>\n",
              "      <td>19500</td>\n",
              "      <td>no</td>\n",
              "      <td>Verde</td>\n",
              "    </tr>\n",
              "    <tr>\n",
              "      <th>1</th>\n",
              "      <td>M_G_Mostrando_Mano-Verde_0_double_box2.jpg</td>\n",
              "      <td>1065</td>\n",
              "      <td>1216</td>\n",
              "      <td>127</td>\n",
              "      <td>269</td>\n",
              "      <td>M</td>\n",
              "      <td>G</td>\n",
              "      <td>train</td>\n",
              "      <td>151</td>\n",
              "      <td>142</td>\n",
              "      <td>21442</td>\n",
              "      <td>no</td>\n",
              "      <td>Verde</td>\n",
              "    </tr>\n",
              "  </tbody>\n",
              "</table>\n",
              "</div>"
            ],
            "text/plain": [
              "                                     filename  xmin  xmax  ...   Area  guantes  color\n",
              "0  M_G_Mostrando_Mano-Verde_0_double_box1.jpg   753   909  ...  19500       no  Verde\n",
              "1  M_G_Mostrando_Mano-Verde_0_double_box2.jpg  1065  1216  ...  21442       no  Verde\n",
              "\n",
              "[2 rows x 13 columns]"
            ]
          },
          "metadata": {
            "tags": []
          },
          "execution_count": 409
        }
      ]
    },
    {
      "cell_type": "code",
      "metadata": {
        "id": "MHtkzF-EwmCV",
        "colab_type": "code",
        "colab": {
          "base_uri": "https://localhost:8080/",
          "height": 193
        },
        "outputId": "3f29194d-5bbd-443b-cb1a-49766f514b42"
      },
      "source": [
        "#separamos las manos del archivo csv y corregimos el 'color':\n",
        "color = 'mano'\n",
        "#acá separamos las filas de manos de los archivos con guantes verdes/amarillos\n",
        "#value_list = list_mano_amarillo_mano\n",
        "value_list = list_mano_verde_mano\n",
        "mano_si = filename_mano_guante_df.filename.isin(value_list)\n",
        "mano_color_df = filename_mano_guante_df[mano_si].copy()\n",
        "#generamos nuevas columnas, que utilizaremos mas adelante para identificar los distintos archivos:\n",
        "mano_color_df['color'] = color\n",
        "print(mano_color_df.shape)\n",
        "mano_color_df.head(3)"
      ],
      "execution_count": null,
      "outputs": [
        {
          "output_type": "stream",
          "text": [
            "(86, 13)\n"
          ],
          "name": "stdout"
        },
        {
          "output_type": "execute_result",
          "data": {
            "text/html": [
              "<div>\n",
              "<style scoped>\n",
              "    .dataframe tbody tr th:only-of-type {\n",
              "        vertical-align: middle;\n",
              "    }\n",
              "\n",
              "    .dataframe tbody tr th {\n",
              "        vertical-align: top;\n",
              "    }\n",
              "\n",
              "    .dataframe thead th {\n",
              "        text-align: right;\n",
              "    }\n",
              "</style>\n",
              "<table border=\"1\" class=\"dataframe\">\n",
              "  <thead>\n",
              "    <tr style=\"text-align: right;\">\n",
              "      <th></th>\n",
              "      <th>filename</th>\n",
              "      <th>xmin</th>\n",
              "      <th>xmax</th>\n",
              "      <th>ymin</th>\n",
              "      <th>ymax</th>\n",
              "      <th>Time</th>\n",
              "      <th>Size</th>\n",
              "      <th>Type</th>\n",
              "      <th>Hand_Pixel_Width</th>\n",
              "      <th>Hand_Pixel_Height</th>\n",
              "      <th>Area</th>\n",
              "      <th>guantes</th>\n",
              "      <th>color</th>\n",
              "    </tr>\n",
              "  </thead>\n",
              "  <tbody>\n",
              "    <tr>\n",
              "      <th>1</th>\n",
              "      <td>M_G_Mostrando_Mano-Verde_0_double_box2.jpg</td>\n",
              "      <td>1065</td>\n",
              "      <td>1216</td>\n",
              "      <td>127</td>\n",
              "      <td>269</td>\n",
              "      <td>M</td>\n",
              "      <td>G</td>\n",
              "      <td>train</td>\n",
              "      <td>151</td>\n",
              "      <td>142</td>\n",
              "      <td>21442</td>\n",
              "      <td>no</td>\n",
              "      <td>mano</td>\n",
              "    </tr>\n",
              "    <tr>\n",
              "      <th>2</th>\n",
              "      <td>M_G_Mostrando_Mano-Verde_11_double_box1.jpg</td>\n",
              "      <td>841</td>\n",
              "      <td>1097</td>\n",
              "      <td>390</td>\n",
              "      <td>627</td>\n",
              "      <td>M</td>\n",
              "      <td>G</td>\n",
              "      <td>train</td>\n",
              "      <td>256</td>\n",
              "      <td>237</td>\n",
              "      <td>60672</td>\n",
              "      <td>no</td>\n",
              "      <td>mano</td>\n",
              "    </tr>\n",
              "    <tr>\n",
              "      <th>4</th>\n",
              "      <td>M_G_Mostrando_Mano-Verde_27_double_box1.jpg</td>\n",
              "      <td>794</td>\n",
              "      <td>1011</td>\n",
              "      <td>379</td>\n",
              "      <td>606</td>\n",
              "      <td>M</td>\n",
              "      <td>G</td>\n",
              "      <td>train</td>\n",
              "      <td>217</td>\n",
              "      <td>227</td>\n",
              "      <td>49259</td>\n",
              "      <td>no</td>\n",
              "      <td>mano</td>\n",
              "    </tr>\n",
              "  </tbody>\n",
              "</table>\n",
              "</div>"
            ],
            "text/plain": [
              "                                      filename  xmin  xmax  ...   Area  guantes color\n",
              "1   M_G_Mostrando_Mano-Verde_0_double_box2.jpg  1065  1216  ...  21442       no  mano\n",
              "2  M_G_Mostrando_Mano-Verde_11_double_box1.jpg   841  1097  ...  60672       no  mano\n",
              "4  M_G_Mostrando_Mano-Verde_27_double_box1.jpg   794  1011  ...  49259       no  mano\n",
              "\n",
              "[3 rows x 13 columns]"
            ]
          },
          "metadata": {
            "tags": []
          },
          "execution_count": 410
        }
      ]
    },
    {
      "cell_type": "code",
      "metadata": {
        "id": "Wnk9nBcEwjpC",
        "colab_type": "code",
        "colab": {
          "base_uri": "https://localhost:8080/",
          "height": 34
        },
        "outputId": "c7ef0407-396e-45a8-a392-8eb7a6560188"
      },
      "source": [
        "#guardamos la tabla en archivo csv\n",
        "#name_mano_csv =  '../Mano-Amarillo_'+ color +'_cropped_df.csv'\n",
        "name_mano_csv =  '../Mano-Verde_'+ color +'_cropped_df.csv'\n",
        "mano_color_df.to_csv(name_mano_csv) \n",
        "print(mano_color_df.shape)"
      ],
      "execution_count": null,
      "outputs": [
        {
          "output_type": "stream",
          "text": [
            "(86, 13)\n"
          ],
          "name": "stdout"
        }
      ]
    },
    {
      "cell_type": "code",
      "metadata": {
        "id": "70VL5i0NoFgE",
        "colab_type": "code",
        "colab": {
          "base_uri": "https://localhost:8080/",
          "height": 193
        },
        "outputId": "78a21d3a-819b-4b0c-ba3d-54e6c82a1a40"
      },
      "source": [
        "#separamos las manos del archivo csv y corregimos el 'guantes':\n",
        "guantes = 'si'\n",
        "#acá separamos las filas de manos de los archivos con guantes verdes/amarillos\n",
        "#value_list = list_mano_amarillo_mano\n",
        "value_list = list_mano_verde_mano\n",
        "guante_si = ~filename_mano_guante_df.filename.isin(value_list)\n",
        "guante_color_df = filename_mano_guante_df[guante_si].copy()\n",
        "#generamos nuevas columnas, que utilizaremos mas adelante para identificar los distintos archivos:\n",
        "guante_color_df['guantes'] = guantes\n",
        "print(guante_color_df.shape)\n",
        "guante_color_df.head(3)"
      ],
      "execution_count": null,
      "outputs": [
        {
          "output_type": "stream",
          "text": [
            "(83, 13)\n"
          ],
          "name": "stdout"
        },
        {
          "output_type": "execute_result",
          "data": {
            "text/html": [
              "<div>\n",
              "<style scoped>\n",
              "    .dataframe tbody tr th:only-of-type {\n",
              "        vertical-align: middle;\n",
              "    }\n",
              "\n",
              "    .dataframe tbody tr th {\n",
              "        vertical-align: top;\n",
              "    }\n",
              "\n",
              "    .dataframe thead th {\n",
              "        text-align: right;\n",
              "    }\n",
              "</style>\n",
              "<table border=\"1\" class=\"dataframe\">\n",
              "  <thead>\n",
              "    <tr style=\"text-align: right;\">\n",
              "      <th></th>\n",
              "      <th>filename</th>\n",
              "      <th>xmin</th>\n",
              "      <th>xmax</th>\n",
              "      <th>ymin</th>\n",
              "      <th>ymax</th>\n",
              "      <th>Time</th>\n",
              "      <th>Size</th>\n",
              "      <th>Type</th>\n",
              "      <th>Hand_Pixel_Width</th>\n",
              "      <th>Hand_Pixel_Height</th>\n",
              "      <th>Area</th>\n",
              "      <th>guantes</th>\n",
              "      <th>color</th>\n",
              "    </tr>\n",
              "  </thead>\n",
              "  <tbody>\n",
              "    <tr>\n",
              "      <th>0</th>\n",
              "      <td>M_G_Mostrando_Mano-Verde_0_double_box1.jpg</td>\n",
              "      <td>753</td>\n",
              "      <td>909</td>\n",
              "      <td>169</td>\n",
              "      <td>294</td>\n",
              "      <td>M</td>\n",
              "      <td>G</td>\n",
              "      <td>train</td>\n",
              "      <td>156</td>\n",
              "      <td>125</td>\n",
              "      <td>19500</td>\n",
              "      <td>si</td>\n",
              "      <td>Verde</td>\n",
              "    </tr>\n",
              "    <tr>\n",
              "      <th>3</th>\n",
              "      <td>M_G_Mostrando_Mano-Verde_11_double_box2.jpg</td>\n",
              "      <td>501</td>\n",
              "      <td>736</td>\n",
              "      <td>322</td>\n",
              "      <td>573</td>\n",
              "      <td>M</td>\n",
              "      <td>G</td>\n",
              "      <td>train</td>\n",
              "      <td>235</td>\n",
              "      <td>251</td>\n",
              "      <td>58985</td>\n",
              "      <td>si</td>\n",
              "      <td>Verde</td>\n",
              "    </tr>\n",
              "    <tr>\n",
              "      <th>5</th>\n",
              "      <td>M_G_Mostrando_Mano-Verde_27_double_box2.jpg</td>\n",
              "      <td>577</td>\n",
              "      <td>801</td>\n",
              "      <td>330</td>\n",
              "      <td>596</td>\n",
              "      <td>M</td>\n",
              "      <td>G</td>\n",
              "      <td>train</td>\n",
              "      <td>224</td>\n",
              "      <td>266</td>\n",
              "      <td>59584</td>\n",
              "      <td>si</td>\n",
              "      <td>Verde</td>\n",
              "    </tr>\n",
              "  </tbody>\n",
              "</table>\n",
              "</div>"
            ],
            "text/plain": [
              "                                      filename  xmin  ...  guantes  color\n",
              "0   M_G_Mostrando_Mano-Verde_0_double_box1.jpg   753  ...       si  Verde\n",
              "3  M_G_Mostrando_Mano-Verde_11_double_box2.jpg   501  ...       si  Verde\n",
              "5  M_G_Mostrando_Mano-Verde_27_double_box2.jpg   577  ...       si  Verde\n",
              "\n",
              "[3 rows x 13 columns]"
            ]
          },
          "metadata": {
            "tags": []
          },
          "execution_count": 412
        }
      ]
    },
    {
      "cell_type": "code",
      "metadata": {
        "id": "Di_baYupoFpo",
        "colab_type": "code",
        "colab": {
          "base_uri": "https://localhost:8080/",
          "height": 34
        },
        "outputId": "22961a6b-c538-420d-a64b-5475f166c2f6"
      },
      "source": [
        "#lo guardamos en archivo csv: \n",
        "#name_guante_csv =  '../Mano-Amarillo_amarillo_cropped_df.csv'\n",
        "name_guante_csv =  '../Mano-Verde_verde_cropped_df.csv'\n",
        "#guante_color_df.to_csv(name_guante_csv) \n",
        "print(guante_color_df.shape)"
      ],
      "execution_count": null,
      "outputs": [
        {
          "output_type": "stream",
          "text": [
            "(83, 13)\n"
          ],
          "name": "stdout"
        }
      ]
    },
    {
      "cell_type": "code",
      "metadata": {
        "id": "9TQ7r1Ng8a66",
        "colab_type": "code",
        "colab": {}
      },
      "source": [
        "# 'Mano-Amarillo_cropped_mano_df.csv'      # shape : (87, 13)\n",
        "# 'Mano-Amarillo_cropped_amarillo_df.csv'  # shape : (86, 13)\n",
        "# 'Mano-Verde_cropped_mano_df.csv'         # shape : (86, 13)\n",
        "# 'Mano-Verde_cropped_verde_df.csv'        # shape : (83, 13)\n",
        "#  guardamos una copia del csv en sus carpetas correspondientes"
      ],
      "execution_count": null,
      "outputs": []
    },
    {
      "cell_type": "code",
      "metadata": {
        "id": "SZqVUGsh7Yiw",
        "colab_type": "code",
        "colab": {
          "base_uri": "https://localhost:8080/",
          "height": 51
        },
        "outputId": "a5188071-731f-46bf-8227-131fac0b34d6"
      },
      "source": [
        "# nos movemos a la carpeta de clases:\n",
        "os.chdir('/content/drive/My Drive/Mentoria/muestra/all_jpg_muestra/classes/')\n",
        "! ls Mano-*cropped_df.csv"
      ],
      "execution_count": null,
      "outputs": [
        {
          "output_type": "stream",
          "text": [
            "Mano-Amarillo_amarillo_cropped_df.csv  Mano-Verde_mano_cropped_df.csv\n",
            "Mano-Amarillo_mano_cropped_df.csv      Mano-Verde_verde_cropped_df.csv\n"
          ],
          "name": "stdout"
        }
      ]
    },
    {
      "cell_type": "code",
      "metadata": {
        "id": "E9P3uH577IHt",
        "colab_type": "code",
        "colab": {
          "base_uri": "https://localhost:8080/",
          "height": 289
        },
        "outputId": "d02e11da-a6a1-4b3d-a103-af2f90e93945"
      },
      "source": [
        "#volvemos a leer los archivos:\n",
        "file_csv_m_g = ['Mano-Amarillo_amarillo_cropped_df.csv', 'Mano-Amarillo_mano_cropped_df.csv', \n",
        "         'Mano-Verde_mano_cropped_df.csv', 'Mano-Verde_verde_cropped_df.csv']\n",
        "\n",
        "for file_csv in file_csv_m_g:\n",
        "  print(file_csv)\n",
        "  \n",
        "  cropped_df = pd.read_csv(file_csv, index_col=0)\n",
        "  list_filename_df = cropped_df.filename.unique().tolist()\n",
        "\n",
        "  print('cantidad de fotos: ', len(list_filename_df)) \n",
        "  print(cropped_name_df,'shape:', cropped_df.shape, '\\n')"
      ],
      "execution_count": null,
      "outputs": [
        {
          "output_type": "stream",
          "text": [
            "Mano-Amarillo_amarillo_cropped_df.csv\n",
            "cantidad de fotos:  86\n",
            "crop/Mano-Amarillo/Mano-Amarillo_cropped_df.csv shape: (86, 13) \n",
            "\n",
            "Mano-Amarillo_mano_cropped_df.csv\n",
            "cantidad de fotos:  87\n",
            "crop/Mano-Amarillo/Mano-Amarillo_cropped_df.csv shape: (87, 13) \n",
            "\n",
            "Mano-Verde_mano_cropped_df.csv\n",
            "cantidad de fotos:  86\n",
            "crop/Mano-Amarillo/Mano-Amarillo_cropped_df.csv shape: (86, 13) \n",
            "\n",
            "Mano-Verde_verde_cropped_df.csv\n",
            "cantidad de fotos:  83\n",
            "crop/Mano-Amarillo/Mano-Amarillo_cropped_df.csv shape: (83, 13) \n",
            "\n"
          ],
          "name": "stdout"
        }
      ]
    },
    {
      "cell_type": "markdown",
      "metadata": {
        "id": "vD8nQrUW4DC8",
        "colab_type": "text"
      },
      "source": [
        "Lo siguiente podríamos abordarlo juntando todas las manos y guantes. Pero para mayor control y no enloquecernos, vamos carpeta por carpeta, generando los vectores de features y luego los juntamos.\n",
        "\n",
        "Si se animan y quieren automatizar lo siguiente, genial :)"
      ]
    },
    {
      "cell_type": "code",
      "metadata": {
        "id": "qg1CWR2Mp2rA",
        "colab_type": "code",
        "colab": {
          "base_uri": "https://localhost:8080/",
          "height": 68
        },
        "outputId": "f96833fc-0e76-46aa-93f4-3541bbfd22ea"
      },
      "source": [
        "#volvemos a la carpeta classes, vemos de copiar todos los csv correspondientes a esta carpeta\n",
        "os.chdir('/content/drive/My Drive/Mentoria/muestra/all_jpg_muestra/classes')\n",
        "#listamos solo las carpetas\n",
        "! ls -d */\n",
        "! ls -d */*/"
      ],
      "execution_count": null,
      "outputs": [
        {
          "output_type": "stream",
          "text": [
            "Amarillo/  Mano/  Mano-Amarillo/  Mano-Verde/  Verde/\n",
            "Mano-Amarillo/Amarillo/  Mano-Verde/Mano/\n",
            "Mano-Amarillo/Mano/\t Mano-Verde/Verde/\n"
          ],
          "name": "stdout"
        }
      ]
    },
    {
      "cell_type": "code",
      "metadata": {
        "id": "UBKaiUeV2zEH",
        "colab_type": "code",
        "colab": {
          "base_uri": "https://localhost:8080/",
          "height": 54
        },
        "outputId": "4602cb9a-055b-4c70-fdf3-df526f453f4a"
      },
      "source": [
        "#listamos los csv\n",
        "extension = 'csv'\n",
        "list_files_csv = [i for i in glob.glob('*_cropped_df.{}'.format(extension))]\n",
        "list_files_csv = sorted(list_files_csv, reverse=False)\n",
        "print(list_files_csv)"
      ],
      "execution_count": null,
      "outputs": [
        {
          "output_type": "stream",
          "text": [
            "['Amarillos_cropped_df.csv', 'Mano-Amarillo_amarillo_cropped_df.csv', 'Mano-Amarillo_mano_cropped_df.csv', 'Mano-Verde_mano_cropped_df.csv', 'Mano-Verde_verde_cropped_df.csv', 'Manos_cropped_df.csv', 'Verdes_cropped_df.csv']\n"
          ],
          "name": "stdout"
        }
      ]
    },
    {
      "cell_type": "code",
      "metadata": {
        "id": "-ysdnI2YAMy5",
        "colab_type": "code",
        "colab": {}
      },
      "source": [
        "# acá vamos cambiando los nombres de las carpetas.\n",
        "#! python3 features.py Verde/"
      ],
      "execution_count": null,
      "outputs": []
    },
    {
      "cell_type": "code",
      "metadata": {
        "id": "ewU4m89yBN0x",
        "colab_type": "code",
        "colab": {}
      },
      "source": [
        "# copiamos el archivo json generado\n",
        "#! mv features.json features_Verdes_cropped.json"
      ],
      "execution_count": null,
      "outputs": []
    },
    {
      "cell_type": "code",
      "metadata": {
        "id": "aVCRkTHSbD73",
        "colab_type": "code",
        "colab": {
          "base_uri": "https://localhost:8080/",
          "height": 136
        },
        "outputId": "fa5cf25f-7d29-4ee6-a993-546e48655f5b"
      },
      "source": [
        "#listamos los json\n",
        "extension = 'json'\n",
        "list_files_json = [i for i in glob.glob('*.{}'.format(extension))]\n",
        "list_files_json = sorted(list_files_json, reverse=False)\n",
        "list_files_json"
      ],
      "execution_count": null,
      "outputs": [
        {
          "output_type": "execute_result",
          "data": {
            "text/plain": [
              "['features_Amarillos_cropped.json',\n",
              " 'features_Mano-Amarillo_amarillo_cropped.json',\n",
              " 'features_Mano-Amarillo_mano_cropped.json',\n",
              " 'features_Mano-Verde_mano_cropped.json',\n",
              " 'features_Mano-Verde_verde_cropped.json',\n",
              " 'features_Manos_cropped.json',\n",
              " 'features_Verdes_cropped.json']"
            ]
          },
          "metadata": {
            "tags": []
          },
          "execution_count": 436
        }
      ]
    },
    {
      "cell_type": "code",
      "metadata": {
        "id": "RziDBRXXbEI0",
        "colab_type": "code",
        "colab": {
          "base_uri": "https://localhost:8080/",
          "height": 136
        },
        "outputId": "b5691e7b-6e85-48ee-c2d8-0b46992e17cb"
      },
      "source": [
        "#Leemos y ordenamos por nombre los archivos csv:\n",
        "for csv_df in list_files_csv:\n",
        "  cropped_df = pd.read_csv(csv_df, index_col=0).sort_values(by=['filename'])\n",
        "  print(csv_df, ':', cropped_df.shape)\n",
        "  "
      ],
      "execution_count": null,
      "outputs": [
        {
          "output_type": "stream",
          "text": [
            "Amarillos_cropped_df.csv : (428, 13)\n",
            "Mano-Amarillo_amarillo_cropped_df.csv : (86, 13)\n",
            "Mano-Amarillo_mano_cropped_df.csv : (87, 13)\n",
            "Mano-Verde_mano_cropped_df.csv : (86, 13)\n",
            "Mano-Verde_verde_cropped_df.csv : (83, 13)\n",
            "Manos_cropped_df.csv : (489, 13)\n",
            "Verdes_cropped_df.csv : (409, 13)\n"
          ],
          "name": "stdout"
        }
      ]
    },
    {
      "cell_type": "code",
      "metadata": {
        "id": "x1ZVfdH2g30n",
        "colab_type": "code",
        "colab": {
          "base_uri": "https://localhost:8080/",
          "height": 255
        },
        "outputId": "a368c793-0db7-423c-f69c-2501ed4ecc35"
      },
      "source": [
        "#acá armamos todos los archivos con los features de cada una de las carpetas:\n",
        "for json_file in list_files_json:\n",
        "  json_csv_name = json_file[:-5]+'_json_df.csv'\n",
        "  print(json_csv_name)\n",
        "\n",
        "  df = pd.read_json(json_file)\n",
        "  df_json_transpose = df.T.reset_index().copy()\n",
        "  #print(df_json_transpose.shape)\n",
        "\n",
        "  #para listar solo los nombres de los '.jpg'\n",
        "  list_index_json = df_json_transpose['index']\n",
        "  #print(len(list_index_json))\n",
        "\n",
        "  index_json = []\n",
        "\n",
        "  for file_jpg in list_index_json:\n",
        "    x = re.search('[A-Z]\\w+_.+jpg', file_jpg)\n",
        "    index_json.append(x.group())\n",
        "\n",
        "  #print(len(index_json)) \n",
        "\n",
        "  df_json_transpose['filename'] = index_json\n",
        "  df_json_transpose = df_json_transpose.drop(['index'], axis=1)\n",
        "  df_json_transpose = df_json_transpose.set_index('filename')\n",
        "  df_json_transpose = df_json_transpose.reset_index().sort_values(by=['filename']).copy()\n",
        "  print(df_json_transpose.shape)\n",
        "  #df_json_transpose.to_csv(json_csv_name)"
      ],
      "execution_count": null,
      "outputs": [
        {
          "output_type": "stream",
          "text": [
            "features_Amarillos_cropped_json_df.csv\n",
            "(428, 2049)\n",
            "features_Mano-Amarillo_amarillo_cropped_json_df.csv\n",
            "(86, 2049)\n",
            "features_Mano-Amarillo_mano_cropped_json_df.csv\n",
            "(87, 2049)\n",
            "features_Mano-Verde_mano_cropped_json_df.csv\n",
            "(86, 2049)\n",
            "features_Mano-Verde_verde_cropped_json_df.csv\n",
            "(83, 2049)\n",
            "features_Manos_cropped_json_df.csv\n",
            "(489, 2049)\n",
            "features_Verdes_cropped_json_df.csv\n",
            "(409, 2049)\n"
          ],
          "name": "stdout"
        }
      ]
    },
    {
      "cell_type": "code",
      "metadata": {
        "id": "vl4XwqXMiFcO",
        "colab_type": "code",
        "colab": {
          "base_uri": "https://localhost:8080/",
          "height": 136
        },
        "outputId": "33934a69-0f5f-4fd6-c7fb-c77cd689c261"
      },
      "source": [
        "#listamos los json\n",
        "extension = 'csv'\n",
        "list_files_json_csv = [i for i in glob.glob('*cropped_json_df.{}'.format(extension))]\n",
        "list_files_json_csv = sorted(list_files_json_csv, reverse=False)\n",
        "list_files_json_csv"
      ],
      "execution_count": null,
      "outputs": [
        {
          "output_type": "execute_result",
          "data": {
            "text/plain": [
              "['features_Amarillos_cropped_json_df.csv',\n",
              " 'features_Mano-Amarillo_amarillo_cropped_json_df.csv',\n",
              " 'features_Mano-Amarillo_mano_cropped_json_df.csv',\n",
              " 'features_Mano-Verde_mano_cropped_json_df.csv',\n",
              " 'features_Mano-Verde_verde_cropped_json_df.csv',\n",
              " 'features_Manos_cropped_json_df.csv',\n",
              " 'features_Verdes_cropped_json_df.csv']"
            ]
          },
          "metadata": {
            "tags": []
          },
          "execution_count": 440
        }
      ]
    },
    {
      "cell_type": "code",
      "metadata": {
        "id": "45fRFQgaskBz",
        "colab_type": "code",
        "colab": {
          "base_uri": "https://localhost:8080/",
          "height": 35
        },
        "outputId": "d51866cf-8241-497e-92d9-6013e2e1ee74"
      },
      "source": [
        "result_name = csv_df[:-7] + '_features_labels_df.csv'\n",
        "result_name"
      ],
      "execution_count": null,
      "outputs": [
        {
          "output_type": "execute_result",
          "data": {
            "application/vnd.google.colaboratory.intrinsic": {
              "type": "string"
            },
            "text/plain": [
              "'Verdes_cropped_features_labels_df.csv'"
            ]
          },
          "metadata": {
            "tags": []
          },
          "execution_count": 444
        }
      ]
    },
    {
      "cell_type": "code",
      "metadata": {
        "id": "B9BhZHn9idae",
        "colab_type": "code",
        "colab": {
          "base_uri": "https://localhost:8080/",
          "height": 374
        },
        "outputId": "218727d8-6300-4ca2-cc40-aae022591924"
      },
      "source": [
        "for csv_df, json_csv_file in zip(list_files_csv, list_files_json_csv):\n",
        "  left  = pd.read_csv(csv_df, index_col=0).sort_values(by=['filename'])\n",
        "  right = pd.read_csv(json_csv_file, index_col=0).sort_values(by=['filename'])\n",
        "  print('left', csv_df, ':', left.shape)\n",
        "  print('right', json_csv_file, ':', right.shape)\n",
        "  result = pd.merge(left, right, on='filename')\n",
        "  result_name_df = result.copy()\n",
        "  print(result_name_df.shape)\n",
        "  result_name = csv_df[:-7] + '_features_labels_df.csv'\n",
        "  #result_name_df.to_csv(result_name) \n",
        "  "
      ],
      "execution_count": null,
      "outputs": [
        {
          "output_type": "stream",
          "text": [
            "left Amarillos_cropped_df.csv : (428, 13)\n",
            "right features_Amarillos_cropped_json_df.csv : (428, 2049)\n",
            "(428, 2061)\n",
            "left Mano-Amarillo_amarillo_cropped_df.csv : (86, 13)\n",
            "right features_Mano-Amarillo_amarillo_cropped_json_df.csv : (86, 2049)\n",
            "(86, 2061)\n",
            "left Mano-Amarillo_mano_cropped_df.csv : (87, 13)\n",
            "right features_Mano-Amarillo_mano_cropped_json_df.csv : (87, 2049)\n",
            "(87, 2061)\n",
            "left Mano-Verde_mano_cropped_df.csv : (86, 13)\n",
            "right features_Mano-Verde_mano_cropped_json_df.csv : (86, 2049)\n",
            "(86, 2061)\n",
            "left Mano-Verde_verde_cropped_df.csv : (83, 13)\n",
            "right features_Mano-Verde_verde_cropped_json_df.csv : (83, 2049)\n",
            "(83, 2061)\n",
            "left Manos_cropped_df.csv : (489, 13)\n",
            "right features_Manos_cropped_json_df.csv : (489, 2049)\n",
            "(489, 2061)\n",
            "left Verdes_cropped_df.csv : (409, 13)\n",
            "right features_Verdes_cropped_json_df.csv : (409, 2049)\n",
            "(409, 2061)\n"
          ],
          "name": "stdout"
        }
      ]
    },
    {
      "cell_type": "code",
      "metadata": {
        "id": "IfVtGESIidYS",
        "colab_type": "code",
        "colab": {
          "base_uri": "https://localhost:8080/",
          "height": 71
        },
        "outputId": "b05c9a2b-706b-45dd-897a-2463453c960f"
      },
      "source": [
        "#listamos los csv\n",
        "extension = 'csv'\n",
        "list_files_features_csv = [i for i in glob.glob('*features_labels_df.{}'.format(extension))]\n",
        "list_files_features_csv = sorted(list_files_features_csv, reverse=False)\n",
        "print(list_files_features_csv)\n",
        "print(len(list_files_features_csv))"
      ],
      "execution_count": null,
      "outputs": [
        {
          "output_type": "stream",
          "text": [
            "['Amarillos_cropped_features_labels_df.csv', 'Mano-Amarillo_amarillo_cropped_features_labels_df.csv', 'Mano-Amarillo_mano_cropped_features_labels_df.csv', 'Mano-Verde_mano_cropped_features_labels_df.csv', 'Mano-Verde_verde_cropped_features_labels_df.csv', 'Manos_cropped_features_labels_df.csv', 'Verdes_cropped_features_labels_df.csv']\n",
            "7\n"
          ],
          "name": "stdout"
        }
      ]
    },
    {
      "cell_type": "code",
      "metadata": {
        "id": "5nWpPZulfSH6",
        "colab_type": "code",
        "colab": {}
      },
      "source": [
        "#juntamos todos los arhivos en una hermosa y gigante tabla final!! \n",
        "csv_wlabels = (pd.read_csv(f, index_col=0) for f in list_files_features_csv)\n",
        "csv_wlabels_muestra_df = pd.concat(csv_wlabels, ignore_index=True)\n",
        "print(csv_wlabels_muestra_df.shape)\n",
        "csv_wlabels_muestra_df.head()\n",
        "#csv_wlabels_muestra_df.to_csv('csv_wlabels_muestra_df.csv') "
      ],
      "execution_count": null,
      "outputs": []
    },
    {
      "cell_type": "code",
      "metadata": {
        "id": "rFW9MpaFwh1m",
        "colab_type": "code",
        "colab": {
          "base_uri": "https://localhost:8080/",
          "height": 270
        },
        "outputId": "92a44b6c-cd13-44f9-d5af-5e07bfb4269d"
      },
      "source": [
        "#leemos el archivo de la tabla:\n",
        "csv_wlabels_df = pd.read_csv('csv_wlabels_muestra_df.csv', index_col=0)\n",
        "print(csv_wlabels_df.shape)\n",
        "csv_wlabels_df.head()"
      ],
      "execution_count": null,
      "outputs": [
        {
          "output_type": "stream",
          "text": [
            "(1668, 2061)\n"
          ],
          "name": "stdout"
        },
        {
          "output_type": "execute_result",
          "data": {
            "text/html": [
              "<div>\n",
              "<style scoped>\n",
              "    .dataframe tbody tr th:only-of-type {\n",
              "        vertical-align: middle;\n",
              "    }\n",
              "\n",
              "    .dataframe tbody tr th {\n",
              "        vertical-align: top;\n",
              "    }\n",
              "\n",
              "    .dataframe thead th {\n",
              "        text-align: right;\n",
              "    }\n",
              "</style>\n",
              "<table border=\"1\" class=\"dataframe\">\n",
              "  <thead>\n",
              "    <tr style=\"text-align: right;\">\n",
              "      <th></th>\n",
              "      <th>filename</th>\n",
              "      <th>xmin</th>\n",
              "      <th>xmax</th>\n",
              "      <th>ymin</th>\n",
              "      <th>ymax</th>\n",
              "      <th>Time</th>\n",
              "      <th>Size</th>\n",
              "      <th>Type</th>\n",
              "      <th>Hand_Pixel_Width</th>\n",
              "      <th>Hand_Pixel_Height</th>\n",
              "      <th>Area</th>\n",
              "      <th>guantes</th>\n",
              "      <th>color</th>\n",
              "      <th>0</th>\n",
              "      <th>1</th>\n",
              "      <th>2</th>\n",
              "      <th>3</th>\n",
              "      <th>4</th>\n",
              "      <th>5</th>\n",
              "      <th>6</th>\n",
              "      <th>7</th>\n",
              "      <th>8</th>\n",
              "      <th>9</th>\n",
              "      <th>10</th>\n",
              "      <th>11</th>\n",
              "      <th>12</th>\n",
              "      <th>13</th>\n",
              "      <th>14</th>\n",
              "      <th>15</th>\n",
              "      <th>16</th>\n",
              "      <th>17</th>\n",
              "      <th>18</th>\n",
              "      <th>19</th>\n",
              "      <th>20</th>\n",
              "      <th>21</th>\n",
              "      <th>22</th>\n",
              "      <th>23</th>\n",
              "      <th>24</th>\n",
              "      <th>25</th>\n",
              "      <th>26</th>\n",
              "      <th>...</th>\n",
              "      <th>2008</th>\n",
              "      <th>2009</th>\n",
              "      <th>2010</th>\n",
              "      <th>2011</th>\n",
              "      <th>2012</th>\n",
              "      <th>2013</th>\n",
              "      <th>2014</th>\n",
              "      <th>2015</th>\n",
              "      <th>2016</th>\n",
              "      <th>2017</th>\n",
              "      <th>2018</th>\n",
              "      <th>2019</th>\n",
              "      <th>2020</th>\n",
              "      <th>2021</th>\n",
              "      <th>2022</th>\n",
              "      <th>2023</th>\n",
              "      <th>2024</th>\n",
              "      <th>2025</th>\n",
              "      <th>2026</th>\n",
              "      <th>2027</th>\n",
              "      <th>2028</th>\n",
              "      <th>2029</th>\n",
              "      <th>2030</th>\n",
              "      <th>2031</th>\n",
              "      <th>2032</th>\n",
              "      <th>2033</th>\n",
              "      <th>2034</th>\n",
              "      <th>2035</th>\n",
              "      <th>2036</th>\n",
              "      <th>2037</th>\n",
              "      <th>2038</th>\n",
              "      <th>2039</th>\n",
              "      <th>2040</th>\n",
              "      <th>2041</th>\n",
              "      <th>2042</th>\n",
              "      <th>2043</th>\n",
              "      <th>2044</th>\n",
              "      <th>2045</th>\n",
              "      <th>2046</th>\n",
              "      <th>2047</th>\n",
              "    </tr>\n",
              "  </thead>\n",
              "  <tbody>\n",
              "    <tr>\n",
              "      <th>0</th>\n",
              "      <td>M_G_Mostrando_Amarillos_0_double_box1.jpg</td>\n",
              "      <td>218</td>\n",
              "      <td>461</td>\n",
              "      <td>464</td>\n",
              "      <td>715</td>\n",
              "      <td>M</td>\n",
              "      <td>G</td>\n",
              "      <td>train</td>\n",
              "      <td>243</td>\n",
              "      <td>251</td>\n",
              "      <td>60993</td>\n",
              "      <td>si</td>\n",
              "      <td>Amarillo</td>\n",
              "      <td>0.740974</td>\n",
              "      <td>1.066019</td>\n",
              "      <td>0.132695</td>\n",
              "      <td>0.224892</td>\n",
              "      <td>0.140456</td>\n",
              "      <td>0.129134</td>\n",
              "      <td>0.201447</td>\n",
              "      <td>1.076733</td>\n",
              "      <td>0.461108</td>\n",
              "      <td>0.299800</td>\n",
              "      <td>0.457940</td>\n",
              "      <td>0.201904</td>\n",
              "      <td>0.569677</td>\n",
              "      <td>0.737381</td>\n",
              "      <td>0.480929</td>\n",
              "      <td>0.200076</td>\n",
              "      <td>0.018410</td>\n",
              "      <td>0.674050</td>\n",
              "      <td>0.028826</td>\n",
              "      <td>0.005310</td>\n",
              "      <td>0.128693</td>\n",
              "      <td>0.592353</td>\n",
              "      <td>0.138541</td>\n",
              "      <td>0.141684</td>\n",
              "      <td>0.363294</td>\n",
              "      <td>0.264674</td>\n",
              "      <td>0.519292</td>\n",
              "      <td>...</td>\n",
              "      <td>0.463567</td>\n",
              "      <td>0.091676</td>\n",
              "      <td>0.300955</td>\n",
              "      <td>0.696112</td>\n",
              "      <td>2.409413</td>\n",
              "      <td>0.536980</td>\n",
              "      <td>0.102273</td>\n",
              "      <td>0.157441</td>\n",
              "      <td>0.165093</td>\n",
              "      <td>1.067619</td>\n",
              "      <td>0.751934</td>\n",
              "      <td>0.231443</td>\n",
              "      <td>0.487437</td>\n",
              "      <td>0.446320</td>\n",
              "      <td>0.822407</td>\n",
              "      <td>0.527523</td>\n",
              "      <td>0.217110</td>\n",
              "      <td>0.489194</td>\n",
              "      <td>1.535306</td>\n",
              "      <td>0.521390</td>\n",
              "      <td>0.599480</td>\n",
              "      <td>0.201182</td>\n",
              "      <td>0.391337</td>\n",
              "      <td>0.040206</td>\n",
              "      <td>1.347440</td>\n",
              "      <td>0.448389</td>\n",
              "      <td>0.462778</td>\n",
              "      <td>0.590751</td>\n",
              "      <td>0.877142</td>\n",
              "      <td>0.009986</td>\n",
              "      <td>0.939221</td>\n",
              "      <td>0.859877</td>\n",
              "      <td>0.981910</td>\n",
              "      <td>0.356366</td>\n",
              "      <td>1.748501</td>\n",
              "      <td>0.288037</td>\n",
              "      <td>0.079172</td>\n",
              "      <td>0.266234</td>\n",
              "      <td>0.078312</td>\n",
              "      <td>0.421612</td>\n",
              "    </tr>\n",
              "    <tr>\n",
              "      <th>1</th>\n",
              "      <td>M_G_Mostrando_Amarillos_0_double_box2.jpg</td>\n",
              "      <td>617</td>\n",
              "      <td>865</td>\n",
              "      <td>432</td>\n",
              "      <td>598</td>\n",
              "      <td>M</td>\n",
              "      <td>G</td>\n",
              "      <td>train</td>\n",
              "      <td>248</td>\n",
              "      <td>166</td>\n",
              "      <td>41168</td>\n",
              "      <td>si</td>\n",
              "      <td>Amarillo</td>\n",
              "      <td>1.621832</td>\n",
              "      <td>0.208859</td>\n",
              "      <td>0.627041</td>\n",
              "      <td>0.061717</td>\n",
              "      <td>0.052486</td>\n",
              "      <td>0.064176</td>\n",
              "      <td>0.479256</td>\n",
              "      <td>1.068516</td>\n",
              "      <td>0.509059</td>\n",
              "      <td>0.207385</td>\n",
              "      <td>0.218195</td>\n",
              "      <td>0.169190</td>\n",
              "      <td>0.695486</td>\n",
              "      <td>0.237641</td>\n",
              "      <td>0.146711</td>\n",
              "      <td>0.126334</td>\n",
              "      <td>0.029900</td>\n",
              "      <td>0.148363</td>\n",
              "      <td>0.126833</td>\n",
              "      <td>0.181351</td>\n",
              "      <td>0.044585</td>\n",
              "      <td>0.447270</td>\n",
              "      <td>0.134360</td>\n",
              "      <td>0.113650</td>\n",
              "      <td>1.153900</td>\n",
              "      <td>0.653832</td>\n",
              "      <td>0.041024</td>\n",
              "      <td>...</td>\n",
              "      <td>0.816892</td>\n",
              "      <td>0.027489</td>\n",
              "      <td>0.183116</td>\n",
              "      <td>0.626535</td>\n",
              "      <td>1.734605</td>\n",
              "      <td>0.672962</td>\n",
              "      <td>0.030057</td>\n",
              "      <td>0.101685</td>\n",
              "      <td>0.295544</td>\n",
              "      <td>0.392251</td>\n",
              "      <td>0.874054</td>\n",
              "      <td>0.105285</td>\n",
              "      <td>0.110713</td>\n",
              "      <td>0.421417</td>\n",
              "      <td>1.335695</td>\n",
              "      <td>0.500971</td>\n",
              "      <td>1.139208</td>\n",
              "      <td>0.110803</td>\n",
              "      <td>0.850265</td>\n",
              "      <td>0.618181</td>\n",
              "      <td>0.077352</td>\n",
              "      <td>0.376629</td>\n",
              "      <td>0.319234</td>\n",
              "      <td>0.783792</td>\n",
              "      <td>0.427963</td>\n",
              "      <td>0.133063</td>\n",
              "      <td>0.064981</td>\n",
              "      <td>0.017857</td>\n",
              "      <td>0.320706</td>\n",
              "      <td>0.219192</td>\n",
              "      <td>1.199712</td>\n",
              "      <td>0.808466</td>\n",
              "      <td>0.491182</td>\n",
              "      <td>0.356616</td>\n",
              "      <td>0.812572</td>\n",
              "      <td>0.481357</td>\n",
              "      <td>0.071471</td>\n",
              "      <td>0.572322</td>\n",
              "      <td>0.052072</td>\n",
              "      <td>0.213453</td>\n",
              "    </tr>\n",
              "    <tr>\n",
              "      <th>2</th>\n",
              "      <td>M_G_Mostrando_Amarillos_105_double_box1.jpg</td>\n",
              "      <td>875</td>\n",
              "      <td>1169</td>\n",
              "      <td>321</td>\n",
              "      <td>450</td>\n",
              "      <td>M</td>\n",
              "      <td>G</td>\n",
              "      <td>train</td>\n",
              "      <td>294</td>\n",
              "      <td>129</td>\n",
              "      <td>37926</td>\n",
              "      <td>si</td>\n",
              "      <td>Amarillo</td>\n",
              "      <td>0.777015</td>\n",
              "      <td>0.350298</td>\n",
              "      <td>0.523675</td>\n",
              "      <td>0.141681</td>\n",
              "      <td>0.008227</td>\n",
              "      <td>0.364888</td>\n",
              "      <td>0.559975</td>\n",
              "      <td>1.060057</td>\n",
              "      <td>0.648008</td>\n",
              "      <td>0.075809</td>\n",
              "      <td>0.419526</td>\n",
              "      <td>0.200864</td>\n",
              "      <td>0.553840</td>\n",
              "      <td>0.182195</td>\n",
              "      <td>0.244877</td>\n",
              "      <td>0.038389</td>\n",
              "      <td>0.046786</td>\n",
              "      <td>0.020999</td>\n",
              "      <td>0.281995</td>\n",
              "      <td>0.016088</td>\n",
              "      <td>0.135179</td>\n",
              "      <td>0.635030</td>\n",
              "      <td>0.276898</td>\n",
              "      <td>0.014077</td>\n",
              "      <td>0.613297</td>\n",
              "      <td>0.622520</td>\n",
              "      <td>0.117482</td>\n",
              "      <td>...</td>\n",
              "      <td>0.250315</td>\n",
              "      <td>0.025067</td>\n",
              "      <td>0.150927</td>\n",
              "      <td>0.604435</td>\n",
              "      <td>1.067641</td>\n",
              "      <td>0.847809</td>\n",
              "      <td>0.220889</td>\n",
              "      <td>0.298962</td>\n",
              "      <td>0.535717</td>\n",
              "      <td>0.566534</td>\n",
              "      <td>0.531686</td>\n",
              "      <td>0.208911</td>\n",
              "      <td>0.254966</td>\n",
              "      <td>0.229268</td>\n",
              "      <td>1.809620</td>\n",
              "      <td>0.362365</td>\n",
              "      <td>0.468568</td>\n",
              "      <td>0.055350</td>\n",
              "      <td>1.388036</td>\n",
              "      <td>0.884211</td>\n",
              "      <td>0.340101</td>\n",
              "      <td>0.305252</td>\n",
              "      <td>0.343156</td>\n",
              "      <td>1.061346</td>\n",
              "      <td>1.043128</td>\n",
              "      <td>0.004126</td>\n",
              "      <td>0.033861</td>\n",
              "      <td>0.020319</td>\n",
              "      <td>0.621639</td>\n",
              "      <td>0.040598</td>\n",
              "      <td>0.916142</td>\n",
              "      <td>0.246840</td>\n",
              "      <td>0.688755</td>\n",
              "      <td>0.101427</td>\n",
              "      <td>0.917090</td>\n",
              "      <td>0.407893</td>\n",
              "      <td>0.343683</td>\n",
              "      <td>0.428996</td>\n",
              "      <td>0.080831</td>\n",
              "      <td>0.005678</td>\n",
              "    </tr>\n",
              "    <tr>\n",
              "      <th>3</th>\n",
              "      <td>M_G_Mostrando_Amarillos_105_double_box2.jpg</td>\n",
              "      <td>502</td>\n",
              "      <td>758</td>\n",
              "      <td>145</td>\n",
              "      <td>307</td>\n",
              "      <td>M</td>\n",
              "      <td>G</td>\n",
              "      <td>train</td>\n",
              "      <td>256</td>\n",
              "      <td>162</td>\n",
              "      <td>41472</td>\n",
              "      <td>si</td>\n",
              "      <td>Amarillo</td>\n",
              "      <td>0.206803</td>\n",
              "      <td>0.032262</td>\n",
              "      <td>0.783582</td>\n",
              "      <td>0.104788</td>\n",
              "      <td>0.198923</td>\n",
              "      <td>0.229943</td>\n",
              "      <td>0.102975</td>\n",
              "      <td>1.872409</td>\n",
              "      <td>0.646370</td>\n",
              "      <td>0.369061</td>\n",
              "      <td>0.323460</td>\n",
              "      <td>0.136720</td>\n",
              "      <td>0.515654</td>\n",
              "      <td>0.139382</td>\n",
              "      <td>0.084579</td>\n",
              "      <td>0.205710</td>\n",
              "      <td>0.007865</td>\n",
              "      <td>0.329643</td>\n",
              "      <td>0.279838</td>\n",
              "      <td>0.096330</td>\n",
              "      <td>0.003207</td>\n",
              "      <td>0.161915</td>\n",
              "      <td>0.546153</td>\n",
              "      <td>0.034820</td>\n",
              "      <td>0.178539</td>\n",
              "      <td>0.245108</td>\n",
              "      <td>0.190008</td>\n",
              "      <td>...</td>\n",
              "      <td>0.146642</td>\n",
              "      <td>0.114052</td>\n",
              "      <td>0.005513</td>\n",
              "      <td>0.370992</td>\n",
              "      <td>0.665213</td>\n",
              "      <td>1.402337</td>\n",
              "      <td>0.162487</td>\n",
              "      <td>0.155748</td>\n",
              "      <td>0.241372</td>\n",
              "      <td>0.702011</td>\n",
              "      <td>0.993891</td>\n",
              "      <td>0.174953</td>\n",
              "      <td>0.551115</td>\n",
              "      <td>0.294757</td>\n",
              "      <td>0.660277</td>\n",
              "      <td>0.545881</td>\n",
              "      <td>0.343379</td>\n",
              "      <td>0.348534</td>\n",
              "      <td>0.342936</td>\n",
              "      <td>0.632171</td>\n",
              "      <td>0.079185</td>\n",
              "      <td>0.238604</td>\n",
              "      <td>0.062875</td>\n",
              "      <td>0.798502</td>\n",
              "      <td>1.009929</td>\n",
              "      <td>0.130553</td>\n",
              "      <td>0.003187</td>\n",
              "      <td>0.115578</td>\n",
              "      <td>0.427998</td>\n",
              "      <td>0.110039</td>\n",
              "      <td>0.992854</td>\n",
              "      <td>0.904692</td>\n",
              "      <td>0.112806</td>\n",
              "      <td>0.488674</td>\n",
              "      <td>1.150740</td>\n",
              "      <td>0.275088</td>\n",
              "      <td>0.254404</td>\n",
              "      <td>0.455159</td>\n",
              "      <td>0.012721</td>\n",
              "      <td>0.091329</td>\n",
              "    </tr>\n",
              "    <tr>\n",
              "      <th>4</th>\n",
              "      <td>M_G_Mostrando_Amarillos_114_double_box1.jpg</td>\n",
              "      <td>916</td>\n",
              "      <td>1151</td>\n",
              "      <td>285</td>\n",
              "      <td>463</td>\n",
              "      <td>M</td>\n",
              "      <td>G</td>\n",
              "      <td>train</td>\n",
              "      <td>235</td>\n",
              "      <td>178</td>\n",
              "      <td>41830</td>\n",
              "      <td>si</td>\n",
              "      <td>Amarillo</td>\n",
              "      <td>0.683246</td>\n",
              "      <td>0.319097</td>\n",
              "      <td>0.322898</td>\n",
              "      <td>0.489538</td>\n",
              "      <td>0.152056</td>\n",
              "      <td>0.593756</td>\n",
              "      <td>0.177822</td>\n",
              "      <td>1.093265</td>\n",
              "      <td>0.949665</td>\n",
              "      <td>0.154196</td>\n",
              "      <td>0.645907</td>\n",
              "      <td>0.270926</td>\n",
              "      <td>0.383814</td>\n",
              "      <td>0.204949</td>\n",
              "      <td>0.398145</td>\n",
              "      <td>0.102344</td>\n",
              "      <td>0.060811</td>\n",
              "      <td>0.121956</td>\n",
              "      <td>0.028302</td>\n",
              "      <td>0.120451</td>\n",
              "      <td>0.244606</td>\n",
              "      <td>0.387735</td>\n",
              "      <td>0.251303</td>\n",
              "      <td>0.236359</td>\n",
              "      <td>0.880333</td>\n",
              "      <td>0.466272</td>\n",
              "      <td>0.185311</td>\n",
              "      <td>...</td>\n",
              "      <td>0.652505</td>\n",
              "      <td>0.140662</td>\n",
              "      <td>0.354066</td>\n",
              "      <td>0.571745</td>\n",
              "      <td>2.067905</td>\n",
              "      <td>1.038591</td>\n",
              "      <td>0.099552</td>\n",
              "      <td>0.280820</td>\n",
              "      <td>0.516782</td>\n",
              "      <td>0.820352</td>\n",
              "      <td>0.601326</td>\n",
              "      <td>0.042655</td>\n",
              "      <td>0.119472</td>\n",
              "      <td>0.094523</td>\n",
              "      <td>2.042640</td>\n",
              "      <td>0.790532</td>\n",
              "      <td>0.266744</td>\n",
              "      <td>0.056142</td>\n",
              "      <td>0.620942</td>\n",
              "      <td>0.859705</td>\n",
              "      <td>0.439731</td>\n",
              "      <td>0.290626</td>\n",
              "      <td>0.310608</td>\n",
              "      <td>0.721135</td>\n",
              "      <td>0.988298</td>\n",
              "      <td>0.026431</td>\n",
              "      <td>0.317181</td>\n",
              "      <td>0.199194</td>\n",
              "      <td>0.524838</td>\n",
              "      <td>0.139992</td>\n",
              "      <td>1.304742</td>\n",
              "      <td>0.415517</td>\n",
              "      <td>0.652986</td>\n",
              "      <td>0.141079</td>\n",
              "      <td>1.024287</td>\n",
              "      <td>0.117491</td>\n",
              "      <td>0.007151</td>\n",
              "      <td>0.294575</td>\n",
              "      <td>0.217550</td>\n",
              "      <td>0.240535</td>\n",
              "    </tr>\n",
              "  </tbody>\n",
              "</table>\n",
              "<p>5 rows × 2061 columns</p>\n",
              "</div>"
            ],
            "text/plain": [
              "                                      filename  xmin  ...      2046      2047\n",
              "0    M_G_Mostrando_Amarillos_0_double_box1.jpg   218  ...  0.078312  0.421612\n",
              "1    M_G_Mostrando_Amarillos_0_double_box2.jpg   617  ...  0.052072  0.213453\n",
              "2  M_G_Mostrando_Amarillos_105_double_box1.jpg   875  ...  0.080831  0.005678\n",
              "3  M_G_Mostrando_Amarillos_105_double_box2.jpg   502  ...  0.012721  0.091329\n",
              "4  M_G_Mostrando_Amarillos_114_double_box1.jpg   916  ...  0.217550  0.240535\n",
              "\n",
              "[5 rows x 2061 columns]"
            ]
          },
          "metadata": {
            "tags": []
          },
          "execution_count": 287
        }
      ]
    },
    {
      "cell_type": "markdown",
      "metadata": {
        "id": "9U818dbkVveF",
        "colab_type": "text"
      },
      "source": [
        "Para analizar esta tabla (con algunas modificaciones, acorde a la materia *'Análisis y Curación'*) pueden ir a la notebook: *[3-Análisis_y_Curación-Detección_de_Objetos](https://colab.research.google.com/drive/1E6ZUVrYo_n-YS5Hfc5MdIvB9j03ayJXi?usp=sharing)'*"
      ]
    }
  ]
}